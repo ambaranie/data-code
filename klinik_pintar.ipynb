{
 "cells": [
  {
   "cell_type": "markdown",
   "id": "fe7d8361",
   "metadata": {
    "id": "fe7d8361"
   },
   "source": [
    "### Klinik Pintar\n",
    "**Tujuan**\n",
    "- Memahami data persebaran penyakit di lokasi dan waktu tertentu <br>\n",
    "Sebagai pertimbangan bagi Klinik Pintar menentukan prioritas perancangan layanan kesehatan yang disediakan oleh klinik dan farmalkes yang cocok untuk ditawarkan ke klinik di area tersebut \n",
    "- Memahami data penggunaan jenis pembayaran dan korelasinya dengan penyakit yang ditangani <br>\n",
    "Sebagai pertimbangan bagi Klinik Pintar menentukan prioritas pengembangan aplikasi yang mendukung proses pelayanan di fasyankes dengan jenis pembayaran dan penyakit tertentu.\n",
    "- Eksplorasi data <br>\n",
    "Insight tambahan yang memberikan value terhadap unit bisnis Klinik Pintar mencakup dan tidak terbatas prediksi data di waktu akan datang.\n",
    "\n",
    "**Dataset :**\n",
    "- registration_created_at: Waktu kunjungan/registrasi pasien\n",
    "- patient_financing : Jenis pembayaran yang digunakan pasien saat kunjungan\n",
    "- patient_insurance : Nama asuransi/penjamin yang digunakan pasien saat kunjungan\n",
    "- clinic_regency : Lokasi kota/kabupaten klinik yang dikunjungi pasien\n",
    "- clinic_province : Lokasi provinsi klinik yang dikunjungi pasien\n",
    "- patient_birth_date : Tanggal lahir pasien\n",
    "- patient_gender Jenis kelamin pasien\n",
    "- patient_smoke : Status merokok pasien\n",
    "- patient_blood_type : Golongan darah pasien\n",
    "- medical_record_created_at : Tanggal resume medis dibuat\n",
    "- icd_10 : Kode diagnosis penyakit yang ditetapkan setelah konsultasi dokter\n",
    "- patient_id : id pasien yang berkunjung ke klinik\n"
   ]
  },
  {
   "cell_type": "markdown",
   "id": "213b924e",
   "metadata": {
    "id": "213b924e"
   },
   "source": [
    "### Import Library"
   ]
  },
  {
   "cell_type": "code",
   "execution_count": 1,
   "id": "274cdc08",
   "metadata": {
    "id": "274cdc08"
   },
   "outputs": [],
   "source": [
    "#import library\n",
    "import pandas as pd\n",
    "import seaborn as sns\n",
    "import numpy as np\n",
    "import matplotlib.pyplot as plt\n",
    "\n",
    "import warnings\n",
    "warnings.filterwarnings('ignore')"
   ]
  },
  {
   "cell_type": "markdown",
   "id": "cf4490ab",
   "metadata": {
    "id": "cf4490ab"
   },
   "source": [
    "### Import dataset"
   ]
  },
  {
   "cell_type": "code",
   "execution_count": 2,
   "id": "4ff137cc",
   "metadata": {
    "colab": {
     "base_uri": "https://localhost:8080/",
     "height": 565
    },
    "id": "4ff137cc",
    "outputId": "6d989f0b-25a3-4fd4-dd98-a72f3633910f"
   },
   "outputs": [
    {
     "data": {
      "text/html": [
       "<div>\n",
       "<style scoped>\n",
       "    .dataframe tbody tr th:only-of-type {\n",
       "        vertical-align: middle;\n",
       "    }\n",
       "\n",
       "    .dataframe tbody tr th {\n",
       "        vertical-align: top;\n",
       "    }\n",
       "\n",
       "    .dataframe thead th {\n",
       "        text-align: right;\n",
       "    }\n",
       "</style>\n",
       "<table border=\"1\" class=\"dataframe\">\n",
       "  <thead>\n",
       "    <tr style=\"text-align: right;\">\n",
       "      <th></th>\n",
       "      <th>registration_created_at</th>\n",
       "      <th>patient_financing</th>\n",
       "      <th>patient_insurance</th>\n",
       "      <th>clinic_province</th>\n",
       "      <th>clinic_regency</th>\n",
       "      <th>patient_id</th>\n",
       "      <th>patient_birth_date</th>\n",
       "      <th>patient_gender</th>\n",
       "      <th>patient_smoke</th>\n",
       "      <th>patient_blood_type</th>\n",
       "      <th>medical_record_created_at</th>\n",
       "      <th>icd_10</th>\n",
       "    </tr>\n",
       "  </thead>\n",
       "  <tbody>\n",
       "    <tr>\n",
       "      <th>0</th>\n",
       "      <td>2019-02-01 14:52:29</td>\n",
       "      <td>Pribadi</td>\n",
       "      <td>NaN</td>\n",
       "      <td>DKI Jakarta</td>\n",
       "      <td>Kota Jakarta Barat</td>\n",
       "      <td>28cd2e70-25f6-11e9-ac7e-45f1bbbf3753</td>\n",
       "      <td>1997-05-25</td>\n",
       "      <td>Female</td>\n",
       "      <td>Not smoking</td>\n",
       "      <td>NaN</td>\n",
       "      <td>2019-02-01 14:53:51</td>\n",
       "      <td>Demam tifoid</td>\n",
       "    </tr>\n",
       "    <tr>\n",
       "      <th>1</th>\n",
       "      <td>2019-02-04 9:48:30</td>\n",
       "      <td>Pribadi</td>\n",
       "      <td>NaN</td>\n",
       "      <td>DKI Jakarta</td>\n",
       "      <td>Kota Jakarta Barat</td>\n",
       "      <td>eb9e5cb0-2826-11e9-83a9-4f96e4a4398f</td>\n",
       "      <td>1990-01-01</td>\n",
       "      <td>Female</td>\n",
       "      <td>Not smoking</td>\n",
       "      <td>NaN</td>\n",
       "      <td>2019-02-04 9:49:29</td>\n",
       "      <td>Demam tifoid</td>\n",
       "    </tr>\n",
       "    <tr>\n",
       "      <th>2</th>\n",
       "      <td>2019-02-04 11:59:54</td>\n",
       "      <td>Pribadi</td>\n",
       "      <td>NaN</td>\n",
       "      <td>DKI Jakarta</td>\n",
       "      <td>Kota Jakarta Barat</td>\n",
       "      <td>28cd2e70-25f6-11e9-ac7e-45f1bbbf3753</td>\n",
       "      <td>1997-05-25</td>\n",
       "      <td>Female</td>\n",
       "      <td>Not smoking</td>\n",
       "      <td>NaN</td>\n",
       "      <td>2019-02-04 12:00:38</td>\n",
       "      <td>Cholera</td>\n",
       "    </tr>\n",
       "    <tr>\n",
       "      <th>3</th>\n",
       "      <td>2019-02-04 11:59:54</td>\n",
       "      <td>Pribadi</td>\n",
       "      <td>NaN</td>\n",
       "      <td>DKI Jakarta</td>\n",
       "      <td>Kota Jakarta Barat</td>\n",
       "      <td>28cd2e70-25f6-11e9-ac7e-45f1bbbf3753</td>\n",
       "      <td>1997-05-25</td>\n",
       "      <td>Female</td>\n",
       "      <td>Not smoking</td>\n",
       "      <td>NaN</td>\n",
       "      <td>2019-02-04 12:00:38</td>\n",
       "      <td>Cholera due to Vibrio cholerae 01, biovar chol...</td>\n",
       "    </tr>\n",
       "    <tr>\n",
       "      <th>4</th>\n",
       "      <td>2019-02-26 12:01:11</td>\n",
       "      <td>Pribadi</td>\n",
       "      <td>NaN</td>\n",
       "      <td>Banten</td>\n",
       "      <td>Kabupaten Pandeglang</td>\n",
       "      <td>447a4040-3983-11e9-917a-c580f9034604</td>\n",
       "      <td>1993-02-11</td>\n",
       "      <td>Male</td>\n",
       "      <td>Smoking</td>\n",
       "      <td>AB</td>\n",
       "      <td>2019-02-26 12:11:42</td>\n",
       "      <td>Mild mental retardation</td>\n",
       "    </tr>\n",
       "  </tbody>\n",
       "</table>\n",
       "</div>"
      ],
      "text/plain": [
       "  registration_created_at patient_financing patient_insurance clinic_province  \\\n",
       "0     2019-02-01 14:52:29           Pribadi               NaN     DKI Jakarta   \n",
       "1      2019-02-04 9:48:30           Pribadi               NaN     DKI Jakarta   \n",
       "2     2019-02-04 11:59:54           Pribadi               NaN     DKI Jakarta   \n",
       "3     2019-02-04 11:59:54           Pribadi               NaN     DKI Jakarta   \n",
       "4     2019-02-26 12:01:11           Pribadi               NaN          Banten   \n",
       "\n",
       "         clinic_regency                            patient_id  \\\n",
       "0    Kota Jakarta Barat  28cd2e70-25f6-11e9-ac7e-45f1bbbf3753   \n",
       "1    Kota Jakarta Barat  eb9e5cb0-2826-11e9-83a9-4f96e4a4398f   \n",
       "2    Kota Jakarta Barat  28cd2e70-25f6-11e9-ac7e-45f1bbbf3753   \n",
       "3    Kota Jakarta Barat  28cd2e70-25f6-11e9-ac7e-45f1bbbf3753   \n",
       "4  Kabupaten Pandeglang  447a4040-3983-11e9-917a-c580f9034604   \n",
       "\n",
       "  patient_birth_date patient_gender patient_smoke patient_blood_type  \\\n",
       "0         1997-05-25         Female   Not smoking                NaN   \n",
       "1         1990-01-01         Female   Not smoking                NaN   \n",
       "2         1997-05-25         Female   Not smoking                NaN   \n",
       "3         1997-05-25         Female   Not smoking                NaN   \n",
       "4         1993-02-11           Male       Smoking                 AB   \n",
       "\n",
       "  medical_record_created_at                                             icd_10  \n",
       "0       2019-02-01 14:53:51                                       Demam tifoid  \n",
       "1        2019-02-04 9:49:29                                       Demam tifoid  \n",
       "2       2019-02-04 12:00:38                                            Cholera  \n",
       "3       2019-02-04 12:00:38  Cholera due to Vibrio cholerae 01, biovar chol...  \n",
       "4       2019-02-26 12:11:42                            Mild mental retardation  "
      ]
     },
     "execution_count": 2,
     "metadata": {},
     "output_type": "execute_result"
    }
   ],
   "source": [
    "#import dataset\n",
    "df = pd.read_csv('Penyakit Pasien.csv')\n",
    "df.head()"
   ]
  },
  {
   "cell_type": "markdown",
   "id": "574afeb6",
   "metadata": {
    "id": "574afeb6"
   },
   "source": [
    "### Check Dataset"
   ]
  },
  {
   "cell_type": "markdown",
   "id": "1e2843ba",
   "metadata": {
    "id": "1e2843ba"
   },
   "source": [
    "**1. Check Info Data**"
   ]
  },
  {
   "cell_type": "code",
   "execution_count": 3,
   "id": "c7a26386",
   "metadata": {
    "colab": {
     "base_uri": "https://localhost:8080/"
    },
    "id": "c7a26386",
    "outputId": "d2ed3604-bee5-4a68-8038-5ec3835a2d37"
   },
   "outputs": [
    {
     "name": "stdout",
     "output_type": "stream",
     "text": [
      "<class 'pandas.core.frame.DataFrame'>\n",
      "RangeIndex: 168034 entries, 0 to 168033\n",
      "Data columns (total 12 columns):\n",
      " #   Column                     Non-Null Count   Dtype \n",
      "---  ------                     --------------   ----- \n",
      " 0   registration_created_at    168034 non-null  object\n",
      " 1   patient_financing          167967 non-null  object\n",
      " 2   patient_insurance          105092 non-null  object\n",
      " 3   clinic_province            167720 non-null  object\n",
      " 4   clinic_regency             109148 non-null  object\n",
      " 5   patient_id                 168034 non-null  object\n",
      " 6   patient_birth_date         168034 non-null  object\n",
      " 7   patient_gender             168034 non-null  object\n",
      " 8   patient_smoke              168034 non-null  object\n",
      " 9   patient_blood_type         36378 non-null   object\n",
      " 10  medical_record_created_at  168034 non-null  object\n",
      " 11  icd_10                     168027 non-null  object\n",
      "dtypes: object(12)\n",
      "memory usage: 15.4+ MB\n"
     ]
    }
   ],
   "source": [
    "#check data info\n",
    "df.info()"
   ]
  },
  {
   "cell_type": "markdown",
   "id": "fb52f0be",
   "metadata": {
    "id": "fb52f0be"
   },
   "source": [
    "Terdapat kolom yang masih blm sesuai type datanya (registration_created_at, patient_birth_date, medical_record_created_at) yang masih bertipe object yang seharusnya datetime."
   ]
  },
  {
   "cell_type": "code",
   "execution_count": 4,
   "id": "160c9609",
   "metadata": {
    "colab": {
     "base_uri": "https://localhost:8080/"
    },
    "id": "160c9609",
    "outputId": "0ce65798-9043-42e2-a956-999732fca25f"
   },
   "outputs": [
    {
     "data": {
      "text/plain": [
       "registration_created_at           0\n",
       "patient_financing                67\n",
       "patient_insurance             62942\n",
       "clinic_province                 314\n",
       "clinic_regency                58886\n",
       "patient_id                        0\n",
       "patient_birth_date                0\n",
       "patient_gender                    0\n",
       "patient_smoke                     0\n",
       "patient_blood_type           131656\n",
       "medical_record_created_at         0\n",
       "icd_10                            7\n",
       "dtype: int64"
      ]
     },
     "execution_count": 4,
     "metadata": {},
     "output_type": "execute_result"
    }
   ],
   "source": [
    "#check total missing values per column\n",
    "df.isnull().sum()"
   ]
  },
  {
   "cell_type": "code",
   "execution_count": 5,
   "id": "07d84376",
   "metadata": {
    "colab": {
     "base_uri": "https://localhost:8080/"
    },
    "id": "07d84376",
    "outputId": "4d8df3e2-8a41-4d59-ddc5-7e91071b6132"
   },
   "outputs": [
    {
     "name": "stdout",
     "output_type": "stream",
     "text": [
      "Persentages (%) Missing Values :\n",
      "registration_created_at       0.000000\n",
      "patient_financing             0.039873\n",
      "patient_insurance            37.457895\n",
      "clinic_province               0.186867\n",
      "clinic_regency               35.044098\n",
      "patient_id                    0.000000\n",
      "patient_birth_date            0.000000\n",
      "patient_gender                0.000000\n",
      "patient_smoke                 0.000000\n",
      "patient_blood_type           78.350810\n",
      "medical_record_created_at     0.000000\n",
      "icd_10                        0.004166\n",
      "dtype: float64\n"
     ]
    }
   ],
   "source": [
    "#Check for Missing Values in percentage \n",
    "print('Persentages (%) Missing Values :')\n",
    "print((df.isnull().sum()/len(df))*100)"
   ]
  },
  {
   "cell_type": "markdown",
   "id": "d4b6ed13",
   "metadata": {
    "id": "d4b6ed13"
   },
   "source": [
    "**2. Check Duplicate**"
   ]
  },
  {
   "cell_type": "code",
   "execution_count": 6,
   "id": "b38c3b66",
   "metadata": {
    "colab": {
     "base_uri": "https://localhost:8080/"
    },
    "id": "b38c3b66",
    "outputId": "52f42158-5a2e-47a9-9747-5db0546cf5e7"
   },
   "outputs": [
    {
     "name": "stdout",
     "output_type": "stream",
     "text": [
      "Data duplicate : 37\n"
     ]
    }
   ],
   "source": [
    "#Check for Duplicates \n",
    "print((\"Data duplicate : %s\" %df.duplicated().sum()))"
   ]
  },
  {
   "cell_type": "markdown",
   "id": "575f1bfb",
   "metadata": {
    "id": "575f1bfb"
   },
   "source": [
    "Terdapat 37 data duplicate, kita akan lihat data mana saja yang duplicate"
   ]
  },
  {
   "cell_type": "code",
   "execution_count": 7,
   "id": "b1c0fd85",
   "metadata": {
    "colab": {
     "base_uri": "https://localhost:8080/",
     "height": 1000
    },
    "id": "b1c0fd85",
    "outputId": "7a528409-b884-49c0-b1c1-29f061087588"
   },
   "outputs": [
    {
     "data": {
      "text/html": [
       "<div>\n",
       "<style scoped>\n",
       "    .dataframe tbody tr th:only-of-type {\n",
       "        vertical-align: middle;\n",
       "    }\n",
       "\n",
       "    .dataframe tbody tr th {\n",
       "        vertical-align: top;\n",
       "    }\n",
       "\n",
       "    .dataframe thead th {\n",
       "        text-align: right;\n",
       "    }\n",
       "</style>\n",
       "<table border=\"1\" class=\"dataframe\">\n",
       "  <thead>\n",
       "    <tr style=\"text-align: right;\">\n",
       "      <th></th>\n",
       "      <th>registration_created_at</th>\n",
       "      <th>patient_financing</th>\n",
       "      <th>patient_insurance</th>\n",
       "      <th>clinic_province</th>\n",
       "      <th>clinic_regency</th>\n",
       "      <th>patient_id</th>\n",
       "      <th>patient_birth_date</th>\n",
       "      <th>patient_gender</th>\n",
       "      <th>patient_smoke</th>\n",
       "      <th>patient_blood_type</th>\n",
       "      <th>medical_record_created_at</th>\n",
       "      <th>icd_10</th>\n",
       "    </tr>\n",
       "  </thead>\n",
       "  <tbody>\n",
       "    <tr>\n",
       "      <th>46939</th>\n",
       "      <td>2022-07-30 17:14:18</td>\n",
       "      <td>Asuransi/Jaminan</td>\n",
       "      <td>BPJS Kesehatan</td>\n",
       "      <td>JAWA BARAT</td>\n",
       "      <td>NaN</td>\n",
       "      <td>86781ea0-3db1-11ea-afc3-9d3dfaacb48b</td>\n",
       "      <td>1968-04-18</td>\n",
       "      <td>Female</td>\n",
       "      <td>Not smoking</td>\n",
       "      <td>AB</td>\n",
       "      <td>2022-07-30 17:21:03</td>\n",
       "      <td>Other headache syndromes</td>\n",
       "    </tr>\n",
       "    <tr>\n",
       "      <th>46940</th>\n",
       "      <td>2022-07-30 17:14:18</td>\n",
       "      <td>Asuransi/Jaminan</td>\n",
       "      <td>BPJS Kesehatan</td>\n",
       "      <td>JAWA BARAT</td>\n",
       "      <td>NaN</td>\n",
       "      <td>86781ea0-3db1-11ea-afc3-9d3dfaacb48b</td>\n",
       "      <td>1968-04-18</td>\n",
       "      <td>Female</td>\n",
       "      <td>Not smoking</td>\n",
       "      <td>AB</td>\n",
       "      <td>2022-07-30 17:21:03</td>\n",
       "      <td>Other headache syndromes</td>\n",
       "    </tr>\n",
       "    <tr>\n",
       "      <th>47318</th>\n",
       "      <td>2022-08-06 17:59:28</td>\n",
       "      <td>Asuransi/Jaminan</td>\n",
       "      <td>BPJS Kesehatan</td>\n",
       "      <td>JAWA BARAT</td>\n",
       "      <td>NaN</td>\n",
       "      <td>e68b92c0-1060-11eb-a709-1f5ed32fed5f</td>\n",
       "      <td>1985-06-10</td>\n",
       "      <td>Female</td>\n",
       "      <td>Not smoking</td>\n",
       "      <td>O</td>\n",
       "      <td>2022-08-06 18:25:48</td>\n",
       "      <td>Pencernaan yg terganggu</td>\n",
       "    </tr>\n",
       "    <tr>\n",
       "      <th>47319</th>\n",
       "      <td>2022-08-06 17:59:28</td>\n",
       "      <td>Asuransi/Jaminan</td>\n",
       "      <td>BPJS Kesehatan</td>\n",
       "      <td>JAWA BARAT</td>\n",
       "      <td>NaN</td>\n",
       "      <td>e68b92c0-1060-11eb-a709-1f5ed32fed5f</td>\n",
       "      <td>1985-06-10</td>\n",
       "      <td>Female</td>\n",
       "      <td>Not smoking</td>\n",
       "      <td>O</td>\n",
       "      <td>2022-08-06 18:25:48</td>\n",
       "      <td>Pencernaan yg terganggu</td>\n",
       "    </tr>\n",
       "    <tr>\n",
       "      <th>50150</th>\n",
       "      <td>2022-09-24 16:50:33</td>\n",
       "      <td>Pribadi</td>\n",
       "      <td>NaN</td>\n",
       "      <td>BANTEN</td>\n",
       "      <td>KAB. PANDEGLANG</td>\n",
       "      <td>1d34a930-3bec-11ed-aa3f-85b555b3524d</td>\n",
       "      <td>1982-07-21</td>\n",
       "      <td>Female</td>\n",
       "      <td>Not smoking</td>\n",
       "      <td>NaN</td>\n",
       "      <td>2022-09-24 16:54:30</td>\n",
       "      <td>Other specified diabetes mellitus</td>\n",
       "    </tr>\n",
       "    <tr>\n",
       "      <th>...</th>\n",
       "      <td>...</td>\n",
       "      <td>...</td>\n",
       "      <td>...</td>\n",
       "      <td>...</td>\n",
       "      <td>...</td>\n",
       "      <td>...</td>\n",
       "      <td>...</td>\n",
       "      <td>...</td>\n",
       "      <td>...</td>\n",
       "      <td>...</td>\n",
       "      <td>...</td>\n",
       "      <td>...</td>\n",
       "    </tr>\n",
       "    <tr>\n",
       "      <th>163468</th>\n",
       "      <td>2023-05-17 10:18:56</td>\n",
       "      <td>Asuransi/Jaminan</td>\n",
       "      <td>BPJS Kesehatan</td>\n",
       "      <td>Banten</td>\n",
       "      <td>Tangerang (Kota)</td>\n",
       "      <td>93157f30-d85f-11ed-9594-dfbec08efe30</td>\n",
       "      <td>2017-07-06</td>\n",
       "      <td>Male</td>\n",
       "      <td>Not smoking</td>\n",
       "      <td>NaN</td>\n",
       "      <td>2023-05-17 10:39:32</td>\n",
       "      <td>Acute upper respiratory infections of multiple...</td>\n",
       "    </tr>\n",
       "    <tr>\n",
       "      <th>163469</th>\n",
       "      <td>2023-05-17 10:18:56</td>\n",
       "      <td>Asuransi/Jaminan</td>\n",
       "      <td>BPJS Kesehatan</td>\n",
       "      <td>Banten</td>\n",
       "      <td>Tangerang (Kota)</td>\n",
       "      <td>93157f30-d85f-11ed-9594-dfbec08efe30</td>\n",
       "      <td>2017-07-06</td>\n",
       "      <td>Male</td>\n",
       "      <td>Not smoking</td>\n",
       "      <td>NaN</td>\n",
       "      <td>2023-05-17 10:39:32</td>\n",
       "      <td>Diare dan gastroenteritis oleh penyebab penyak...</td>\n",
       "    </tr>\n",
       "    <tr>\n",
       "      <th>163470</th>\n",
       "      <td>2023-05-17 10:18:56</td>\n",
       "      <td>Asuransi/Jaminan</td>\n",
       "      <td>BPJS Kesehatan</td>\n",
       "      <td>Banten</td>\n",
       "      <td>Tangerang (Kota)</td>\n",
       "      <td>93157f30-d85f-11ed-9594-dfbec08efe30</td>\n",
       "      <td>2017-07-06</td>\n",
       "      <td>Male</td>\n",
       "      <td>Not smoking</td>\n",
       "      <td>NaN</td>\n",
       "      <td>2023-05-17 10:39:32</td>\n",
       "      <td>Acute upper respiratory infections of multiple...</td>\n",
       "    </tr>\n",
       "    <tr>\n",
       "      <th>166333</th>\n",
       "      <td>2023-05-20 9:23:19</td>\n",
       "      <td>Asuransi/Jaminan</td>\n",
       "      <td>BPJS Kesehatan</td>\n",
       "      <td>JAWA BARAT</td>\n",
       "      <td>NaN</td>\n",
       "      <td>9935789e-774c-490a-9ee6-45e33d7d45c3</td>\n",
       "      <td>1995-05-26</td>\n",
       "      <td>Male</td>\n",
       "      <td>Not smoking</td>\n",
       "      <td>NaN</td>\n",
       "      <td>2023-05-20 10:02:44</td>\n",
       "      <td>Demam , tidak spesifik</td>\n",
       "    </tr>\n",
       "    <tr>\n",
       "      <th>166334</th>\n",
       "      <td>2023-05-20 9:23:19</td>\n",
       "      <td>Asuransi/Jaminan</td>\n",
       "      <td>BPJS Kesehatan</td>\n",
       "      <td>JAWA BARAT</td>\n",
       "      <td>NaN</td>\n",
       "      <td>9935789e-774c-490a-9ee6-45e33d7d45c3</td>\n",
       "      <td>1995-05-26</td>\n",
       "      <td>Male</td>\n",
       "      <td>Not smoking</td>\n",
       "      <td>NaN</td>\n",
       "      <td>2023-05-20 10:02:44</td>\n",
       "      <td>Demam , tidak spesifik</td>\n",
       "    </tr>\n",
       "  </tbody>\n",
       "</table>\n",
       "<p>73 rows × 12 columns</p>\n",
       "</div>"
      ],
      "text/plain": [
       "       registration_created_at patient_financing patient_insurance  \\\n",
       "46939      2022-07-30 17:14:18  Asuransi/Jaminan    BPJS Kesehatan   \n",
       "46940      2022-07-30 17:14:18  Asuransi/Jaminan    BPJS Kesehatan   \n",
       "47318      2022-08-06 17:59:28  Asuransi/Jaminan    BPJS Kesehatan   \n",
       "47319      2022-08-06 17:59:28  Asuransi/Jaminan    BPJS Kesehatan   \n",
       "50150      2022-09-24 16:50:33           Pribadi               NaN   \n",
       "...                        ...               ...               ...   \n",
       "163468     2023-05-17 10:18:56  Asuransi/Jaminan    BPJS Kesehatan   \n",
       "163469     2023-05-17 10:18:56  Asuransi/Jaminan    BPJS Kesehatan   \n",
       "163470     2023-05-17 10:18:56  Asuransi/Jaminan    BPJS Kesehatan   \n",
       "166333      2023-05-20 9:23:19  Asuransi/Jaminan    BPJS Kesehatan   \n",
       "166334      2023-05-20 9:23:19  Asuransi/Jaminan    BPJS Kesehatan   \n",
       "\n",
       "       clinic_province    clinic_regency  \\\n",
       "46939       JAWA BARAT               NaN   \n",
       "46940       JAWA BARAT               NaN   \n",
       "47318       JAWA BARAT               NaN   \n",
       "47319       JAWA BARAT               NaN   \n",
       "50150           BANTEN   KAB. PANDEGLANG   \n",
       "...                ...               ...   \n",
       "163468          Banten  Tangerang (Kota)   \n",
       "163469          Banten  Tangerang (Kota)   \n",
       "163470          Banten  Tangerang (Kota)   \n",
       "166333      JAWA BARAT               NaN   \n",
       "166334      JAWA BARAT               NaN   \n",
       "\n",
       "                                  patient_id patient_birth_date  \\\n",
       "46939   86781ea0-3db1-11ea-afc3-9d3dfaacb48b         1968-04-18   \n",
       "46940   86781ea0-3db1-11ea-afc3-9d3dfaacb48b         1968-04-18   \n",
       "47318   e68b92c0-1060-11eb-a709-1f5ed32fed5f         1985-06-10   \n",
       "47319   e68b92c0-1060-11eb-a709-1f5ed32fed5f         1985-06-10   \n",
       "50150   1d34a930-3bec-11ed-aa3f-85b555b3524d         1982-07-21   \n",
       "...                                      ...                ...   \n",
       "163468  93157f30-d85f-11ed-9594-dfbec08efe30         2017-07-06   \n",
       "163469  93157f30-d85f-11ed-9594-dfbec08efe30         2017-07-06   \n",
       "163470  93157f30-d85f-11ed-9594-dfbec08efe30         2017-07-06   \n",
       "166333  9935789e-774c-490a-9ee6-45e33d7d45c3         1995-05-26   \n",
       "166334  9935789e-774c-490a-9ee6-45e33d7d45c3         1995-05-26   \n",
       "\n",
       "       patient_gender patient_smoke patient_blood_type  \\\n",
       "46939          Female   Not smoking                 AB   \n",
       "46940          Female   Not smoking                 AB   \n",
       "47318          Female   Not smoking                  O   \n",
       "47319          Female   Not smoking                  O   \n",
       "50150          Female   Not smoking                NaN   \n",
       "...               ...           ...                ...   \n",
       "163468           Male   Not smoking                NaN   \n",
       "163469           Male   Not smoking                NaN   \n",
       "163470           Male   Not smoking                NaN   \n",
       "166333           Male   Not smoking                NaN   \n",
       "166334           Male   Not smoking                NaN   \n",
       "\n",
       "       medical_record_created_at  \\\n",
       "46939        2022-07-30 17:21:03   \n",
       "46940        2022-07-30 17:21:03   \n",
       "47318        2022-08-06 18:25:48   \n",
       "47319        2022-08-06 18:25:48   \n",
       "50150        2022-09-24 16:54:30   \n",
       "...                          ...   \n",
       "163468       2023-05-17 10:39:32   \n",
       "163469       2023-05-17 10:39:32   \n",
       "163470       2023-05-17 10:39:32   \n",
       "166333       2023-05-20 10:02:44   \n",
       "166334       2023-05-20 10:02:44   \n",
       "\n",
       "                                                   icd_10  \n",
       "46939                            Other headache syndromes  \n",
       "46940                            Other headache syndromes  \n",
       "47318                             Pencernaan yg terganggu  \n",
       "47319                             Pencernaan yg terganggu  \n",
       "50150                   Other specified diabetes mellitus  \n",
       "...                                                   ...  \n",
       "163468  Acute upper respiratory infections of multiple...  \n",
       "163469  Diare dan gastroenteritis oleh penyebab penyak...  \n",
       "163470  Acute upper respiratory infections of multiple...  \n",
       "166333                             Demam , tidak spesifik  \n",
       "166334                             Demam , tidak spesifik  \n",
       "\n",
       "[73 rows x 12 columns]"
      ]
     },
     "execution_count": 7,
     "metadata": {},
     "output_type": "execute_result"
    }
   ],
   "source": [
    "#check row with data duplicated\n",
    "df.loc[df.duplicated(keep=False)]"
   ]
  },
  {
   "cell_type": "markdown",
   "id": "4abbf8f3",
   "metadata": {
    "id": "4abbf8f3"
   },
   "source": [
    "Dari data tersebut kita ambil salah satu sample data yang duplicate untuk melihat lebih detail datanya"
   ]
  },
  {
   "cell_type": "code",
   "execution_count": 8,
   "id": "07498fb2",
   "metadata": {
    "colab": {
     "base_uri": "https://localhost:8080/",
     "height": 280
    },
    "id": "07498fb2",
    "outputId": "67f6fde4-ce87-4958-b55a-cfffb0704cbb"
   },
   "outputs": [
    {
     "data": {
      "text/html": [
       "<div>\n",
       "<style scoped>\n",
       "    .dataframe tbody tr th:only-of-type {\n",
       "        vertical-align: middle;\n",
       "    }\n",
       "\n",
       "    .dataframe tbody tr th {\n",
       "        vertical-align: top;\n",
       "    }\n",
       "\n",
       "    .dataframe thead th {\n",
       "        text-align: right;\n",
       "    }\n",
       "</style>\n",
       "<table border=\"1\" class=\"dataframe\">\n",
       "  <thead>\n",
       "    <tr style=\"text-align: right;\">\n",
       "      <th></th>\n",
       "      <th>registration_created_at</th>\n",
       "      <th>patient_financing</th>\n",
       "      <th>patient_insurance</th>\n",
       "      <th>clinic_province</th>\n",
       "      <th>clinic_regency</th>\n",
       "      <th>patient_id</th>\n",
       "      <th>patient_birth_date</th>\n",
       "      <th>patient_gender</th>\n",
       "      <th>patient_smoke</th>\n",
       "      <th>patient_blood_type</th>\n",
       "      <th>medical_record_created_at</th>\n",
       "      <th>icd_10</th>\n",
       "    </tr>\n",
       "  </thead>\n",
       "  <tbody>\n",
       "    <tr>\n",
       "      <th>166333</th>\n",
       "      <td>2023-05-20 9:23:19</td>\n",
       "      <td>Asuransi/Jaminan</td>\n",
       "      <td>BPJS Kesehatan</td>\n",
       "      <td>JAWA BARAT</td>\n",
       "      <td>NaN</td>\n",
       "      <td>9935789e-774c-490a-9ee6-45e33d7d45c3</td>\n",
       "      <td>1995-05-26</td>\n",
       "      <td>Male</td>\n",
       "      <td>Not smoking</td>\n",
       "      <td>NaN</td>\n",
       "      <td>2023-05-20 10:02:44</td>\n",
       "      <td>Demam , tidak spesifik</td>\n",
       "    </tr>\n",
       "    <tr>\n",
       "      <th>166334</th>\n",
       "      <td>2023-05-20 9:23:19</td>\n",
       "      <td>Asuransi/Jaminan</td>\n",
       "      <td>BPJS Kesehatan</td>\n",
       "      <td>JAWA BARAT</td>\n",
       "      <td>NaN</td>\n",
       "      <td>9935789e-774c-490a-9ee6-45e33d7d45c3</td>\n",
       "      <td>1995-05-26</td>\n",
       "      <td>Male</td>\n",
       "      <td>Not smoking</td>\n",
       "      <td>NaN</td>\n",
       "      <td>2023-05-20 10:02:44</td>\n",
       "      <td>Demam , tidak spesifik</td>\n",
       "    </tr>\n",
       "  </tbody>\n",
       "</table>\n",
       "</div>"
      ],
      "text/plain": [
       "       registration_created_at patient_financing patient_insurance  \\\n",
       "166333      2023-05-20 9:23:19  Asuransi/Jaminan    BPJS Kesehatan   \n",
       "166334      2023-05-20 9:23:19  Asuransi/Jaminan    BPJS Kesehatan   \n",
       "\n",
       "       clinic_province clinic_regency                            patient_id  \\\n",
       "166333      JAWA BARAT            NaN  9935789e-774c-490a-9ee6-45e33d7d45c3   \n",
       "166334      JAWA BARAT            NaN  9935789e-774c-490a-9ee6-45e33d7d45c3   \n",
       "\n",
       "       patient_birth_date patient_gender patient_smoke patient_blood_type  \\\n",
       "166333         1995-05-26           Male   Not smoking                NaN   \n",
       "166334         1995-05-26           Male   Not smoking                NaN   \n",
       "\n",
       "       medical_record_created_at                  icd_10  \n",
       "166333       2023-05-20 10:02:44  Demam , tidak spesifik  \n",
       "166334       2023-05-20 10:02:44  Demam , tidak spesifik  "
      ]
     },
     "execution_count": 8,
     "metadata": {},
     "output_type": "execute_result"
    }
   ],
   "source": [
    "#check one of data with dupilcated rows\n",
    "df[df['patient_id']== '9935789e-774c-490a-9ee6-45e33d7d45c3' ]"
   ]
  },
  {
   "cell_type": "markdown",
   "id": "ffd57e6d",
   "metadata": {
    "id": "ffd57e6d"
   },
   "source": [
    "Agar analisis tidak terganggu dengan data yang duplicate, maka nanti kita akan drop data duplicate tersebut"
   ]
  },
  {
   "cell_type": "markdown",
   "id": "a66eb7a7",
   "metadata": {
    "id": "a66eb7a7"
   },
   "source": [
    "**3. Check Statistik**"
   ]
  },
  {
   "cell_type": "code",
   "execution_count": 9,
   "id": "a1b78768",
   "metadata": {
    "colab": {
     "base_uri": "https://localhost:8080/",
     "height": 426
    },
    "id": "a1b78768",
    "outputId": "b796ec33-a1c6-4984-9ec2-0fca6fc38c2a"
   },
   "outputs": [
    {
     "data": {
      "text/html": [
       "<div>\n",
       "<style scoped>\n",
       "    .dataframe tbody tr th:only-of-type {\n",
       "        vertical-align: middle;\n",
       "    }\n",
       "\n",
       "    .dataframe tbody tr th {\n",
       "        vertical-align: top;\n",
       "    }\n",
       "\n",
       "    .dataframe thead th {\n",
       "        text-align: right;\n",
       "    }\n",
       "</style>\n",
       "<table border=\"1\" class=\"dataframe\">\n",
       "  <thead>\n",
       "    <tr style=\"text-align: right;\">\n",
       "      <th></th>\n",
       "      <th>count</th>\n",
       "      <th>unique</th>\n",
       "      <th>top</th>\n",
       "      <th>freq</th>\n",
       "    </tr>\n",
       "  </thead>\n",
       "  <tbody>\n",
       "    <tr>\n",
       "      <th>registration_created_at</th>\n",
       "      <td>168034</td>\n",
       "      <td>147212</td>\n",
       "      <td>2023-01-03 13:25:18</td>\n",
       "      <td>5</td>\n",
       "    </tr>\n",
       "    <tr>\n",
       "      <th>patient_financing</th>\n",
       "      <td>167967</td>\n",
       "      <td>3</td>\n",
       "      <td>Asuransi/Jaminan</td>\n",
       "      <td>104745</td>\n",
       "    </tr>\n",
       "    <tr>\n",
       "      <th>patient_insurance</th>\n",
       "      <td>105092</td>\n",
       "      <td>37</td>\n",
       "      <td>BPJS Kesehatan</td>\n",
       "      <td>101702</td>\n",
       "    </tr>\n",
       "    <tr>\n",
       "      <th>clinic_province</th>\n",
       "      <td>167720</td>\n",
       "      <td>47</td>\n",
       "      <td>JAWA BARAT</td>\n",
       "      <td>90732</td>\n",
       "    </tr>\n",
       "    <tr>\n",
       "      <th>clinic_regency</th>\n",
       "      <td>109148</td>\n",
       "      <td>239</td>\n",
       "      <td>KOTA BEKASI</td>\n",
       "      <td>31739</td>\n",
       "    </tr>\n",
       "    <tr>\n",
       "      <th>patient_id</th>\n",
       "      <td>168034</td>\n",
       "      <td>77845</td>\n",
       "      <td>70c586b0-52be-11ea-8fa9-25a0feb02069</td>\n",
       "      <td>110</td>\n",
       "    </tr>\n",
       "    <tr>\n",
       "      <th>patient_birth_date</th>\n",
       "      <td>168034</td>\n",
       "      <td>24622</td>\n",
       "      <td>1970-01-01</td>\n",
       "      <td>120</td>\n",
       "    </tr>\n",
       "    <tr>\n",
       "      <th>patient_gender</th>\n",
       "      <td>168034</td>\n",
       "      <td>2</td>\n",
       "      <td>Female</td>\n",
       "      <td>90161</td>\n",
       "    </tr>\n",
       "    <tr>\n",
       "      <th>patient_smoke</th>\n",
       "      <td>168034</td>\n",
       "      <td>2</td>\n",
       "      <td>Not smoking</td>\n",
       "      <td>163932</td>\n",
       "    </tr>\n",
       "    <tr>\n",
       "      <th>patient_blood_type</th>\n",
       "      <td>36378</td>\n",
       "      <td>4</td>\n",
       "      <td>O</td>\n",
       "      <td>26439</td>\n",
       "    </tr>\n",
       "    <tr>\n",
       "      <th>medical_record_created_at</th>\n",
       "      <td>168034</td>\n",
       "      <td>147229</td>\n",
       "      <td>2023-02-18 10:31:24</td>\n",
       "      <td>5</td>\n",
       "    </tr>\n",
       "    <tr>\n",
       "      <th>icd_10</th>\n",
       "      <td>168027</td>\n",
       "      <td>3888</td>\n",
       "      <td>ISPA bagian atas , tidak spesifik</td>\n",
       "      <td>11693</td>\n",
       "    </tr>\n",
       "  </tbody>\n",
       "</table>\n",
       "</div>"
      ],
      "text/plain": [
       "                            count  unique  \\\n",
       "registration_created_at    168034  147212   \n",
       "patient_financing          167967       3   \n",
       "patient_insurance          105092      37   \n",
       "clinic_province            167720      47   \n",
       "clinic_regency             109148     239   \n",
       "patient_id                 168034   77845   \n",
       "patient_birth_date         168034   24622   \n",
       "patient_gender             168034       2   \n",
       "patient_smoke              168034       2   \n",
       "patient_blood_type          36378       4   \n",
       "medical_record_created_at  168034  147229   \n",
       "icd_10                     168027    3888   \n",
       "\n",
       "                                                            top    freq  \n",
       "registration_created_at                     2023-01-03 13:25:18       5  \n",
       "patient_financing                              Asuransi/Jaminan  104745  \n",
       "patient_insurance                                BPJS Kesehatan  101702  \n",
       "clinic_province                                      JAWA BARAT   90732  \n",
       "clinic_regency                                      KOTA BEKASI   31739  \n",
       "patient_id                 70c586b0-52be-11ea-8fa9-25a0feb02069     110  \n",
       "patient_birth_date                                   1970-01-01     120  \n",
       "patient_gender                                           Female   90161  \n",
       "patient_smoke                                       Not smoking  163932  \n",
       "patient_blood_type                                            O   26439  \n",
       "medical_record_created_at                   2023-02-18 10:31:24       5  \n",
       "icd_10                        ISPA bagian atas , tidak spesifik   11693  "
      ]
     },
     "execution_count": 9,
     "metadata": {},
     "output_type": "execute_result"
    }
   ],
   "source": [
    "df.describe().T"
   ]
  },
  {
   "cell_type": "markdown",
   "id": "d6a022c1",
   "metadata": {
    "id": "d6a022c1"
   },
   "source": [
    "**4. Check Unique Values**"
   ]
  },
  {
   "cell_type": "code",
   "execution_count": 10,
   "id": "7f28c710",
   "metadata": {
    "colab": {
     "base_uri": "https://localhost:8080/"
    },
    "id": "7f28c710",
    "outputId": "9ef1646b-7c24-43d1-d531-c3ee37471a3f"
   },
   "outputs": [
    {
     "name": "stdout",
     "output_type": "stream",
     "text": [
      "Total unique values :\n",
      "registration_created_at      147212\n",
      "patient_financing                 3\n",
      "patient_insurance                37\n",
      "clinic_province                  47\n",
      "clinic_regency                  239\n",
      "patient_id                    77845\n",
      "patient_birth_date            24622\n",
      "patient_gender                    2\n",
      "patient_smoke                     2\n",
      "patient_blood_type                4\n",
      "medical_record_created_at    147229\n",
      "icd_10                         3888\n",
      "dtype: int64\n"
     ]
    }
   ],
   "source": [
    "#Check total unique values for each column\n",
    "print('Total unique values :')\n",
    "print(df.nunique())"
   ]
  },
  {
   "cell_type": "markdown",
   "id": "92fd5146",
   "metadata": {
    "id": "92fd5146"
   },
   "source": [
    "### Data Preprocessing"
   ]
  },
  {
   "cell_type": "code",
   "execution_count": 11,
   "id": "7b60619c",
   "metadata": {
    "id": "7b60619c"
   },
   "outputs": [],
   "source": [
    "#copy dataset\n",
    "data = df.copy()"
   ]
  },
  {
   "cell_type": "markdown",
   "id": "092d3b29",
   "metadata": {
    "id": "092d3b29"
   },
   "source": [
    "**Drop and Fill Missing Values**"
   ]
  },
  {
   "cell_type": "code",
   "execution_count": 12,
   "id": "29d2ad00",
   "metadata": {
    "id": "29d2ad00"
   },
   "outputs": [],
   "source": [
    "#drop rows with nan clinic province\n",
    "data = data.dropna(subset=['clinic_province', 'patient_financing', 'icd_10'])"
   ]
  },
  {
   "cell_type": "code",
   "execution_count": 13,
   "id": "ea9bc73a",
   "metadata": {
    "id": "ea9bc73a"
   },
   "outputs": [],
   "source": [
    "#fill missing values from clinic_regency, patient_insurance, patient_blood_type with 0 \n",
    "data.loc[data['clinic_regency'].isnull(),\"clinic_regency\"] = 0\n",
    "data.loc[data['patient_insurance'].isnull(),\"patient_insurance\"] = 0\n",
    "data.loc[data['patient_blood_type'].isnull(),\"patient_blood_type\"] = 0"
   ]
  },
  {
   "cell_type": "code",
   "execution_count": 14,
   "id": "0c3bfe6f",
   "metadata": {
    "colab": {
     "base_uri": "https://localhost:8080/"
    },
    "id": "0c3bfe6f",
    "outputId": "92b1804b-885b-4002-89eb-f5c39c4b1b17"
   },
   "outputs": [
    {
     "data": {
      "text/plain": [
       "registration_created_at      0\n",
       "patient_financing            0\n",
       "patient_insurance            0\n",
       "clinic_province              0\n",
       "clinic_regency               0\n",
       "patient_id                   0\n",
       "patient_birth_date           0\n",
       "patient_gender               0\n",
       "patient_smoke                0\n",
       "patient_blood_type           0\n",
       "medical_record_created_at    0\n",
       "icd_10                       0\n",
       "dtype: int64"
      ]
     },
     "execution_count": 14,
     "metadata": {},
     "output_type": "execute_result"
    }
   ],
   "source": [
    "#check total missing values per column\n",
    "data.isnull().sum()"
   ]
  },
  {
   "cell_type": "markdown",
   "id": "3f4d35be",
   "metadata": {
    "id": "3f4d35be"
   },
   "source": [
    "**Drop Duplicated**"
   ]
  },
  {
   "cell_type": "code",
   "execution_count": 15,
   "id": "34d1be3a",
   "metadata": {
    "id": "34d1be3a"
   },
   "outputs": [],
   "source": [
    "#drop data duplicate\n",
    "data = data.drop_duplicates()"
   ]
  },
  {
   "cell_type": "code",
   "execution_count": 16,
   "id": "c36df628",
   "metadata": {
    "colab": {
     "base_uri": "https://localhost:8080/",
     "height": 197
    },
    "id": "c36df628",
    "outputId": "8801af31-b865-4ef0-81d9-408d072f2f72"
   },
   "outputs": [
    {
     "data": {
      "text/html": [
       "<div>\n",
       "<style scoped>\n",
       "    .dataframe tbody tr th:only-of-type {\n",
       "        vertical-align: middle;\n",
       "    }\n",
       "\n",
       "    .dataframe tbody tr th {\n",
       "        vertical-align: top;\n",
       "    }\n",
       "\n",
       "    .dataframe thead th {\n",
       "        text-align: right;\n",
       "    }\n",
       "</style>\n",
       "<table border=\"1\" class=\"dataframe\">\n",
       "  <thead>\n",
       "    <tr style=\"text-align: right;\">\n",
       "      <th></th>\n",
       "      <th>registration_created_at</th>\n",
       "      <th>patient_financing</th>\n",
       "      <th>patient_insurance</th>\n",
       "      <th>clinic_province</th>\n",
       "      <th>clinic_regency</th>\n",
       "      <th>patient_id</th>\n",
       "      <th>patient_birth_date</th>\n",
       "      <th>patient_gender</th>\n",
       "      <th>patient_smoke</th>\n",
       "      <th>patient_blood_type</th>\n",
       "      <th>medical_record_created_at</th>\n",
       "      <th>icd_10</th>\n",
       "    </tr>\n",
       "  </thead>\n",
       "  <tbody>\n",
       "    <tr>\n",
       "      <th>166333</th>\n",
       "      <td>2023-05-20 9:23:19</td>\n",
       "      <td>Asuransi/Jaminan</td>\n",
       "      <td>BPJS Kesehatan</td>\n",
       "      <td>JAWA BARAT</td>\n",
       "      <td>0</td>\n",
       "      <td>9935789e-774c-490a-9ee6-45e33d7d45c3</td>\n",
       "      <td>1995-05-26</td>\n",
       "      <td>Male</td>\n",
       "      <td>Not smoking</td>\n",
       "      <td>0</td>\n",
       "      <td>2023-05-20 10:02:44</td>\n",
       "      <td>Demam , tidak spesifik</td>\n",
       "    </tr>\n",
       "  </tbody>\n",
       "</table>\n",
       "</div>"
      ],
      "text/plain": [
       "       registration_created_at patient_financing patient_insurance  \\\n",
       "166333      2023-05-20 9:23:19  Asuransi/Jaminan    BPJS Kesehatan   \n",
       "\n",
       "       clinic_province clinic_regency                            patient_id  \\\n",
       "166333      JAWA BARAT              0  9935789e-774c-490a-9ee6-45e33d7d45c3   \n",
       "\n",
       "       patient_birth_date patient_gender patient_smoke patient_blood_type  \\\n",
       "166333         1995-05-26           Male   Not smoking                  0   \n",
       "\n",
       "       medical_record_created_at                  icd_10  \n",
       "166333       2023-05-20 10:02:44  Demam , tidak spesifik  "
      ]
     },
     "execution_count": 16,
     "metadata": {},
     "output_type": "execute_result"
    }
   ],
   "source": [
    "#check one of data after drop dupilcated \n",
    "data[data['patient_id']== '9935789e-774c-490a-9ee6-45e33d7d45c3' ]"
   ]
  },
  {
   "cell_type": "code",
   "execution_count": 17,
   "id": "811ad744",
   "metadata": {
    "colab": {
     "base_uri": "https://localhost:8080/"
    },
    "id": "811ad744",
    "outputId": "96138bff-182c-47dc-84f0-f09c2c580477"
   },
   "outputs": [
    {
     "data": {
      "text/plain": [
       "(167622, 12)"
      ]
     },
     "execution_count": 17,
     "metadata": {},
     "output_type": "execute_result"
    }
   ],
   "source": [
    "#check data shape after drop duplicate\n",
    "data.shape"
   ]
  },
  {
   "cell_type": "markdown",
   "id": "972c7eb4",
   "metadata": {
    "id": "972c7eb4"
   },
   "source": [
    "**Set Unique Value**"
   ]
  },
  {
   "cell_type": "code",
   "execution_count": 18,
   "id": "87820196",
   "metadata": {
    "colab": {
     "base_uri": "https://localhost:8080/"
    },
    "id": "87820196",
    "outputId": "99610687-0436-477f-efaf-2627f44ef22b"
   },
   "outputs": [
    {
     "name": "stdout",
     "output_type": "stream",
     "text": [
      "patient_financing : ['Pribadi' 'Asuransi/Jaminan' 'Perusahaan'] .\n",
      "\n",
      "patient_insurance : [0 'Admedika' 'AIA Financial' 'BPJS Kesehatan' 'ISOmedik' 'AXA Mandiri'\n",
      " 'Mandiri Inhealth' 'Kapitasi' 'PT Hilti Nusantara' 'Klinik Pintar'\n",
      " 'INHEALTH INDEMINITY' 'INHEALTH MANAGED CARE' 'INHEALTH'\n",
      " 'FULLERTON HEALTH' 'Pesantren Arrahman (Pelajar)'\n",
      " 'Pesantren Arrahman (Karyawan)' 'BNI Life' 'BP-JS' 'bp-js' 'Selvi'\n",
      " 'pt nayaka era husada' 'PT. RADEMA' 'Asuransi Pendidikan Ponpes MTA'\n",
      " 'PT AKI' 'Reliance' 'PLN' 'YKP Bjb' 'Test Penjamin' 'PT. ADI KARYA'\n",
      " 'Al-Qosbah' 'PLN INSURANCE' 'BP/JS' 'BP.JS Kesehatan'\n",
      " 'Keluarga dr. Aryawan' 'Garda Medika' 'Asuransi AHM' 'Karyawan Kemenpora'\n",
      " 'Atlet Nasional'] .\n",
      "\n",
      "clinic_province : ['DKI Jakarta' 'Banten' 'Sulawesi Tenggara' 'Nusa Tenggara Timur'\n",
      " 'Jawa Barat' 'DI Yogyakarta' 'Jawa Tengah' 'Aceh' 'Kepulauan Riau'\n",
      " 'Lampung' 'Sumatera Barat' 'Jawa Timur' 'JAWA BARAT'\n",
      " 'Kepulauan Bangka Belitung' 'Kalimantan Utara' 'Kalimantan Tengah'\n",
      " 'Sumatera Selatan' 'BANTEN' 'Kalimantan Timur' 'Riau' 'DKI JAKARTA'\n",
      " 'SUMATERA BARAT' 'Sulawesi Selatan' 'JAWA TENGAH' 'SUMATERA SELATAN'\n",
      " 'BENGKULU' 'Kalimantan Selatan' 'LAMPUNG' 'Kalimantan Barat' 'BALI'\n",
      " 'NUSA TENGGARA TIMUR' 'Papua Barat' 'Bali' 'Jambi' 'KEPULAUAN RIAU'\n",
      " 'Sulawesi Utara' 'SUMATERA UTARA' 'SULAWESI SELATAN' 'JAWA TIMUR'\n",
      " 'Nusa Tenggara Barat' 'Sumatera Utara' 'DI YOGYAKARTA' 'RIAU'\n",
      " 'Sulawesi Tengah' 'NUSA TENGGARA BARAT' 'Papua' 'Bengkulu'] .\n",
      "\n",
      "clinic_regency : ['Kota Jakarta Barat' 'Kabupaten Pandeglang' 'Kota Jakarta Selatan'\n",
      " 'Kota Baubau' 'Kota Kupang' 'Kota Jakarta Pusat' 'Kota Tangerang Selatan'\n",
      " 'Kota Bekasi' 'Kota Jakarta Timur' 'Kota Bandung' 'Kabupaten Bekasi'\n",
      " 'Kabupaten Bantul' 'Kabupaten Cirebon' 'Kabupaten Tangerang'\n",
      " 'Kota Surakarta' 'Kabupaten Bogor' 'Kabupaten Aceh Barat'\n",
      " 'Kota B A T A M' 'Kabupaten Lampung Selatan' 'Kota Padang' 'Kota Depok'\n",
      " 'Kabupaten Mojokerto' 0 'Kabupaten Garut' 'Kota Jakarta Utara'\n",
      " 'Kabupaten Subang' 'Kota Pangkal Pinang' 'Kota Surabaya'\n",
      " 'Kabupaten Bulungan' 'KOTA BEKASI' 'Kota Tangerang' 'Kabupaten Sleman'\n",
      " 'Kabupaten Seruyan' 'Kabupaten Batang' 'Kota Palembang' 'KOTA TANGERANG'\n",
      " 'Kabupaten Malang' 'Kabupaten Kutai Timur' 'Karanganyar' 'Kampar'\n",
      " 'KOTA DEPOK' 'KOTA JAKARTA UTARA' 'depok' 'KOTA PADANG' 'Kota Makassar'\n",
      " 'Bogor (Kota)' 'Cilegon (Kota)' 'Jakarta Barat (Kota)' 'KAB. KARANGANYAR'\n",
      " 'Jakarta Utara (Kota)' 'KAB. PANDEGLANG' 'KOTA BANDUNG' 'KAB. BANYUASIN'\n",
      " 'KOTA BENGKULU' 'Kab. Sidoarjo' 'Kota Bogor' 'Kota Cimahi'\n",
      " 'Kota Banjarmasin' 'KAB. LAMPUNG TENGAH' 'KAB. REJANG LEBONG'\n",
      " 'Kota Pontianak' 'KAB. SERANG' 'Kota Sukabumi' 'Karawang (Kabupaten)'\n",
      " 'KAB. GIANYAR' 'Kab. Subang' 'KAB. SIKKA' 'KOTA SEMARANG'\n",
      " 'KAB. TANGERANG' 'Teluk Bintuni (Kabupaten)' 'Kab. Jombang'\n",
      " 'Jombang (Kabupaten)' 'Kab. Magelang' 'Kab. Batang' 'Malang (Kota)'\n",
      " 'Kediri (Kota)' 'Banda Aceh (Kota)' 'Gianyar (Kabupaten)' 'Kab. Karawang'\n",
      " 'Kota Palangka Raya' 'Pangkal Pinang (Kota)' 'Sarolangun (Kabupaten)'\n",
      " 'Kota Serang' 'KOTA PEKALONGAN' 'Jakarta Selatan (Kota)'\n",
      " 'Kab. Tanah Bumbu' 'Kota Semarang' 'Depok (Kota)' 'Kab. Bogor'\n",
      " 'Kota Dumai' 'KOTA BATAM' 'KAB. TABANAN' 'Batam (Kota)'\n",
      " 'KOTA JAKARTA SELATAN' 'Metro (Kota)' 'Kab. Minahasa' 'Kab. Paser'\n",
      " 'Yogyakarta (Kota)' 'KOTA GUNUNGSITOLI' 'Kab. Brebes' 'Kot Padang'\n",
      " 'Lampung Timur (Kabupaten)' 'Lampung Selatan (Kabupaten)'\n",
      " 'Murung Raya (Kabupaten)' 'Tangerang (Kota)' 'Purwakarta (Kabupaten)'\n",
      " 'Bandar Lampung (Kota)' 'Makassar (Kota)' 'Kab. Jember'\n",
      " 'KAB. LAMPUNG TIMUR' 'Kab. Situbondo' 'Bandung Barat (Kabupaten)'\n",
      " 'KOTA PALOPO' 'Bandung (Kota)' 'Banyuasin (Kabupaten)' 'Bitung (Kota)'\n",
      " 'Bogor (Kabupaten)' 'Jakarta Timur (Kota)' 'Kab. Pesisir Selatan'\n",
      " 'Kota Jambi' 'KAB. BOGOR' 'KAB. BATANG' 'Kab. Lumajang' 'Kab. Sleman'\n",
      " 'Kab. Lima Puluh Koto/kota' 'Kota Banda Aceh' 'Bukittinggi (Kota)'\n",
      " 'Kab. Gresik' 'KOTA SURABAYA' 'Kab. Kuningan' 'Palopo (Kota)'\n",
      " 'Kota Lubuk Linggau' 'Sragen (Kabupaten)' 'Kab. Bima'\n",
      " 'Tasikmalaya (Kabupaten)' 'Kab. Gayo Lues' 'Jepara (Kabupaten)'\n",
      " 'Kab. Bekasi' 'KOTA MEDAN' 'Kab. Kendal' 'Kab. Bantul' 'Sibolga (Kota)'\n",
      " 'Tangerang (Kabupaten)' 'Kab. Demak' 'Aceh Jaya (Kabupaten)'\n",
      " 'Kab. Pesawaran' 'KOTA JAKARTA PUSAT' 'serang' 'Gunung Kidul (Kabupaten)'\n",
      " 'Kab. Bengkalis' 'Kapuas (Kabupaten)' 'Pesawaran (Kabupaten)'\n",
      " 'Kab. Karangasem' 'Serang (Kabupaten)' 'Kab. Karanganyar'\n",
      " 'KOTA YOGYAKARTA' 'Kab. Bangkalan' 'Kab. Ngawi' 'Sukabumi (Kabupaten)'\n",
      " 'Agam (Kabupaten)' 'KAB. KUANTAN SINGINGI' 'Kab. Tasikmalaya'\n",
      " 'Kab. Boyolali' 'Kota Pekanbaru' 'Kota Batam' 'Demak (Kabupaten)'\n",
      " 'Kota Parepare' 'KOTA JAKARTA BARAT' 'Kab. Cianjur' 'Bangli (Kabupaten)'\n",
      " 'Deli Serdang (Kabupaten)' 'Kab. Malang' 'Palu (Kota)' 'Kab. Lamongan'\n",
      " 'Kab. Mandailing Natal' 'KAB. DHARMASRAYA' 'Kab. Sukabumi'\n",
      " 'KAB. BANGKALAN' 'Dharmasraya (Kabupaten)' 'KAB. SUKOHARJO' 'Kab. Blora'\n",
      " 'Kota Singkawang' 'KOTA PADANG SIDEMPUAN' 'Kab. Humbang Hasundutan'\n",
      " 'KOTA JAKARTA TIMUR' 'KOTA PEKANBARU' 'Kab. Serdang Bedagai'\n",
      " 'Kab. Lombok Timur' 'KOTA MATARAM' 'Kab. Mimika' 'Kab. Ogan Ilir'\n",
      " 'Medan (Kota)' 'Kab. Toba Samosir' 'Kab. Sumedang' 'Kab. Purworejo'\n",
      " 'Kab. Nganjuk' 'Kota Manado' 'Kab. Morowali' 'KAB. PASAMAN BARAT'\n",
      " 'Lhokseumawe (Kota)' 'Kab. Kulon Progo' 'KAB. BEKASI'\n",
      " 'Bantul (Kabupaten)' 'Kota Pasuruan' 'Kab. Kampar'\n",
      " 'Kota Surakarta (solo)' 'Kab. Pasaman Barat' 'Kab. Muara Enim'\n",
      " 'Kab. Sukoharjo' 'Kab. Bangka' 'Pontianak (Kota)' 'Kab. Cilacap'\n",
      " 'Kota Cirebon' 'Kota Medan' 'Kota Binjai' 'Kab. Gunung Kidul'\n",
      " 'Kab. Pringsewu' 'KAB. JEPARA' 'Siak (Kabupaten)' 'Denpasar (Kota)'\n",
      " 'Padang Pariaman (Kabupaten)' 'Kab. Kepahiang' 'Kota Padang Sidempuan'\n",
      " 'Lampung Tengah (Kabupaten)' 'Kab. Ogan Komering Ulu Timur'\n",
      " 'Kab. Majalengka' 'Kota Tarakan' 'Kab. Wonogiri' 'Kab. Musi Rawas'\n",
      " 'Kota Sungaipenuh' 'Surabaya (Kota)' 'Kab. Kotawaringin Timur'\n",
      " 'Kab. Kayong Utara' 'Kab. Pati' 'Kab. Pemalang' 'Mesuji (Kabupaten)'\n",
      " 'Kab. Langkat' 'Kab. Muaro Jambi'] .\n",
      "\n",
      "patient_gender : ['Female' 'Male'] .\n",
      "\n",
      "patient_smoke : ['Not smoking' 'Smoking'] .\n",
      "\n",
      "patient_blood_type : [0 'AB' 'B' 'A' 'O'] .\n",
      "\n"
     ]
    }
   ],
   "source": [
    "#check unique values from column with few categories\n",
    "few_cat = ['patient_financing', 'patient_insurance', 'clinic_province', 'clinic_regency',\n",
    "           'patient_gender', 'patient_smoke', 'patient_blood_type']\n",
    "\n",
    "for column in few_cat:\n",
    "    print('%s : %s .\\n' %(column, data[column].unique()))"
   ]
  },
  {
   "cell_type": "markdown",
   "id": "f8656ca6",
   "metadata": {
    "id": "f8656ca6"
   },
   "source": [
    "Dari data unique value dari masing kolom diatas dapat dilihat bahwa cukup banyak data dari kolom patient_insurance, clinic_province, dan clinic_regency yang memiliki data dengan nama yang sama dan penulisan yang berbeda, untuk itu kita akan maintenance data tersebut agar valuenya memiliki arti maupun penulisan yang sama."
   ]
  },
  {
   "cell_type": "markdown",
   "id": "468ffed1",
   "metadata": {
    "id": "468ffed1"
   },
   "source": [
    "***1. patient_insurance***"
   ]
  },
  {
   "cell_type": "code",
   "execution_count": 19,
   "id": "091fb7ae",
   "metadata": {
    "id": "091fb7ae"
   },
   "outputs": [],
   "source": [
    "#change patient_insurance value with same name and different writing\n",
    "insurance_change = {'BP-JS' : 'BPJS Kesehatan',\n",
    "           'bp-js' : 'BPJS Kesehatan',\n",
    "           'BP/JS' : 'BPJS Kesehatan',\n",
    "           'BP.JS Kesehatan' : 'BPJS Kesehatan'                \n",
    "          }\n",
    "data['patient_insurance'] = data['patient_insurance'].replace(insurance_change, regex=True)\n",
    "data.loc[data['patient_insurance'].str.contains('pln', case=False, na=False), 'patient_insurance'] = 'PLN INSURANCE'"
   ]
  },
  {
   "cell_type": "code",
   "execution_count": 20,
   "id": "63ecef38",
   "metadata": {
    "colab": {
     "base_uri": "https://localhost:8080/"
    },
    "id": "63ecef38",
    "outputId": "6d047e24-aca2-400b-be36-4eb828ef1125"
   },
   "outputs": [
    {
     "data": {
      "text/plain": [
       "array([0, 'Admedika', 'AIA Financial', 'BPJS Kesehatan', 'ISOmedik',\n",
       "       'AXA Mandiri', 'Mandiri Inhealth', 'Kapitasi',\n",
       "       'PT Hilti Nusantara', 'Klinik Pintar', 'INHEALTH INDEMINITY',\n",
       "       'INHEALTH MANAGED CARE', 'INHEALTH', 'FULLERTON HEALTH',\n",
       "       'Pesantren Arrahman (Pelajar)', 'Pesantren Arrahman (Karyawan)',\n",
       "       'BNI Life', 'Selvi', 'pt nayaka era husada', 'PT. RADEMA',\n",
       "       'Asuransi Pendidikan Ponpes MTA', 'PT AKI', 'Reliance',\n",
       "       'PLN INSURANCE', 'YKP Bjb', 'Test Penjamin', 'PT. ADI KARYA',\n",
       "       'Al-Qosbah', 'Keluarga dr. Aryawan', 'Garda Medika',\n",
       "       'Asuransi AHM', 'Karyawan Kemenpora', 'Atlet Nasional'],\n",
       "      dtype=object)"
      ]
     },
     "execution_count": 20,
     "metadata": {},
     "output_type": "execute_result"
    }
   ],
   "source": [
    "#check result from changing values on patient_insurance\n",
    "data['patient_insurance'].unique()"
   ]
  },
  {
   "cell_type": "markdown",
   "id": "9757d6bf",
   "metadata": {
    "id": "9757d6bf"
   },
   "source": [
    "***2. clinic_province***"
   ]
  },
  {
   "cell_type": "code",
   "execution_count": 21,
   "id": "8c4b68bc",
   "metadata": {
    "id": "8c4b68bc"
   },
   "outputs": [],
   "source": [
    "prov_change = {'DKI JAKARTA' : 'DKI Jakarta',\n",
    "           'banten':'Banten',\n",
    "           'BANTEN': 'Banten',\n",
    "           'DI YOGYAKARTA' : 'DI Yogyakarta',\n",
    "           'JAWA TENGAH' : 'Jawa Tengah',\n",
    "           'JAWA BARAT' : 'Jawa Barat',\n",
    "           'JAWA TIMUR' : 'Jawa Timur',\n",
    "           'NUSA TENGGARA BARAT': 'Nusa Tenggara Barat',\n",
    "           'NUSA TENGGARA TIMUR': 'Nusa Tenggara Timur',\n",
    "           'SULAWESI SELATAN': 'Sulawesi Selatan',\n",
    "           'SUMATERA BARAT': 'Sumatera Barat',\n",
    "           'SUMATERA UTARA' : 'Sumatera Utara',\n",
    "           'SUMATERA SELATAN' : 'Sumatera Selatan',\n",
    "           'LAMPUNG' : 'Lampung',\n",
    "           'KEPULAUAN RIAU' : 'Kepulauan Riau',\n",
    "           'RIAU' : 'Riau',\n",
    "           'BENGKULU' : 'Bengkulu',\n",
    "           'BALI' : 'Bali'\n",
    "          }\n",
    "data['clinic_province'] = data['clinic_province'].replace(prov_change, regex=True)\n"
   ]
  },
  {
   "cell_type": "code",
   "execution_count": 22,
   "id": "bba774fc",
   "metadata": {
    "colab": {
     "base_uri": "https://localhost:8080/"
    },
    "id": "bba774fc",
    "outputId": "cfe72f35-5a30-4d57-f10f-3d382f674c7d"
   },
   "outputs": [
    {
     "data": {
      "text/plain": [
       "array(['DKI Jakarta', 'Banten', 'Sulawesi Tenggara',\n",
       "       'Nusa Tenggara Timur', 'Jawa Barat', 'DI Yogyakarta',\n",
       "       'Jawa Tengah', 'Aceh', 'Kepulauan Riau', 'Lampung',\n",
       "       'Sumatera Barat', 'Jawa Timur', 'Kepulauan Bangka Belitung',\n",
       "       'Kalimantan Utara', 'Kalimantan Tengah', 'Sumatera Selatan',\n",
       "       'Kalimantan Timur', 'Riau', 'Sulawesi Selatan', 'Bengkulu',\n",
       "       'Kalimantan Selatan', 'Kalimantan Barat', 'Bali', 'Papua Barat',\n",
       "       'Jambi', 'Sulawesi Utara', 'Sumatera Utara', 'Nusa Tenggara Barat',\n",
       "       'Sulawesi Tengah', 'Papua'], dtype=object)"
      ]
     },
     "execution_count": 22,
     "metadata": {},
     "output_type": "execute_result"
    }
   ],
   "source": [
    "data['clinic_province'].unique()"
   ]
  },
  {
   "cell_type": "markdown",
   "id": "22113b6e",
   "metadata": {
    "id": "22113b6e"
   },
   "source": [
    "***3. clinic_regency***"
   ]
  },
  {
   "cell_type": "markdown",
   "id": "dd6bc1ee",
   "metadata": {
    "id": "dd6bc1ee"
   },
   "source": [
    "untuk clinic_regency kita akan buat kolom baru untuk mengelompokkan nama clinic_regency dengan nama yang sama"
   ]
  },
  {
   "cell_type": "code",
   "execution_count": 23,
   "id": "0dcf0f4a",
   "metadata": {
    "id": "0dcf0f4a"
   },
   "outputs": [],
   "source": [
    "\n",
    "def regency(reg): \n",
    "    \n",
    "    reg=str(reg)\n",
    "    if \"bekasi\" in reg.lower():\n",
    "        regency = 'Bekasi'\n",
    "    elif 'semarang' in reg.lower(): \n",
    "        regency = 'Semarang'\n",
    "    elif \"tangerang\" in reg.lower():\n",
    "        regency = 'Tangerang'\n",
    "    elif 'jakarta pusat' in reg.lower(): \n",
    "        regency = 'Kota Jakarta Pusat'\n",
    "    elif \"jakarta utara\" in reg.lower():\n",
    "        regency = 'Kota Jakarta Utara'\n",
    "    elif 'jakarta barat' in reg.lower(): \n",
    "        regency = 'Kota Jakarta Barat'\n",
    "    elif \"jakarta timur\" in reg.lower():\n",
    "        regency = 'Kota Jakarta Timur'\n",
    "    elif 'jakarta selatan' in reg.lower(): \n",
    "        regency = 'Kota Jakarta Selatan'\n",
    "    elif \"yogyakarta\" in reg.lower():\n",
    "        regency = 'Yogyakarta'\n",
    "    elif 'sukoharjo' in reg.lower(): \n",
    "        regency = 'Kab. Sukoharjo'\n",
    "    elif \"gianyar\" in reg.lower():\n",
    "        regency = 'Kab. Gianyar'\n",
    "    elif 'batam' in reg.lower() or 'b a t a m' in reg.lower() : \n",
    "        regency = 'Kota Batam'\n",
    "    elif \"karanganyar\" in reg.lower():\n",
    "        regency = 'Kab. Karanganyar'\n",
    "    elif 'surakarta' in reg.lower(): \n",
    "        regency = 'Surakarta'\n",
    "    elif \"surabaya\" in reg.lower():\n",
    "        regency = 'Surabaya'\n",
    "    elif 'depok' in reg.lower(): \n",
    "        regency = 'Depok'\n",
    "    elif \"bandung\" in reg.lower():\n",
    "        regency = 'Bandung'\n",
    "    elif 'bogor' in reg.lower(): \n",
    "        regency = 'Bogor'\n",
    "    elif \"makasar\" in reg.lower() or \"makassar\" in reg.lower() :\n",
    "        regency = 'Makasar'\n",
    "    elif 'tasikmalaya' in reg.lower(): \n",
    "        regency = 'Tasikmalaya'\n",
    "    elif \"pasaman barat\" in reg.lower():\n",
    "        regency = 'Kab. Pasaman Barat'\n",
    "    elif 'sukabumi' in reg.lower(): \n",
    "        regency = 'Sukabumi'\n",
    "    elif \"bantul\" in reg.lower():\n",
    "        regency = 'Bantul'\n",
    "    elif 'jombang' in reg.lower(): \n",
    "        regency = 'Kab. Jombang'\n",
    "    elif \"jepara\" in reg.lower():\n",
    "        regency = 'Kab. Jepara'\n",
    "    elif 'sumedang' in reg.lower(): \n",
    "        regency = 'Sumedang'\n",
    "    elif 'medan' in reg.lower(): \n",
    "        regency = 'Medan'\n",
    "    elif \"pekanbaru\" in reg.lower():\n",
    "        regency = 'Pekanbaru'\n",
    "    elif 'batang' in reg.lower(): \n",
    "        regency = 'Kab. Batang'\n",
    "    elif \"dharmasraya\" in reg.lower():\n",
    "        regency = 'Kab. Dharmasraya'\n",
    "    elif 'sleman' in reg.lower(): \n",
    "        regency = 'Kab. Sleman'\n",
    "    elif \"serang\" in reg.lower():\n",
    "        regency = 'Kab. Serang'\n",
    "    elif 'malang' in reg.lower(): \n",
    "        regency = 'Malang'\n",
    "    elif \"demak\" in reg.lower():\n",
    "        regency = 'Kab. Demak'\n",
    "    elif 'lampung timur' in reg.lower(): \n",
    "        regency = 'Kab. Lampung Timur'\n",
    "    elif \"lampung tengah\" in reg.lower():\n",
    "        regency = 'Kab. Lampung Tengah'\n",
    "    elif 'lampung selatan' in reg.lower(): \n",
    "        regency = 'Kab. Lampung Selatan'\n",
    "    else: \n",
    "        regency = reg \n",
    "    return regency\n",
    "\n",
    "data['group_regency'] = data['clinic_regency'].apply(regency)\n",
    "data['group_regency'] = data['group_regency'].str.title()  "
   ]
  },
  {
   "cell_type": "code",
   "execution_count": 24,
   "id": "37482cb8",
   "metadata": {
    "colab": {
     "base_uri": "https://localhost:8080/"
    },
    "id": "37482cb8",
    "outputId": "1c6219c3-7d5c-41a8-f47e-9e6c4ed23292"
   },
   "outputs": [
    {
     "data": {
      "text/plain": [
       "array(['Kota Jakarta Barat', 'Kabupaten Pandeglang',\n",
       "       'Kota Jakarta Selatan', 'Kota Baubau', 'Kota Kupang',\n",
       "       'Kota Jakarta Pusat', 'Tangerang', 'Bekasi', 'Kota Jakarta Timur',\n",
       "       'Bandung', 'Bantul', 'Kabupaten Cirebon', 'Surakarta', 'Bogor',\n",
       "       'Kabupaten Aceh Barat', 'Kota Batam', 'Kab. Lampung Selatan',\n",
       "       'Kota Padang', 'Depok', 'Kabupaten Mojokerto', '0',\n",
       "       'Kabupaten Garut', 'Kota Jakarta Utara', 'Kabupaten Subang',\n",
       "       'Kota Pangkal Pinang', 'Surabaya', 'Kabupaten Bulungan',\n",
       "       'Kab. Sleman', 'Kabupaten Seruyan', 'Kab. Batang',\n",
       "       'Kota Palembang', 'Malang', 'Kabupaten Kutai Timur',\n",
       "       'Kab. Karanganyar', 'Kampar', 'Makasar', 'Cilegon (Kota)',\n",
       "       'Kab. Pandeglang', 'Kab. Banyuasin', 'Kota Bengkulu',\n",
       "       'Kab. Sidoarjo', 'Kota Cimahi', 'Kota Banjarmasin',\n",
       "       'Kab. Lampung Tengah', 'Kab. Rejang Lebong', 'Kota Pontianak',\n",
       "       'Kab. Serang', 'Sukabumi', 'Karawang (Kabupaten)', 'Kab. Gianyar',\n",
       "       'Kab. Subang', 'Kab. Sikka', 'Semarang',\n",
       "       'Teluk Bintuni (Kabupaten)', 'Kab. Jombang', 'Kab. Magelang',\n",
       "       'Kediri (Kota)', 'Banda Aceh (Kota)', 'Kab. Karawang',\n",
       "       'Kota Palangka Raya', 'Pangkal Pinang (Kota)',\n",
       "       'Sarolangun (Kabupaten)', 'Kota Pekalongan', 'Kab. Tanah Bumbu',\n",
       "       'Kota Dumai', 'Kab. Tabanan', 'Metro (Kota)', 'Kab. Minahasa',\n",
       "       'Kab. Paser', 'Yogyakarta', 'Kota Gunungsitoli', 'Kab. Brebes',\n",
       "       'Kot Padang', 'Kab. Lampung Timur', 'Murung Raya (Kabupaten)',\n",
       "       'Purwakarta (Kabupaten)', 'Bandar Lampung (Kota)', 'Kab. Jember',\n",
       "       'Kab. Situbondo', 'Kota Palopo', 'Banyuasin (Kabupaten)',\n",
       "       'Bitung (Kota)', 'Kab. Pesisir Selatan', 'Kota Jambi',\n",
       "       'Kab. Lumajang', 'Kab. Lima Puluh Koto/Kota', 'Kota Banda Aceh',\n",
       "       'Bukittinggi (Kota)', 'Kab. Gresik', 'Kab. Kuningan',\n",
       "       'Palopo (Kota)', 'Kota Lubuk Linggau', 'Sragen (Kabupaten)',\n",
       "       'Kab. Bima', 'Tasikmalaya', 'Kab. Gayo Lues', 'Kab. Jepara',\n",
       "       'Medan', 'Kab. Kendal', 'Sibolga (Kota)', 'Kab. Demak',\n",
       "       'Aceh Jaya (Kabupaten)', 'Kab. Pesawaran',\n",
       "       'Gunung Kidul (Kabupaten)', 'Kab. Bengkalis', 'Kapuas (Kabupaten)',\n",
       "       'Pesawaran (Kabupaten)', 'Kab. Karangasem', 'Kab. Bangkalan',\n",
       "       'Kab. Ngawi', 'Agam (Kabupaten)', 'Kab. Kuantan Singingi',\n",
       "       'Kab. Boyolali', 'Pekanbaru', 'Kota Parepare', 'Kab. Cianjur',\n",
       "       'Bangli (Kabupaten)', 'Deli Serdang (Kabupaten)', 'Palu (Kota)',\n",
       "       'Kab. Lamongan', 'Kab. Mandailing Natal', 'Kab. Dharmasraya',\n",
       "       'Kab. Sukoharjo', 'Kab. Blora', 'Kota Singkawang',\n",
       "       'Kota Padang Sidempuan', 'Kab. Humbang Hasundutan',\n",
       "       'Kab. Serdang Bedagai', 'Kab. Lombok Timur', 'Kota Mataram',\n",
       "       'Kab. Mimika', 'Kab. Ogan Ilir', 'Kab. Toba Samosir', 'Sumedang',\n",
       "       'Kab. Purworejo', 'Kab. Nganjuk', 'Kota Manado', 'Kab. Morowali',\n",
       "       'Kab. Pasaman Barat', 'Lhokseumawe (Kota)', 'Kab. Kulon Progo',\n",
       "       'Kota Pasuruan', 'Kab. Kampar', 'Kab. Muara Enim', 'Kab. Bangka',\n",
       "       'Pontianak (Kota)', 'Kab. Cilacap', 'Kota Cirebon', 'Kota Binjai',\n",
       "       'Kab. Gunung Kidul', 'Kab. Pringsewu', 'Siak (Kabupaten)',\n",
       "       'Denpasar (Kota)', 'Padang Pariaman (Kabupaten)', 'Kab. Kepahiang',\n",
       "       'Kab. Ogan Komering Ulu Timur', 'Kab. Majalengka', 'Kota Tarakan',\n",
       "       'Kab. Wonogiri', 'Kab. Musi Rawas', 'Kota Sungaipenuh',\n",
       "       'Kab. Kotawaringin Timur', 'Kab. Kayong Utara', 'Kab. Pati',\n",
       "       'Mesuji (Kabupaten)', 'Kab. Langkat', 'Kab. Muaro Jambi'],\n",
       "      dtype=object)"
      ]
     },
     "execution_count": 24,
     "metadata": {},
     "output_type": "execute_result"
    }
   ],
   "source": [
    "data['group_regency'].unique()"
   ]
  },
  {
   "cell_type": "markdown",
   "id": "940efb5d",
   "metadata": {
    "id": "940efb5d"
   },
   "source": [
    "***4. icd_10***"
   ]
  },
  {
   "cell_type": "code",
   "execution_count": 25,
   "id": "20b8370e",
   "metadata": {
    "colab": {
     "base_uri": "https://localhost:8080/"
    },
    "id": "20b8370e",
    "outputId": "c9efed4f-658d-45ce-b539-c3240719b10d"
   },
   "outputs": [
    {
     "data": {
      "text/plain": [
       "array(['Demam tifoid', 'Cholera',\n",
       "       'Cholera due to Vibrio cholerae 01, biovar cholerae', ...,\n",
       "       'Agents primarily affecting water-balance and mineral and uric acid metabolism',\n",
       "       'Fracture of other and unspecified parts of lumbar spine and pelvis, closed',\n",
       "       'Other abnormal findings in urine'], dtype=object)"
      ]
     },
     "execution_count": 25,
     "metadata": {},
     "output_type": "execute_result"
    }
   ],
   "source": [
    "data.icd_10.unique()"
   ]
  },
  {
   "cell_type": "code",
   "execution_count": 26,
   "id": "389791ed",
   "metadata": {
    "id": "389791ed"
   },
   "outputs": [],
   "source": [
    "def disease(dis): \n",
    "            \n",
    "    dis=str(dis)\n",
    "    if 'ispa bagian atas' in dis.lower(): \n",
    "        jenis = 'ISPA'\n",
    "    elif 'flu' in dis.lower(): \n",
    "        jenis = 'Flu'\n",
    "    elif 'pencernaan' in dis.lower():\n",
    "        jenis = 'Pencernaan'\n",
    "    elif 'general examination' in dis.lower():\n",
    "        jenis = 'General examination'\n",
    "    else: \n",
    "        jenis = 'Other diseases' \n",
    "    return jenis\n",
    "\n",
    "data['group_disease'] = data['icd_10'].apply(disease)"
   ]
  },
  {
   "cell_type": "code",
   "execution_count": 27,
   "id": "adadfd40",
   "metadata": {
    "colab": {
     "base_uri": "https://localhost:8080/"
    },
    "id": "adadfd40",
    "outputId": "306a8a23-6e20-446d-e5ac-a42b376168c7"
   },
   "outputs": [
    {
     "data": {
      "text/plain": [
       "5"
      ]
     },
     "execution_count": 27,
     "metadata": {},
     "output_type": "execute_result"
    }
   ],
   "source": [
    "data['group_disease'].nunique()"
   ]
  },
  {
   "cell_type": "code",
   "execution_count": 28,
   "id": "3b41ac23",
   "metadata": {
    "colab": {
     "base_uri": "https://localhost:8080/",
     "height": 531
    },
    "id": "3b41ac23",
    "outputId": "b760b247-9e14-4873-ae4a-99b67bbf68f3"
   },
   "outputs": [
    {
     "data": {
      "text/html": [
       "<div>\n",
       "<style scoped>\n",
       "    .dataframe tbody tr th:only-of-type {\n",
       "        vertical-align: middle;\n",
       "    }\n",
       "\n",
       "    .dataframe tbody tr th {\n",
       "        vertical-align: top;\n",
       "    }\n",
       "\n",
       "    .dataframe thead th {\n",
       "        text-align: right;\n",
       "    }\n",
       "</style>\n",
       "<table border=\"1\" class=\"dataframe\">\n",
       "  <thead>\n",
       "    <tr style=\"text-align: right;\">\n",
       "      <th></th>\n",
       "      <th>registration_created_at</th>\n",
       "      <th>patient_financing</th>\n",
       "      <th>patient_insurance</th>\n",
       "      <th>clinic_province</th>\n",
       "      <th>clinic_regency</th>\n",
       "      <th>patient_id</th>\n",
       "      <th>patient_birth_date</th>\n",
       "      <th>patient_gender</th>\n",
       "      <th>patient_smoke</th>\n",
       "      <th>patient_blood_type</th>\n",
       "      <th>medical_record_created_at</th>\n",
       "      <th>icd_10</th>\n",
       "      <th>group_regency</th>\n",
       "      <th>group_disease</th>\n",
       "    </tr>\n",
       "  </thead>\n",
       "  <tbody>\n",
       "    <tr>\n",
       "      <th>168029</th>\n",
       "      <td>2023-05-22 11:16:25</td>\n",
       "      <td>Pribadi</td>\n",
       "      <td>0</td>\n",
       "      <td>Jawa Barat</td>\n",
       "      <td>Kota Bekasi</td>\n",
       "      <td>4fba3bb0-4e35-11ea-a790-71ad5ac0cc91</td>\n",
       "      <td>1986-12-25</td>\n",
       "      <td>Male</td>\n",
       "      <td>Not smoking</td>\n",
       "      <td>0</td>\n",
       "      <td>2023-05-22 13:14:57</td>\n",
       "      <td>Pulpitis</td>\n",
       "      <td>Bekasi</td>\n",
       "      <td>Other diseases</td>\n",
       "    </tr>\n",
       "    <tr>\n",
       "      <th>168030</th>\n",
       "      <td>2023-05-22 13:03:36</td>\n",
       "      <td>Asuransi/Jaminan</td>\n",
       "      <td>BPJS Kesehatan</td>\n",
       "      <td>Jawa Barat</td>\n",
       "      <td>KOTA BEKASI</td>\n",
       "      <td>48df1960-ad2c-11ed-83ac-ff55be163f1d</td>\n",
       "      <td>2009-12-17</td>\n",
       "      <td>Female</td>\n",
       "      <td>Not smoking</td>\n",
       "      <td>0</td>\n",
       "      <td>2023-05-22 13:16:26</td>\n",
       "      <td>Diare dan gastroenteritis oleh penyebab penyak...</td>\n",
       "      <td>Bekasi</td>\n",
       "      <td>Other diseases</td>\n",
       "    </tr>\n",
       "    <tr>\n",
       "      <th>168031</th>\n",
       "      <td>2023-05-22 10:32:22</td>\n",
       "      <td>Asuransi/Jaminan</td>\n",
       "      <td>BPJS Kesehatan</td>\n",
       "      <td>Jawa Barat</td>\n",
       "      <td>Kota Bekasi</td>\n",
       "      <td>51d1a920-b8b0-11ed-bdb6-cb75b5ec88b2</td>\n",
       "      <td>1976-05-11</td>\n",
       "      <td>Male</td>\n",
       "      <td>Not smoking</td>\n",
       "      <td>0</td>\n",
       "      <td>2023-05-22 13:17:33</td>\n",
       "      <td>Nekrosis pulpa</td>\n",
       "      <td>Bekasi</td>\n",
       "      <td>Other diseases</td>\n",
       "    </tr>\n",
       "    <tr>\n",
       "      <th>168032</th>\n",
       "      <td>2023-05-22 12:40:11</td>\n",
       "      <td>Asuransi/Jaminan</td>\n",
       "      <td>BPJS Kesehatan</td>\n",
       "      <td>Jawa Barat</td>\n",
       "      <td>Kota Bekasi</td>\n",
       "      <td>9939c4c9-0274-448b-9e6d-e0260aa69ee7</td>\n",
       "      <td>2018-10-31</td>\n",
       "      <td>Male</td>\n",
       "      <td>Not smoking</td>\n",
       "      <td>0</td>\n",
       "      <td>2023-05-22 13:19:03</td>\n",
       "      <td>Esofagitis</td>\n",
       "      <td>Bekasi</td>\n",
       "      <td>Other diseases</td>\n",
       "    </tr>\n",
       "    <tr>\n",
       "      <th>168033</th>\n",
       "      <td>2023-05-22 12:40:11</td>\n",
       "      <td>Asuransi/Jaminan</td>\n",
       "      <td>BPJS Kesehatan</td>\n",
       "      <td>Jawa Barat</td>\n",
       "      <td>Kota Bekasi</td>\n",
       "      <td>9939c4c9-0274-448b-9e6d-e0260aa69ee7</td>\n",
       "      <td>2018-10-31</td>\n",
       "      <td>Male</td>\n",
       "      <td>Not smoking</td>\n",
       "      <td>0</td>\n",
       "      <td>2023-05-22 13:19:03</td>\n",
       "      <td>ISPA bagian atas , tidak spesifik</td>\n",
       "      <td>Bekasi</td>\n",
       "      <td>ISPA</td>\n",
       "    </tr>\n",
       "  </tbody>\n",
       "</table>\n",
       "</div>"
      ],
      "text/plain": [
       "       registration_created_at patient_financing patient_insurance  \\\n",
       "168029     2023-05-22 11:16:25           Pribadi                 0   \n",
       "168030     2023-05-22 13:03:36  Asuransi/Jaminan    BPJS Kesehatan   \n",
       "168031     2023-05-22 10:32:22  Asuransi/Jaminan    BPJS Kesehatan   \n",
       "168032     2023-05-22 12:40:11  Asuransi/Jaminan    BPJS Kesehatan   \n",
       "168033     2023-05-22 12:40:11  Asuransi/Jaminan    BPJS Kesehatan   \n",
       "\n",
       "       clinic_province clinic_regency                            patient_id  \\\n",
       "168029      Jawa Barat    Kota Bekasi  4fba3bb0-4e35-11ea-a790-71ad5ac0cc91   \n",
       "168030      Jawa Barat    KOTA BEKASI  48df1960-ad2c-11ed-83ac-ff55be163f1d   \n",
       "168031      Jawa Barat    Kota Bekasi  51d1a920-b8b0-11ed-bdb6-cb75b5ec88b2   \n",
       "168032      Jawa Barat    Kota Bekasi  9939c4c9-0274-448b-9e6d-e0260aa69ee7   \n",
       "168033      Jawa Barat    Kota Bekasi  9939c4c9-0274-448b-9e6d-e0260aa69ee7   \n",
       "\n",
       "       patient_birth_date patient_gender patient_smoke patient_blood_type  \\\n",
       "168029         1986-12-25           Male   Not smoking                  0   \n",
       "168030         2009-12-17         Female   Not smoking                  0   \n",
       "168031         1976-05-11           Male   Not smoking                  0   \n",
       "168032         2018-10-31           Male   Not smoking                  0   \n",
       "168033         2018-10-31           Male   Not smoking                  0   \n",
       "\n",
       "       medical_record_created_at  \\\n",
       "168029       2023-05-22 13:14:57   \n",
       "168030       2023-05-22 13:16:26   \n",
       "168031       2023-05-22 13:17:33   \n",
       "168032       2023-05-22 13:19:03   \n",
       "168033       2023-05-22 13:19:03   \n",
       "\n",
       "                                                   icd_10 group_regency  \\\n",
       "168029                                           Pulpitis        Bekasi   \n",
       "168030  Diare dan gastroenteritis oleh penyebab penyak...        Bekasi   \n",
       "168031                                     Nekrosis pulpa        Bekasi   \n",
       "168032                                         Esofagitis        Bekasi   \n",
       "168033                  ISPA bagian atas , tidak spesifik        Bekasi   \n",
       "\n",
       "         group_disease  \n",
       "168029  Other diseases  \n",
       "168030  Other diseases  \n",
       "168031  Other diseases  \n",
       "168032  Other diseases  \n",
       "168033            ISPA  "
      ]
     },
     "execution_count": 28,
     "metadata": {},
     "output_type": "execute_result"
    }
   ],
   "source": [
    "data.tail(5)"
   ]
  },
  {
   "cell_type": "markdown",
   "id": "c6920a9a",
   "metadata": {
    "id": "c6920a9a"
   },
   "source": [
    "### Exploratory Data Analysis"
   ]
  },
  {
   "cell_type": "markdown",
   "id": "9070a7a0",
   "metadata": {
    "id": "9070a7a0"
   },
   "source": [
    "**Univariate Analysis**"
   ]
  },
  {
   "cell_type": "code",
   "execution_count": 29,
   "id": "07e8e98a",
   "metadata": {
    "colab": {
     "base_uri": "https://localhost:8080/",
     "height": 509
    },
    "id": "07e8e98a",
    "outputId": "99d8bc5f-83dc-4b8d-dbce-68ad24dcc68f"
   },
   "outputs": [
    {
     "data": {
      "image/png": "[encoded data removed]",
      "text/plain": [
       "<Figure size 1080x432 with 4 Axes>"
      ]
     },
     "metadata": {
      "needs_background": "light"
     },
     "output_type": "display_data"
    }
   ],
   "source": [
    "#Check distribution variable with few categories\n",
    "catcolumn = ['patient_financing','patient_gender','patient_smoke', 'patient_blood_type']\n",
    "fig = plt.figure(figsize=(15,6))\n",
    "ax_value = []\n",
    "for x in range(len(catcolumn)): \n",
    "    ax_value.append(f'ax{x}')\n",
    "                    \n",
    "for i in range(len(catcolumn)):\n",
    "    ax_value[i] = fig.add_subplot(1, len(catcolumn), i + 1)\n",
    "    data[catcolumn[i]].value_counts().plot(kind='bar', color='#6cabea', ax=ax_value[i])\n",
    "    ax_value[i].set_title(f'{catcolumn[i]}', fontweight='bold')\n",
    "    ax_value[i].set_xlabel(f'{catcolumn[i]} value')\n",
    "    ax_value[i].set_ylabel('Count Value')\n",
    "    plt.tight_layout()"
   ]
  },
  {
   "cell_type": "code",
   "execution_count": 30,
   "id": "1359268a",
   "metadata": {
    "colab": {
     "base_uri": "https://localhost:8080/"
    },
    "id": "1359268a",
    "outputId": "d572c62f-6b3f-405e-9f01-9a953af2c8fd"
   },
   "outputs": [
    {
     "name": "stdout",
     "output_type": "stream",
     "text": [
      "\u001b[1mclinic_province Feature Value Counts\u001b[0m\n",
      "Jawa Barat                   128058\n",
      "DKI Jakarta                    9346\n",
      "Banten                         8739\n",
      "Lampung                        4774\n",
      "Sumatera Barat                 4258\n",
      "Jawa Tengah                    3425\n",
      "Jawa Timur                     2014\n",
      "Bali                            924\n",
      "Sumatera Utara                  837\n",
      "Sulawesi Utara                  785\n",
      "Jambi                           509\n",
      "Riau                            433\n",
      "Aceh                            430\n",
      "Kalimantan Selatan              369\n",
      "Sumatera Selatan                319\n",
      "Bengkulu                        287\n",
      "DI Yogyakarta                   286\n",
      "Nusa Tenggara Timur             278\n",
      "Sulawesi Tengah                 274\n",
      "Sulawesi Selatan                252\n",
      "Kalimantan Barat                238\n",
      "Kalimantan Tengah               228\n",
      "Kepulauan Riau                  208\n",
      "Kalimantan Timur                184\n",
      "Kepulauan Bangka Belitung        86\n",
      "Kalimantan Utara                 54\n",
      "Nusa Tenggara Barat              12\n",
      "Papua Barat                      10\n",
      "Sulawesi Tenggara                 3\n",
      "Papua                             2\n",
      "Name: clinic_province, dtype: int64\n",
      "\u001b[1mpatient_insurance Feature Value Counts\u001b[0m\n",
      "BPJS Kesehatan                    102317\n",
      "0                                  62704\n",
      "PLN INSURANCE                        519\n",
      "Mandiri Inhealth                     436\n",
      "Pesantren Arrahman (Pelajar)         385\n",
      "Admedika                             325\n",
      "Test Penjamin                        221\n",
      "Garda Medika                         170\n",
      "INHEALTH                             143\n",
      "Reliance                             136\n",
      "Pesantren Arrahman (Karyawan)         58\n",
      "PT. ADI KARYA                         41\n",
      "ISOmedik                              36\n",
      "PT Hilti Nusantara                    34\n",
      "INHEALTH MANAGED CARE                 23\n",
      "Klinik Pintar                         20\n",
      "PT. RADEMA                            13\n",
      "INHEALTH INDEMINITY                    6\n",
      "AXA Mandiri                            6\n",
      "Asuransi Pendidikan Ponpes MTA         6\n",
      "Asuransi AHM                           4\n",
      "BNI Life                               3\n",
      "AIA Financial                          3\n",
      "Keluarga dr. Aryawan                   2\n",
      "Kapitasi                               2\n",
      "Atlet Nasional                         2\n",
      "PT AKI                                 1\n",
      "pt nayaka era husada                   1\n",
      "YKP Bjb                                1\n",
      "Selvi                                  1\n",
      "FULLERTON HEALTH                       1\n",
      "Al-Qosbah                              1\n",
      "Karyawan Kemenpora                     1\n",
      "Name: patient_insurance, dtype: int64\n"
     ]
    }
   ],
   "source": [
    "#Check distribution variable with a lot of categories \n",
    "for i in ['clinic_province', 'patient_insurance']: \n",
    "    print('\\033[1m' + f'{i} Feature Value Counts' + '\\033[0m')\n",
    "    print(data[i].value_counts(ascending=False))"
   ]
  },
  {
   "cell_type": "markdown",
   "id": "b7172bf4",
   "metadata": {
    "id": "b7172bf4"
   },
   "source": [
    "**Multivariate Analysis**"
   ]
  },
  {
   "cell_type": "markdown",
   "id": "8c7b4127",
   "metadata": {
    "id": "8c7b4127"
   },
   "source": [
    "**1. How many patient registration per month of years**"
   ]
  },
  {
   "cell_type": "code",
   "execution_count": 31,
   "id": "7a2b8fe3",
   "metadata": {
    "id": "7a2b8fe3"
   },
   "outputs": [],
   "source": [
    "#change datatype to datetime for registration_created_at\n",
    "data['registration_created_at'] = pd.to_datetime(data.registration_created_at)"
   ]
  },
  {
   "cell_type": "code",
   "execution_count": 32,
   "id": "9ee40128",
   "metadata": {
    "colab": {
     "base_uri": "https://localhost:8080/",
     "height": 424
    },
    "id": "9ee40128",
    "outputId": "b789ddf8-22b0-4941-f9e9-7bf295ebb36b"
   },
   "outputs": [
    {
     "data": {
      "text/html": [
       "<div>\n",
       "<style scoped>\n",
       "    .dataframe tbody tr th:only-of-type {\n",
       "        vertical-align: middle;\n",
       "    }\n",
       "\n",
       "    .dataframe tbody tr th {\n",
       "        vertical-align: top;\n",
       "    }\n",
       "\n",
       "    .dataframe thead th {\n",
       "        text-align: right;\n",
       "    }\n",
       "</style>\n",
       "<table border=\"1\" class=\"dataframe\">\n",
       "  <thead>\n",
       "    <tr style=\"text-align: right;\">\n",
       "      <th></th>\n",
       "      <th>Year_registration</th>\n",
       "      <th>month_year_registration</th>\n",
       "    </tr>\n",
       "  </thead>\n",
       "  <tbody>\n",
       "    <tr>\n",
       "      <th>0</th>\n",
       "      <td>2019</td>\n",
       "      <td>2019-02</td>\n",
       "    </tr>\n",
       "    <tr>\n",
       "      <th>1</th>\n",
       "      <td>2019</td>\n",
       "      <td>2019-02</td>\n",
       "    </tr>\n",
       "    <tr>\n",
       "      <th>2</th>\n",
       "      <td>2019</td>\n",
       "      <td>2019-02</td>\n",
       "    </tr>\n",
       "    <tr>\n",
       "      <th>3</th>\n",
       "      <td>2019</td>\n",
       "      <td>2019-02</td>\n",
       "    </tr>\n",
       "    <tr>\n",
       "      <th>4</th>\n",
       "      <td>2019</td>\n",
       "      <td>2019-02</td>\n",
       "    </tr>\n",
       "    <tr>\n",
       "      <th>...</th>\n",
       "      <td>...</td>\n",
       "      <td>...</td>\n",
       "    </tr>\n",
       "    <tr>\n",
       "      <th>168029</th>\n",
       "      <td>2023</td>\n",
       "      <td>2023-05</td>\n",
       "    </tr>\n",
       "    <tr>\n",
       "      <th>168030</th>\n",
       "      <td>2023</td>\n",
       "      <td>2023-05</td>\n",
       "    </tr>\n",
       "    <tr>\n",
       "      <th>168031</th>\n",
       "      <td>2023</td>\n",
       "      <td>2023-05</td>\n",
       "    </tr>\n",
       "    <tr>\n",
       "      <th>168032</th>\n",
       "      <td>2023</td>\n",
       "      <td>2023-05</td>\n",
       "    </tr>\n",
       "    <tr>\n",
       "      <th>168033</th>\n",
       "      <td>2023</td>\n",
       "      <td>2023-05</td>\n",
       "    </tr>\n",
       "  </tbody>\n",
       "</table>\n",
       "<p>167622 rows × 2 columns</p>\n",
       "</div>"
      ],
      "text/plain": [
       "        Year_registration month_year_registration\n",
       "0                    2019                 2019-02\n",
       "1                    2019                 2019-02\n",
       "2                    2019                 2019-02\n",
       "3                    2019                 2019-02\n",
       "4                    2019                 2019-02\n",
       "...                   ...                     ...\n",
       "168029               2023                 2023-05\n",
       "168030               2023                 2023-05\n",
       "168031               2023                 2023-05\n",
       "168032               2023                 2023-05\n",
       "168033               2023                 2023-05\n",
       "\n",
       "[167622 rows x 2 columns]"
      ]
     },
     "execution_count": 32,
     "metadata": {},
     "output_type": "execute_result"
    }
   ],
   "source": [
    "#Create column for month year registration_create_at\n",
    "data['Date_registration'] = data['registration_created_at'].dt.date\n",
    "data['month_year_registration'] = data['registration_created_at'].dt.to_period('M')\n",
    "data['Year_registration'] = data.registration_created_at.dt.isocalendar().year \n",
    "data[['Year_registration','month_year_registration']]"
   ]
  },
  {
   "cell_type": "code",
   "execution_count": 33,
   "id": "e2d9d167",
   "metadata": {
    "colab": {
     "base_uri": "https://localhost:8080/",
     "height": 431
    },
    "id": "e2d9d167",
    "outputId": "10d2f6fe-ceb3-4647-eef3-0ff619521128"
   },
   "outputs": [
    {
     "data": {
      "image/png": "[encoded data removed]",
      "text/plain": [
       "<Figure size 936x288 with 1 Axes>"
      ]
     },
     "metadata": {
      "needs_background": "light"
     },
     "output_type": "display_data"
    }
   ],
   "source": [
    "#How registration patient for each month of years\n",
    "plt.figure(figsize=(13,4))\n",
    "plt.box(False)\n",
    "data.groupby('Year_registration')['icd_10'].count().plot(kind='bar', color='#6cabea')\n",
    "plt.title('Regitration patient per years', fontweight='bold', fontsize=12)\n",
    "plt.ylabel('Regitration patient', fontsize=10)\n",
    "plt.grid(axis = 'y')\n",
    "plt.xlabel('Year Registration')\n",
    "plt.show()"
   ]
  },
  {
   "cell_type": "markdown",
   "id": "9690246b",
   "metadata": {
    "id": "9690246b"
   },
   "source": [
    "**Key Takeaway**\n",
    "- Data registrasi pasien yang berkunjung semakin lama semakin meningkat kecuali ditahun 2021 yang mengalami sedikit penurunan dari tahun sebelumnya\n",
    "- Pada tahun 2023 kunjungan pasien paling tinggi dibandingkan tahun-tahun sebelumnya"
   ]
  },
  {
   "cell_type": "markdown",
   "id": "78c145f8",
   "metadata": {
    "id": "78c145f8"
   },
   "source": [
    "**2. How diagnose patient for each month of years**"
   ]
  },
  {
   "cell_type": "code",
   "execution_count": 34,
   "id": "fe96c233",
   "metadata": {
    "id": "fe96c233"
   },
   "outputs": [],
   "source": [
    "#change datatype to datetime for medical_record_created_at\n",
    "data['medical_record_created_at'] = pd.to_datetime(data.medical_record_created_at)"
   ]
  },
  {
   "cell_type": "code",
   "execution_count": 35,
   "id": "ba11ebc4",
   "metadata": {
    "colab": {
     "base_uri": "https://localhost:8080/",
     "height": 424
    },
    "id": "ba11ebc4",
    "outputId": "93c6e653-ccbf-4904-eb21-b8f9476c4544"
   },
   "outputs": [
    {
     "data": {
      "text/html": [
       "<div>\n",
       "<style scoped>\n",
       "    .dataframe tbody tr th:only-of-type {\n",
       "        vertical-align: middle;\n",
       "    }\n",
       "\n",
       "    .dataframe tbody tr th {\n",
       "        vertical-align: top;\n",
       "    }\n",
       "\n",
       "    .dataframe thead th {\n",
       "        text-align: right;\n",
       "    }\n",
       "</style>\n",
       "<table border=\"1\" class=\"dataframe\">\n",
       "  <thead>\n",
       "    <tr style=\"text-align: right;\">\n",
       "      <th></th>\n",
       "      <th>Year_medical</th>\n",
       "      <th>month_year_medical</th>\n",
       "    </tr>\n",
       "  </thead>\n",
       "  <tbody>\n",
       "    <tr>\n",
       "      <th>0</th>\n",
       "      <td>2019</td>\n",
       "      <td>2019-02</td>\n",
       "    </tr>\n",
       "    <tr>\n",
       "      <th>1</th>\n",
       "      <td>2019</td>\n",
       "      <td>2019-02</td>\n",
       "    </tr>\n",
       "    <tr>\n",
       "      <th>2</th>\n",
       "      <td>2019</td>\n",
       "      <td>2019-02</td>\n",
       "    </tr>\n",
       "    <tr>\n",
       "      <th>3</th>\n",
       "      <td>2019</td>\n",
       "      <td>2019-02</td>\n",
       "    </tr>\n",
       "    <tr>\n",
       "      <th>4</th>\n",
       "      <td>2019</td>\n",
       "      <td>2019-02</td>\n",
       "    </tr>\n",
       "    <tr>\n",
       "      <th>...</th>\n",
       "      <td>...</td>\n",
       "      <td>...</td>\n",
       "    </tr>\n",
       "    <tr>\n",
       "      <th>168029</th>\n",
       "      <td>2023</td>\n",
       "      <td>2023-05</td>\n",
       "    </tr>\n",
       "    <tr>\n",
       "      <th>168030</th>\n",
       "      <td>2023</td>\n",
       "      <td>2023-05</td>\n",
       "    </tr>\n",
       "    <tr>\n",
       "      <th>168031</th>\n",
       "      <td>2023</td>\n",
       "      <td>2023-05</td>\n",
       "    </tr>\n",
       "    <tr>\n",
       "      <th>168032</th>\n",
       "      <td>2023</td>\n",
       "      <td>2023-05</td>\n",
       "    </tr>\n",
       "    <tr>\n",
       "      <th>168033</th>\n",
       "      <td>2023</td>\n",
       "      <td>2023-05</td>\n",
       "    </tr>\n",
       "  </tbody>\n",
       "</table>\n",
       "<p>167622 rows × 2 columns</p>\n",
       "</div>"
      ],
      "text/plain": [
       "        Year_medical month_year_medical\n",
       "0               2019            2019-02\n",
       "1               2019            2019-02\n",
       "2               2019            2019-02\n",
       "3               2019            2019-02\n",
       "4               2019            2019-02\n",
       "...              ...                ...\n",
       "168029          2023            2023-05\n",
       "168030          2023            2023-05\n",
       "168031          2023            2023-05\n",
       "168032          2023            2023-05\n",
       "168033          2023            2023-05\n",
       "\n",
       "[167622 rows x 2 columns]"
      ]
     },
     "execution_count": 35,
     "metadata": {},
     "output_type": "execute_result"
    }
   ],
   "source": [
    "#Create column for month year medical_record_created_at\n",
    "data['Date_medical'] = data['medical_record_created_at'].dt.date\n",
    "data['month_year_medical'] = data['medical_record_created_at'].dt.to_period('M')\n",
    "data['Year_medical'] = data.medical_record_created_at.dt.isocalendar().year \n",
    "data[['Year_medical','month_year_medical']]"
   ]
  },
  {
   "cell_type": "code",
   "execution_count": 36,
   "id": "30964713",
   "metadata": {
    "colab": {
     "base_uri": "https://localhost:8080/",
     "height": 410
    },
    "id": "30964713",
    "outputId": "f667a4b9-aa0e-4831-f28c-ce5c8d1eb117"
   },
   "outputs": [
    {
     "data": {
      "image/png": "[encoded data removed]",
      "text/plain": [
       "<Figure size 936x288 with 1 Axes>"
      ]
     },
     "metadata": {
      "needs_background": "light"
     },
     "output_type": "display_data"
    }
   ],
   "source": [
    "#How diagnose patient for each month of years\n",
    "plt.figure(figsize=(13,4))\n",
    "plt.box(False)\n",
    "data.groupby('month_year_medical')['icd_10'].count().plot(kind='line')\n",
    "plt.title('Diagnose patient per month of years', fontweight='bold', fontsize=12)\n",
    "plt.ylabel('Diagnose patient', fontsize=10)\n",
    "plt.grid(axis = 'y')\n",
    "plt.xlabel('Date')\n",
    "plt.show()"
   ]
  },
  {
   "cell_type": "markdown",
   "id": "86084c94",
   "metadata": {
    "id": "86084c94"
   },
   "source": [
    "**Key Takeaway**\n",
    "- Tahun 2023 memiliki jumlah diagnosis penyakit pasien tertinggi dibandingkan tahun-tahun sebelumnya"
   ]
  },
  {
   "cell_type": "markdown",
   "id": "989d98ab",
   "metadata": {
    "id": "989d98ab"
   },
   "source": [
    "**3. How old patient with the most diagnose**"
   ]
  },
  {
   "cell_type": "code",
   "execution_count": 37,
   "id": "1058aa90",
   "metadata": {
    "id": "1058aa90"
   },
   "outputs": [],
   "source": [
    "#create column for patient_birth_date with datetime type and mark if there is error patient_birth_date \n",
    "data['birthdate'] = pd.to_datetime(data['patient_birth_date'], errors = 'coerce')"
   ]
  },
  {
   "cell_type": "code",
   "execution_count": 38,
   "id": "957561f3",
   "metadata": {
    "id": "957561f3"
   },
   "outputs": [],
   "source": [
    "#get only date format from birthdate\n",
    "data['birthdate'] = data['birthdate'].dt.date"
   ]
  },
  {
   "cell_type": "code",
   "execution_count": 39,
   "id": "ab77a8fd",
   "metadata": {
    "colab": {
     "base_uri": "https://localhost:8080/",
     "height": 1000
    },
    "id": "ab77a8fd",
    "outputId": "0f8c6928-54c1-4361-93f8-d0f525ca1486"
   },
   "outputs": [
    {
     "data": {
      "text/html": [
       "<div>\n",
       "<style scoped>\n",
       "    .dataframe tbody tr th:only-of-type {\n",
       "        vertical-align: middle;\n",
       "    }\n",
       "\n",
       "    .dataframe tbody tr th {\n",
       "        vertical-align: top;\n",
       "    }\n",
       "\n",
       "    .dataframe thead th {\n",
       "        text-align: right;\n",
       "    }\n",
       "</style>\n",
       "<table border=\"1\" class=\"dataframe\">\n",
       "  <thead>\n",
       "    <tr style=\"text-align: right;\">\n",
       "      <th></th>\n",
       "      <th>registration_created_at</th>\n",
       "      <th>patient_financing</th>\n",
       "      <th>patient_insurance</th>\n",
       "      <th>clinic_province</th>\n",
       "      <th>clinic_regency</th>\n",
       "      <th>patient_id</th>\n",
       "      <th>patient_birth_date</th>\n",
       "      <th>patient_gender</th>\n",
       "      <th>patient_smoke</th>\n",
       "      <th>patient_blood_type</th>\n",
       "      <th>...</th>\n",
       "      <th>icd_10</th>\n",
       "      <th>group_regency</th>\n",
       "      <th>group_disease</th>\n",
       "      <th>Date_registration</th>\n",
       "      <th>month_year_registration</th>\n",
       "      <th>Year_registration</th>\n",
       "      <th>Date_medical</th>\n",
       "      <th>month_year_medical</th>\n",
       "      <th>Year_medical</th>\n",
       "      <th>birthdate</th>\n",
       "    </tr>\n",
       "  </thead>\n",
       "  <tbody>\n",
       "    <tr>\n",
       "      <th>72</th>\n",
       "      <td>2019-08-25 16:56:16</td>\n",
       "      <td>Pribadi</td>\n",
       "      <td>0</td>\n",
       "      <td>Banten</td>\n",
       "      <td>Kota Tangerang Selatan</td>\n",
       "      <td>3dab52a0-c71e-11e9-84de-0f50e20b7e9d</td>\n",
       "      <td>0196-10-12</td>\n",
       "      <td>Female</td>\n",
       "      <td>Not smoking</td>\n",
       "      <td>0</td>\n",
       "      <td>...</td>\n",
       "      <td>Efek samping dalam penggunaan terapi agen yang...</td>\n",
       "      <td>Tangerang</td>\n",
       "      <td>Other diseases</td>\n",
       "      <td>2019-08-25</td>\n",
       "      <td>2019-08</td>\n",
       "      <td>2019</td>\n",
       "      <td>2019-08-25</td>\n",
       "      <td>2019-08</td>\n",
       "      <td>2019</td>\n",
       "      <td>NaT</td>\n",
       "    </tr>\n",
       "    <tr>\n",
       "      <th>1168</th>\n",
       "      <td>2020-02-14 14:33:47</td>\n",
       "      <td>Asuransi/Jaminan</td>\n",
       "      <td>BPJS Kesehatan</td>\n",
       "      <td>Jawa Barat</td>\n",
       "      <td>0</td>\n",
       "      <td>078284a0-4efc-11ea-975d-ebe3bbfb4791</td>\n",
       "      <td>0994-09-04</td>\n",
       "      <td>Female</td>\n",
       "      <td>Not smoking</td>\n",
       "      <td>0</td>\n",
       "      <td>...</td>\n",
       "      <td>Demam tifoid</td>\n",
       "      <td>0</td>\n",
       "      <td>Other diseases</td>\n",
       "      <td>2020-02-14</td>\n",
       "      <td>2020-02</td>\n",
       "      <td>2020</td>\n",
       "      <td>2020-02-14</td>\n",
       "      <td>2020-02</td>\n",
       "      <td>2020</td>\n",
       "      <td>NaT</td>\n",
       "    </tr>\n",
       "    <tr>\n",
       "      <th>1256</th>\n",
       "      <td>2020-02-17 10:15:55</td>\n",
       "      <td>Asuransi/Jaminan</td>\n",
       "      <td>BPJS Kesehatan</td>\n",
       "      <td>Jawa Barat</td>\n",
       "      <td>0</td>\n",
       "      <td>723bbff0-5133-11ea-9912-9909650c46dc</td>\n",
       "      <td>1061-09-12</td>\n",
       "      <td>Female</td>\n",
       "      <td>Not smoking</td>\n",
       "      <td>0</td>\n",
       "      <td>...</td>\n",
       "      <td>batuk</td>\n",
       "      <td>0</td>\n",
       "      <td>Other diseases</td>\n",
       "      <td>2020-02-17</td>\n",
       "      <td>2020-02</td>\n",
       "      <td>2020</td>\n",
       "      <td>2020-02-17</td>\n",
       "      <td>2020-02</td>\n",
       "      <td>2020</td>\n",
       "      <td>NaT</td>\n",
       "    </tr>\n",
       "    <tr>\n",
       "      <th>2923</th>\n",
       "      <td>2020-03-16 10:49:11</td>\n",
       "      <td>Pribadi</td>\n",
       "      <td>0</td>\n",
       "      <td>Jawa Barat</td>\n",
       "      <td>Kota Bekasi</td>\n",
       "      <td>8786dd50-635c-11ea-bbcd-599286143b8d</td>\n",
       "      <td>0973-03-18</td>\n",
       "      <td>Female</td>\n",
       "      <td>Not smoking</td>\n",
       "      <td>B</td>\n",
       "      <td>...</td>\n",
       "      <td>Fisura anus kronis</td>\n",
       "      <td>Bekasi</td>\n",
       "      <td>Other diseases</td>\n",
       "      <td>2020-03-16</td>\n",
       "      <td>2020-03</td>\n",
       "      <td>2020</td>\n",
       "      <td>2020-03-16</td>\n",
       "      <td>2020-03</td>\n",
       "      <td>2020</td>\n",
       "      <td>NaT</td>\n",
       "    </tr>\n",
       "    <tr>\n",
       "      <th>2944</th>\n",
       "      <td>2020-03-16 04:58:04</td>\n",
       "      <td>Asuransi/Jaminan</td>\n",
       "      <td>BPJS Kesehatan</td>\n",
       "      <td>Jawa Barat</td>\n",
       "      <td>0</td>\n",
       "      <td>723bbff0-5133-11ea-9912-9909650c46dc</td>\n",
       "      <td>1061-09-12</td>\n",
       "      <td>Female</td>\n",
       "      <td>Not smoking</td>\n",
       "      <td>0</td>\n",
       "      <td>...</td>\n",
       "      <td>Infeksi influenzae Haemophilus , tidak spesifik</td>\n",
       "      <td>0</td>\n",
       "      <td>Flu</td>\n",
       "      <td>2020-03-16</td>\n",
       "      <td>2020-03</td>\n",
       "      <td>2020</td>\n",
       "      <td>2020-03-16</td>\n",
       "      <td>2020-03</td>\n",
       "      <td>2020</td>\n",
       "      <td>NaT</td>\n",
       "    </tr>\n",
       "    <tr>\n",
       "      <th>...</th>\n",
       "      <td>...</td>\n",
       "      <td>...</td>\n",
       "      <td>...</td>\n",
       "      <td>...</td>\n",
       "      <td>...</td>\n",
       "      <td>...</td>\n",
       "      <td>...</td>\n",
       "      <td>...</td>\n",
       "      <td>...</td>\n",
       "      <td>...</td>\n",
       "      <td>...</td>\n",
       "      <td>...</td>\n",
       "      <td>...</td>\n",
       "      <td>...</td>\n",
       "      <td>...</td>\n",
       "      <td>...</td>\n",
       "      <td>...</td>\n",
       "      <td>...</td>\n",
       "      <td>...</td>\n",
       "      <td>...</td>\n",
       "      <td>...</td>\n",
       "    </tr>\n",
       "    <tr>\n",
       "      <th>53723</th>\n",
       "      <td>2022-11-15 17:53:17</td>\n",
       "      <td>Asuransi/Jaminan</td>\n",
       "      <td>BPJS Kesehatan</td>\n",
       "      <td>Jawa Barat</td>\n",
       "      <td>0</td>\n",
       "      <td>078284a0-4efc-11ea-975d-ebe3bbfb4791</td>\n",
       "      <td>0994-09-04</td>\n",
       "      <td>Female</td>\n",
       "      <td>Not smoking</td>\n",
       "      <td>0</td>\n",
       "      <td>...</td>\n",
       "      <td>Dermatitis atopik lainnya</td>\n",
       "      <td>0</td>\n",
       "      <td>Other diseases</td>\n",
       "      <td>2022-11-15</td>\n",
       "      <td>2022-11</td>\n",
       "      <td>2022</td>\n",
       "      <td>2022-11-15</td>\n",
       "      <td>2022-11</td>\n",
       "      <td>2022</td>\n",
       "      <td>NaT</td>\n",
       "    </tr>\n",
       "    <tr>\n",
       "      <th>67197</th>\n",
       "      <td>2023-01-13 09:28:01</td>\n",
       "      <td>Asuransi/Jaminan</td>\n",
       "      <td>BPJS Kesehatan</td>\n",
       "      <td>Jawa Barat</td>\n",
       "      <td>0</td>\n",
       "      <td>078284a0-4efc-11ea-975d-ebe3bbfb4791</td>\n",
       "      <td>0994-09-04</td>\n",
       "      <td>Female</td>\n",
       "      <td>Not smoking</td>\n",
       "      <td>0</td>\n",
       "      <td>...</td>\n",
       "      <td>Pencernaan yg terganggu</td>\n",
       "      <td>0</td>\n",
       "      <td>Pencernaan</td>\n",
       "      <td>2023-01-13</td>\n",
       "      <td>2023-01</td>\n",
       "      <td>2023</td>\n",
       "      <td>2023-01-13</td>\n",
       "      <td>2023-01</td>\n",
       "      <td>2023</td>\n",
       "      <td>NaT</td>\n",
       "    </tr>\n",
       "    <tr>\n",
       "      <th>73153</th>\n",
       "      <td>2023-01-27 10:05:45</td>\n",
       "      <td>Asuransi/Jaminan</td>\n",
       "      <td>BPJS Kesehatan</td>\n",
       "      <td>Jawa Barat</td>\n",
       "      <td>0</td>\n",
       "      <td>723bbff0-5133-11ea-9912-9909650c46dc</td>\n",
       "      <td>1061-09-12</td>\n",
       "      <td>Female</td>\n",
       "      <td>Not smoking</td>\n",
       "      <td>0</td>\n",
       "      <td>...</td>\n",
       "      <td>Neuralgia and neuritis, unspecified, lower leg</td>\n",
       "      <td>0</td>\n",
       "      <td>Other diseases</td>\n",
       "      <td>2023-01-27</td>\n",
       "      <td>2023-01</td>\n",
       "      <td>2023</td>\n",
       "      <td>2023-01-27</td>\n",
       "      <td>2023-01</td>\n",
       "      <td>2023</td>\n",
       "      <td>NaT</td>\n",
       "    </tr>\n",
       "    <tr>\n",
       "      <th>86544</th>\n",
       "      <td>2023-02-16 19:33:31</td>\n",
       "      <td>Asuransi/Jaminan</td>\n",
       "      <td>BPJS Kesehatan</td>\n",
       "      <td>Jawa Barat</td>\n",
       "      <td>0</td>\n",
       "      <td>723bbff0-5133-11ea-9912-9909650c46dc</td>\n",
       "      <td>1061-09-12</td>\n",
       "      <td>Female</td>\n",
       "      <td>Not smoking</td>\n",
       "      <td>0</td>\n",
       "      <td>...</td>\n",
       "      <td>sakit kepala</td>\n",
       "      <td>0</td>\n",
       "      <td>Other diseases</td>\n",
       "      <td>2023-02-16</td>\n",
       "      <td>2023-02</td>\n",
       "      <td>2023</td>\n",
       "      <td>2023-02-16</td>\n",
       "      <td>2023-02</td>\n",
       "      <td>2023</td>\n",
       "      <td>NaT</td>\n",
       "    </tr>\n",
       "    <tr>\n",
       "      <th>86545</th>\n",
       "      <td>2023-02-16 19:33:31</td>\n",
       "      <td>Asuransi/Jaminan</td>\n",
       "      <td>BPJS Kesehatan</td>\n",
       "      <td>Jawa Barat</td>\n",
       "      <td>0</td>\n",
       "      <td>723bbff0-5133-11ea-9912-9909650c46dc</td>\n",
       "      <td>1061-09-12</td>\n",
       "      <td>Female</td>\n",
       "      <td>Not smoking</td>\n",
       "      <td>0</td>\n",
       "      <td>...</td>\n",
       "      <td>Myalgia, multiple sites</td>\n",
       "      <td>0</td>\n",
       "      <td>Other diseases</td>\n",
       "      <td>2023-02-16</td>\n",
       "      <td>2023-02</td>\n",
       "      <td>2023</td>\n",
       "      <td>2023-02-16</td>\n",
       "      <td>2023-02</td>\n",
       "      <td>2023</td>\n",
       "      <td>NaT</td>\n",
       "    </tr>\n",
       "  </tbody>\n",
       "</table>\n",
       "<p>61 rows × 21 columns</p>\n",
       "</div>"
      ],
      "text/plain": [
       "      registration_created_at patient_financing patient_insurance  \\\n",
       "72        2019-08-25 16:56:16           Pribadi                 0   \n",
       "1168      2020-02-14 14:33:47  Asuransi/Jaminan    BPJS Kesehatan   \n",
       "1256      2020-02-17 10:15:55  Asuransi/Jaminan    BPJS Kesehatan   \n",
       "2923      2020-03-16 10:49:11           Pribadi                 0   \n",
       "2944      2020-03-16 04:58:04  Asuransi/Jaminan    BPJS Kesehatan   \n",
       "...                       ...               ...               ...   \n",
       "53723     2022-11-15 17:53:17  Asuransi/Jaminan    BPJS Kesehatan   \n",
       "67197     2023-01-13 09:28:01  Asuransi/Jaminan    BPJS Kesehatan   \n",
       "73153     2023-01-27 10:05:45  Asuransi/Jaminan    BPJS Kesehatan   \n",
       "86544     2023-02-16 19:33:31  Asuransi/Jaminan    BPJS Kesehatan   \n",
       "86545     2023-02-16 19:33:31  Asuransi/Jaminan    BPJS Kesehatan   \n",
       "\n",
       "      clinic_province          clinic_regency  \\\n",
       "72             Banten  Kota Tangerang Selatan   \n",
       "1168       Jawa Barat                       0   \n",
       "1256       Jawa Barat                       0   \n",
       "2923       Jawa Barat             Kota Bekasi   \n",
       "2944       Jawa Barat                       0   \n",
       "...               ...                     ...   \n",
       "53723      Jawa Barat                       0   \n",
       "67197      Jawa Barat                       0   \n",
       "73153      Jawa Barat                       0   \n",
       "86544      Jawa Barat                       0   \n",
       "86545      Jawa Barat                       0   \n",
       "\n",
       "                                 patient_id patient_birth_date patient_gender  \\\n",
       "72     3dab52a0-c71e-11e9-84de-0f50e20b7e9d         0196-10-12         Female   \n",
       "1168   078284a0-4efc-11ea-975d-ebe3bbfb4791         0994-09-04         Female   \n",
       "1256   723bbff0-5133-11ea-9912-9909650c46dc         1061-09-12         Female   \n",
       "2923   8786dd50-635c-11ea-bbcd-599286143b8d         0973-03-18         Female   \n",
       "2944   723bbff0-5133-11ea-9912-9909650c46dc         1061-09-12         Female   \n",
       "...                                     ...                ...            ...   \n",
       "53723  078284a0-4efc-11ea-975d-ebe3bbfb4791         0994-09-04         Female   \n",
       "67197  078284a0-4efc-11ea-975d-ebe3bbfb4791         0994-09-04         Female   \n",
       "73153  723bbff0-5133-11ea-9912-9909650c46dc         1061-09-12         Female   \n",
       "86544  723bbff0-5133-11ea-9912-9909650c46dc         1061-09-12         Female   \n",
       "86545  723bbff0-5133-11ea-9912-9909650c46dc         1061-09-12         Female   \n",
       "\n",
       "      patient_smoke patient_blood_type  ...  \\\n",
       "72      Not smoking                  0  ...   \n",
       "1168    Not smoking                  0  ...   \n",
       "1256    Not smoking                  0  ...   \n",
       "2923    Not smoking                  B  ...   \n",
       "2944    Not smoking                  0  ...   \n",
       "...             ...                ...  ...   \n",
       "53723   Not smoking                  0  ...   \n",
       "67197   Not smoking                  0  ...   \n",
       "73153   Not smoking                  0  ...   \n",
       "86544   Not smoking                  0  ...   \n",
       "86545   Not smoking                  0  ...   \n",
       "\n",
       "                                                  icd_10 group_regency  \\\n",
       "72     Efek samping dalam penggunaan terapi agen yang...     Tangerang   \n",
       "1168                                        Demam tifoid             0   \n",
       "1256                                               batuk             0   \n",
       "2923                                  Fisura anus kronis        Bekasi   \n",
       "2944     Infeksi influenzae Haemophilus , tidak spesifik             0   \n",
       "...                                                  ...           ...   \n",
       "53723                          Dermatitis atopik lainnya             0   \n",
       "67197                            Pencernaan yg terganggu             0   \n",
       "73153     Neuralgia and neuritis, unspecified, lower leg             0   \n",
       "86544                                       sakit kepala             0   \n",
       "86545                            Myalgia, multiple sites             0   \n",
       "\n",
       "        group_disease Date_registration month_year_registration  \\\n",
       "72     Other diseases        2019-08-25                 2019-08   \n",
       "1168   Other diseases        2020-02-14                 2020-02   \n",
       "1256   Other diseases        2020-02-17                 2020-02   \n",
       "2923   Other diseases        2020-03-16                 2020-03   \n",
       "2944              Flu        2020-03-16                 2020-03   \n",
       "...               ...               ...                     ...   \n",
       "53723  Other diseases        2022-11-15                 2022-11   \n",
       "67197      Pencernaan        2023-01-13                 2023-01   \n",
       "73153  Other diseases        2023-01-27                 2023-01   \n",
       "86544  Other diseases        2023-02-16                 2023-02   \n",
       "86545  Other diseases        2023-02-16                 2023-02   \n",
       "\n",
       "      Year_registration  Date_medical month_year_medical Year_medical  \\\n",
       "72                 2019    2019-08-25            2019-08         2019   \n",
       "1168               2020    2020-02-14            2020-02         2020   \n",
       "1256               2020    2020-02-17            2020-02         2020   \n",
       "2923               2020    2020-03-16            2020-03         2020   \n",
       "2944               2020    2020-03-16            2020-03         2020   \n",
       "...                 ...           ...                ...          ...   \n",
       "53723              2022    2022-11-15            2022-11         2022   \n",
       "67197              2023    2023-01-13            2023-01         2023   \n",
       "73153              2023    2023-01-27            2023-01         2023   \n",
       "86544              2023    2023-02-16            2023-02         2023   \n",
       "86545              2023    2023-02-16            2023-02         2023   \n",
       "\n",
       "       birthdate  \n",
       "72           NaT  \n",
       "1168         NaT  \n",
       "1256         NaT  \n",
       "2923         NaT  \n",
       "2944         NaT  \n",
       "...          ...  \n",
       "53723        NaT  \n",
       "67197        NaT  \n",
       "73153        NaT  \n",
       "86544        NaT  \n",
       "86545        NaT  \n",
       "\n",
       "[61 rows x 21 columns]"
      ]
     },
     "execution_count": 39,
     "metadata": {},
     "output_type": "execute_result"
    }
   ],
   "source": [
    "#check data with error patient_birth_date \n",
    "data[data['birthdate'].isna()]"
   ]
  },
  {
   "cell_type": "code",
   "execution_count": 40,
   "id": "46543b1e",
   "metadata": {
    "id": "46543b1e"
   },
   "outputs": [],
   "source": [
    "#create column for age patient\n",
    "\n",
    "from datetime import date\n",
    " \n",
    "def age(birthdate):\n",
    "    today = date.today()\n",
    "    age = today.year - birthdate.year - ((today.month, today.day) < (birthdate.month, birthdate.day))\n",
    "    return age\n",
    "\n",
    "data['Age'] = data['birthdate'].apply(age)"
   ]
  },
  {
   "cell_type": "code",
   "execution_count": 41,
   "id": "adde86f5",
   "metadata": {
    "colab": {
     "base_uri": "https://localhost:8080/"
    },
    "id": "adde86f5",
    "outputId": "dfb42594-5503-4354-dc88-a6aa1c226a17"
   },
   "outputs": [
    {
     "data": {
      "text/plain": [
       "0         26.0\n",
       "1         33.0\n",
       "2         26.0\n",
       "3         26.0\n",
       "4         30.0\n",
       "          ... \n",
       "168029    36.0\n",
       "168030    13.0\n",
       "168031    47.0\n",
       "168032     4.0\n",
       "168033     4.0\n",
       "Name: Age, Length: 167622, dtype: object"
      ]
     },
     "execution_count": 41,
     "metadata": {},
     "output_type": "execute_result"
    }
   ],
   "source": [
    "#fill error format age patient to nan in column age\n",
    "data['Age'].fillna('')"
   ]
  },
  {
   "cell_type": "code",
   "execution_count": 42,
   "id": "f34195d3",
   "metadata": {
    "id": "f34195d3"
   },
   "outputs": [],
   "source": [
    "#change age type to integer\n",
    "data['Age'] = data['Age'].astype(\"Int64\")"
   ]
  },
  {
   "cell_type": "code",
   "execution_count": 43,
   "id": "5b13d6a2",
   "metadata": {
    "id": "5b13d6a2"
   },
   "outputs": [],
   "source": [
    "#fill nan value of age patient to 0\n",
    "data['Age']= data['Age'].fillna(0)"
   ]
  },
  {
   "cell_type": "code",
   "execution_count": 44,
   "id": "11111c41",
   "metadata": {
    "colab": {
     "base_uri": "https://localhost:8080/"
    },
    "id": "11111c41",
    "outputId": "18586552-a764-4536-f95d-788405aa7e32"
   },
   "outputs": [
    {
     "data": {
      "text/plain": [
       "0.25    19\n",
       "0.50    34\n",
       "0.75    51\n",
       "Name: Age, dtype: Int64"
      ]
     },
     "execution_count": 44,
     "metadata": {},
     "output_type": "execute_result"
    }
   ],
   "source": [
    "#get Q1, Q2, Q3 from age patient\n",
    "data['Age'].quantile([.25, .5, .75])"
   ]
  },
  {
   "cell_type": "code",
   "execution_count": 45,
   "id": "9991ae90",
   "metadata": {
    "colab": {
     "base_uri": "https://localhost:8080/",
     "height": 494
    },
    "id": "9991ae90",
    "outputId": "b14526db-dfae-424f-f774-badb9199043e"
   },
   "outputs": [
    {
     "data": {
      "text/html": [
       "<div>\n",
       "<style scoped>\n",
       "    .dataframe tbody tr th:only-of-type {\n",
       "        vertical-align: middle;\n",
       "    }\n",
       "\n",
       "    .dataframe tbody tr th {\n",
       "        vertical-align: top;\n",
       "    }\n",
       "\n",
       "    .dataframe thead th {\n",
       "        text-align: right;\n",
       "    }\n",
       "</style>\n",
       "<table border=\"1\" class=\"dataframe\">\n",
       "  <thead>\n",
       "    <tr style=\"text-align: right;\">\n",
       "      <th></th>\n",
       "      <th>registration_created_at</th>\n",
       "      <th>patient_financing</th>\n",
       "      <th>patient_insurance</th>\n",
       "      <th>clinic_province</th>\n",
       "      <th>clinic_regency</th>\n",
       "      <th>patient_id</th>\n",
       "      <th>patient_birth_date</th>\n",
       "      <th>patient_gender</th>\n",
       "      <th>patient_smoke</th>\n",
       "      <th>patient_blood_type</th>\n",
       "      <th>...</th>\n",
       "      <th>group_disease</th>\n",
       "      <th>Date_registration</th>\n",
       "      <th>month_year_registration</th>\n",
       "      <th>Year_registration</th>\n",
       "      <th>Date_medical</th>\n",
       "      <th>month_year_medical</th>\n",
       "      <th>Year_medical</th>\n",
       "      <th>birthdate</th>\n",
       "      <th>Age</th>\n",
       "      <th>age_group</th>\n",
       "    </tr>\n",
       "  </thead>\n",
       "  <tbody>\n",
       "    <tr>\n",
       "      <th>97764</th>\n",
       "      <td>2023-03-03 19:47:20</td>\n",
       "      <td>Pribadi</td>\n",
       "      <td>0</td>\n",
       "      <td>Sumatera Barat</td>\n",
       "      <td>Kab. Lima Puluh Koto/kota</td>\n",
       "      <td>78063870-b9c1-11ed-8c96-cb837f24eb92</td>\n",
       "      <td>1995-08-01</td>\n",
       "      <td>Male</td>\n",
       "      <td>Smoking</td>\n",
       "      <td>0</td>\n",
       "      <td>...</td>\n",
       "      <td>Other diseases</td>\n",
       "      <td>2023-03-03</td>\n",
       "      <td>2023-03</td>\n",
       "      <td>2023</td>\n",
       "      <td>2023-03-03</td>\n",
       "      <td>2023-03</td>\n",
       "      <td>2023</td>\n",
       "      <td>1995-08-01</td>\n",
       "      <td>27</td>\n",
       "      <td>age 21 - 34</td>\n",
       "    </tr>\n",
       "    <tr>\n",
       "      <th>65244</th>\n",
       "      <td>2023-01-06 19:49:20</td>\n",
       "      <td>Asuransi/Jaminan</td>\n",
       "      <td>BPJS Kesehatan</td>\n",
       "      <td>Jawa Barat</td>\n",
       "      <td>Kota Bekasi</td>\n",
       "      <td>217cb930-8dc0-11ed-a21d-d162a5cf7452</td>\n",
       "      <td>1956-05-05</td>\n",
       "      <td>Male</td>\n",
       "      <td>Not smoking</td>\n",
       "      <td>O</td>\n",
       "      <td>...</td>\n",
       "      <td>Other diseases</td>\n",
       "      <td>2023-01-06</td>\n",
       "      <td>2023-01</td>\n",
       "      <td>2023</td>\n",
       "      <td>2023-01-06</td>\n",
       "      <td>2023-01</td>\n",
       "      <td>2023</td>\n",
       "      <td>1956-05-05</td>\n",
       "      <td>67</td>\n",
       "      <td>age &gt; 51</td>\n",
       "    </tr>\n",
       "    <tr>\n",
       "      <th>40113</th>\n",
       "      <td>2022-01-26 02:17:40</td>\n",
       "      <td>Asuransi/Jaminan</td>\n",
       "      <td>BPJS Kesehatan</td>\n",
       "      <td>Jawa Barat</td>\n",
       "      <td>0</td>\n",
       "      <td>e195c350-3d85-11ea-aad1-7d6075812eaf</td>\n",
       "      <td>1964-04-07</td>\n",
       "      <td>Male</td>\n",
       "      <td>Not smoking</td>\n",
       "      <td>O</td>\n",
       "      <td>...</td>\n",
       "      <td>Other diseases</td>\n",
       "      <td>2022-01-26</td>\n",
       "      <td>2022-01</td>\n",
       "      <td>2022</td>\n",
       "      <td>2022-01-26</td>\n",
       "      <td>2022-01</td>\n",
       "      <td>2022</td>\n",
       "      <td>1964-04-07</td>\n",
       "      <td>59</td>\n",
       "      <td>age &gt; 51</td>\n",
       "    </tr>\n",
       "    <tr>\n",
       "      <th>86350</th>\n",
       "      <td>2023-02-16 15:52:44</td>\n",
       "      <td>Pribadi</td>\n",
       "      <td>0</td>\n",
       "      <td>Sulawesi Selatan</td>\n",
       "      <td>Palopo (Kota)</td>\n",
       "      <td>3edf8680-add7-11ed-a513-3d0f1a598435</td>\n",
       "      <td>2012-07-03</td>\n",
       "      <td>Male</td>\n",
       "      <td>Not smoking</td>\n",
       "      <td>0</td>\n",
       "      <td>...</td>\n",
       "      <td>Other diseases</td>\n",
       "      <td>2023-02-16</td>\n",
       "      <td>2023-02</td>\n",
       "      <td>2023</td>\n",
       "      <td>2023-02-16</td>\n",
       "      <td>2023-02</td>\n",
       "      <td>2023</td>\n",
       "      <td>2012-07-03</td>\n",
       "      <td>10</td>\n",
       "      <td>age &lt;= 20</td>\n",
       "    </tr>\n",
       "  </tbody>\n",
       "</table>\n",
       "<p>4 rows × 23 columns</p>\n",
       "</div>"
      ],
      "text/plain": [
       "      registration_created_at patient_financing patient_insurance  \\\n",
       "97764     2023-03-03 19:47:20           Pribadi                 0   \n",
       "65244     2023-01-06 19:49:20  Asuransi/Jaminan    BPJS Kesehatan   \n",
       "40113     2022-01-26 02:17:40  Asuransi/Jaminan    BPJS Kesehatan   \n",
       "86350     2023-02-16 15:52:44           Pribadi                 0   \n",
       "\n",
       "        clinic_province             clinic_regency  \\\n",
       "97764    Sumatera Barat  Kab. Lima Puluh Koto/kota   \n",
       "65244        Jawa Barat                Kota Bekasi   \n",
       "40113        Jawa Barat                          0   \n",
       "86350  Sulawesi Selatan              Palopo (Kota)   \n",
       "\n",
       "                                 patient_id patient_birth_date patient_gender  \\\n",
       "97764  78063870-b9c1-11ed-8c96-cb837f24eb92         1995-08-01           Male   \n",
       "65244  217cb930-8dc0-11ed-a21d-d162a5cf7452         1956-05-05           Male   \n",
       "40113  e195c350-3d85-11ea-aad1-7d6075812eaf         1964-04-07           Male   \n",
       "86350  3edf8680-add7-11ed-a513-3d0f1a598435         2012-07-03           Male   \n",
       "\n",
       "      patient_smoke patient_blood_type  ...   group_disease Date_registration  \\\n",
       "97764       Smoking                  0  ...  Other diseases        2023-03-03   \n",
       "65244   Not smoking                  O  ...  Other diseases        2023-01-06   \n",
       "40113   Not smoking                  O  ...  Other diseases        2022-01-26   \n",
       "86350   Not smoking                  0  ...  Other diseases        2023-02-16   \n",
       "\n",
       "      month_year_registration Year_registration Date_medical  \\\n",
       "97764                 2023-03              2023   2023-03-03   \n",
       "65244                 2023-01              2023   2023-01-06   \n",
       "40113                 2022-01              2022   2022-01-26   \n",
       "86350                 2023-02              2023   2023-02-16   \n",
       "\n",
       "      month_year_medical  Year_medical   birthdate Age    age_group  \n",
       "97764            2023-03          2023  1995-08-01  27  age 21 - 34  \n",
       "65244            2023-01          2023  1956-05-05  67     age > 51  \n",
       "40113            2022-01          2022  1964-04-07  59     age > 51  \n",
       "86350            2023-02          2023  2012-07-03  10    age <= 20  \n",
       "\n",
       "[4 rows x 23 columns]"
      ]
     },
     "execution_count": 45,
     "metadata": {},
     "output_type": "execute_result"
    }
   ],
   "source": [
    "#create age group of patient\n",
    "def age_patient(a):\n",
    "    if a <= 20:\n",
    "        age = \"age <= 20\"\n",
    "    elif a <= 34 :\n",
    "        age = \"age 21 - 34\"\n",
    "    elif a  <= 51 :\n",
    "        age = \"age 35 - 51\"\n",
    "    else :\n",
    "        age = \"age > 51\"\n",
    "        \n",
    "    return age\n",
    "\n",
    "data[\"age_group\"] = data['Age'].apply(age_patient)\n",
    "data.sample(4)"
   ]
  },
  {
   "cell_type": "code",
   "execution_count": 46,
   "id": "140f4faa",
   "metadata": {
    "colab": {
     "base_uri": "https://localhost:8080/",
     "height": 552
    },
    "id": "140f4faa",
    "outputId": "0701c119-8f10-472a-a040-bd8ee0fe6384"
   },
   "outputs": [
    {
     "data": {
      "image/png": "[encoded data removed]",
      "text/plain": [
       "<Figure size 504x360 with 1 Axes>"
      ]
     },
     "metadata": {
      "needs_background": "light"
     },
     "output_type": "display_data"
    }
   ],
   "source": [
    "# Get the top 10 clinic regency with highest diagnose\n",
    "plt.figure(figsize=(7,5))\n",
    "plt.box(False)\n",
    "data.groupby(['age_group'])['icd_10'].nunique().plot(kind='bar', color='#6cabea')\n",
    "\n",
    "plt.title('Age Group Patient with highest diagnose', fontweight='bold')\n",
    "plt.ylabel('Age')\n",
    "plt.xlabel('Count Diagnose')\n",
    "plt.grid(axis = 'y')\n",
    "plt.show()"
   ]
  },
  {
   "cell_type": "markdown",
   "id": "0692db2a",
   "metadata": {
    "id": "0692db2a"
   },
   "source": [
    "**Key Takeaway**\n",
    "- Terdapat 78 data pasien yang tanggal lahirnya tidak sesuai format\n",
    "- Diagnose pasien paling banyak dialami oleh pasien dengan umur lebih dari 35 tahun"
   ]
  },
  {
   "cell_type": "markdown",
   "id": "9f4574eb",
   "metadata": {
    "id": "9f4574eb"
   },
   "source": [
    "**Business problem**"
   ]
  },
  {
   "cell_type": "markdown",
   "id": "a962db19",
   "metadata": {
    "id": "a962db19"
   },
   "source": [
    "**1. Bagaimana persebaran penyakit di lokasi dan waktu?**"
   ]
  },
  {
   "cell_type": "markdown",
   "id": "2948807c",
   "metadata": {
    "id": "2948807c"
   },
   "source": [
    "Kita akan lihat bagaimana persebaran penyakit untuk dalam lingkup provinsi dan kota di tiap tahun dan juga tiap musim"
   ]
  },
  {
   "cell_type": "markdown",
   "id": "a4328d93",
   "metadata": {
    "id": "a4328d93"
   },
   "source": [
    "a. Persebaran penyakit tiap tahun"
   ]
  },
  {
   "cell_type": "code",
   "execution_count": 47,
   "id": "db03a7c6",
   "metadata": {
    "colab": {
     "base_uri": "https://localhost:8080/",
     "height": 424
    },
    "id": "db03a7c6",
    "outputId": "da601868-80c5-4154-8bb7-64554fd7d572"
   },
   "outputs": [
    {
     "data": {
      "text/html": [
       "<div>\n",
       "<style scoped>\n",
       "    .dataframe tbody tr th:only-of-type {\n",
       "        vertical-align: middle;\n",
       "    }\n",
       "\n",
       "    .dataframe tbody tr th {\n",
       "        vertical-align: top;\n",
       "    }\n",
       "\n",
       "    .dataframe thead th {\n",
       "        text-align: right;\n",
       "    }\n",
       "</style>\n",
       "<table border=\"1\" class=\"dataframe\">\n",
       "  <thead>\n",
       "    <tr style=\"text-align: right;\">\n",
       "      <th></th>\n",
       "      <th>clinic_province</th>\n",
       "      <th>group_regency</th>\n",
       "      <th>Year_medical</th>\n",
       "      <th>month_year_medical</th>\n",
       "      <th>icd_10</th>\n",
       "    </tr>\n",
       "  </thead>\n",
       "  <tbody>\n",
       "    <tr>\n",
       "      <th>283</th>\n",
       "      <td>Jawa Barat</td>\n",
       "      <td>Bekasi</td>\n",
       "      <td>2023</td>\n",
       "      <td>2023-03</td>\n",
       "      <td>1001</td>\n",
       "    </tr>\n",
       "    <tr>\n",
       "      <th>282</th>\n",
       "      <td>Jawa Barat</td>\n",
       "      <td>Bekasi</td>\n",
       "      <td>2023</td>\n",
       "      <td>2023-02</td>\n",
       "      <td>969</td>\n",
       "    </tr>\n",
       "    <tr>\n",
       "      <th>284</th>\n",
       "      <td>Jawa Barat</td>\n",
       "      <td>Bekasi</td>\n",
       "      <td>2023</td>\n",
       "      <td>2023-04</td>\n",
       "      <td>881</td>\n",
       "    </tr>\n",
       "    <tr>\n",
       "      <th>285</th>\n",
       "      <td>Jawa Barat</td>\n",
       "      <td>Bekasi</td>\n",
       "      <td>2023</td>\n",
       "      <td>2023-05</td>\n",
       "      <td>838</td>\n",
       "    </tr>\n",
       "    <tr>\n",
       "      <th>281</th>\n",
       "      <td>Jawa Barat</td>\n",
       "      <td>Bekasi</td>\n",
       "      <td>2023</td>\n",
       "      <td>2023-01</td>\n",
       "      <td>760</td>\n",
       "    </tr>\n",
       "    <tr>\n",
       "      <th>...</th>\n",
       "      <td>...</td>\n",
       "      <td>...</td>\n",
       "      <td>...</td>\n",
       "      <td>...</td>\n",
       "      <td>...</td>\n",
       "    </tr>\n",
       "    <tr>\n",
       "      <th>435</th>\n",
       "      <td>Jawa Timur</td>\n",
       "      <td>Kab. Jember</td>\n",
       "      <td>2023</td>\n",
       "      <td>2023-01</td>\n",
       "      <td>1</td>\n",
       "    </tr>\n",
       "    <tr>\n",
       "      <th>592</th>\n",
       "      <td>Sulawesi Selatan</td>\n",
       "      <td>Kota Palopo</td>\n",
       "      <td>2023</td>\n",
       "      <td>2023-02</td>\n",
       "      <td>1</td>\n",
       "    </tr>\n",
       "    <tr>\n",
       "      <th>75</th>\n",
       "      <td>DI Yogyakarta</td>\n",
       "      <td>Bantul</td>\n",
       "      <td>2023</td>\n",
       "      <td>2023-02</td>\n",
       "      <td>1</td>\n",
       "    </tr>\n",
       "    <tr>\n",
       "      <th>434</th>\n",
       "      <td>Jawa Timur</td>\n",
       "      <td>Kab. Gresik</td>\n",
       "      <td>2023</td>\n",
       "      <td>2023-05</td>\n",
       "      <td>1</td>\n",
       "    </tr>\n",
       "    <tr>\n",
       "      <th>0</th>\n",
       "      <td>Aceh</td>\n",
       "      <td>Aceh Jaya (Kabupaten)</td>\n",
       "      <td>2023</td>\n",
       "      <td>2023-02</td>\n",
       "      <td>1</td>\n",
       "    </tr>\n",
       "  </tbody>\n",
       "</table>\n",
       "<p>709 rows × 5 columns</p>\n",
       "</div>"
      ],
      "text/plain": [
       "      clinic_province          group_regency  Year_medical month_year_medical  \\\n",
       "283        Jawa Barat                 Bekasi          2023            2023-03   \n",
       "282        Jawa Barat                 Bekasi          2023            2023-02   \n",
       "284        Jawa Barat                 Bekasi          2023            2023-04   \n",
       "285        Jawa Barat                 Bekasi          2023            2023-05   \n",
       "281        Jawa Barat                 Bekasi          2023            2023-01   \n",
       "..                ...                    ...           ...                ...   \n",
       "435        Jawa Timur            Kab. Jember          2023            2023-01   \n",
       "592  Sulawesi Selatan            Kota Palopo          2023            2023-02   \n",
       "75      DI Yogyakarta                 Bantul          2023            2023-02   \n",
       "434        Jawa Timur            Kab. Gresik          2023            2023-05   \n",
       "0                Aceh  Aceh Jaya (Kabupaten)          2023            2023-02   \n",
       "\n",
       "     icd_10  \n",
       "283    1001  \n",
       "282     969  \n",
       "284     881  \n",
       "285     838  \n",
       "281     760  \n",
       "..      ...  \n",
       "435       1  \n",
       "592       1  \n",
       "75        1  \n",
       "434       1  \n",
       "0         1  \n",
       "\n",
       "[709 rows x 5 columns]"
      ]
     },
     "execution_count": 47,
     "metadata": {},
     "output_type": "execute_result"
    }
   ],
   "source": [
    "#How diagnose patient in every years for each clinic province and clinic regency\n",
    "diagnose_loc_year = data.groupby(['clinic_province','group_regency','Year_medical','month_year_medical'])['icd_10'].nunique().reset_index().sort_values(by='icd_10',ascending=False)\n",
    "diagnose_loc_year"
   ]
  },
  {
   "cell_type": "code",
   "execution_count": 48,
   "id": "32cce857",
   "metadata": {
    "colab": {
     "base_uri": "https://localhost:8080/",
     "height": 487
    },
    "id": "32cce857",
    "outputId": "d977f023-166d-4f8a-e4c5-59789573fe41"
   },
   "outputs": [
    {
     "data": {
      "image/png": "[encoded data removed]",
      "text/plain": [
       "<Figure size 720x360 with 1 Axes>"
      ]
     },
     "metadata": {
      "needs_background": "light"
     },
     "output_type": "display_data"
    }
   ],
   "source": [
    "fig, ax1 = plt.subplots(figsize=(10,5))\n",
    "sns.barplot(\n",
    "    data=diagnose_loc_year.head(50), \n",
    "    x='icd_10', \n",
    "    y='clinic_province', \n",
    "    hue='Year_medical', \n",
    "    palette=\"GnBu\",\n",
    "    ci=False,\n",
    "    ax=ax1)\n",
    "plt.title(\"Jumlah diagnosa penyakit per provinsi (tahun)\", fontweight='bold')\n",
    "for i in ax1.containers:\n",
    "    ax1.bar_label(i,)\n",
    "\n",
    "plt.legend(bbox_to_anchor=(1, 0.4), loc='lower left', borderaxespad=0)\n",
    "sns.despine(fig)"
   ]
  },
  {
   "cell_type": "markdown",
   "id": "58b44b68",
   "metadata": {
    "id": "58b44b68"
   },
   "source": [
    "**Insight**\n",
    "- Pada tahun 2020-2023 provinsi jawa barat merupakan lokasi klinik dengan diagnosa penyakit terbanyak\n",
    "- Tiga provinsi dengan diagnosa penyakit terbanyak adalah jawa barat, banten, dan dki jakarta\n"
   ]
  },
  {
   "cell_type": "markdown",
   "id": "18ca570f",
   "metadata": {
    "id": "18ca570f"
   },
   "source": [
    "Dari provinsi jawa barat kita akan lihat kota mana saja yang memiliki persebaran penyakit terbanyak"
   ]
  },
  {
   "cell_type": "code",
   "execution_count": 49,
   "id": "e71f6756",
   "metadata": {
    "colab": {
     "base_uri": "https://localhost:8080/",
     "height": 424
    },
    "id": "e71f6756",
    "outputId": "f208c163-0f21-454e-813e-49559dd1f014"
   },
   "outputs": [
    {
     "data": {
      "text/html": [
       "<div>\n",
       "<style scoped>\n",
       "    .dataframe tbody tr th:only-of-type {\n",
       "        vertical-align: middle;\n",
       "    }\n",
       "\n",
       "    .dataframe tbody tr th {\n",
       "        vertical-align: top;\n",
       "    }\n",
       "\n",
       "    .dataframe thead th {\n",
       "        text-align: right;\n",
       "    }\n",
       "</style>\n",
       "<table border=\"1\" class=\"dataframe\">\n",
       "  <thead>\n",
       "    <tr style=\"text-align: right;\">\n",
       "      <th></th>\n",
       "      <th>group_regency</th>\n",
       "      <th>icd_10</th>\n",
       "      <th>Year_medical</th>\n",
       "      <th>total_penyakit</th>\n",
       "    </tr>\n",
       "  </thead>\n",
       "  <tbody>\n",
       "    <tr>\n",
       "      <th>1262</th>\n",
       "      <td>Bekasi</td>\n",
       "      <td>ISPA bagian atas , tidak spesifik</td>\n",
       "      <td>2023</td>\n",
       "      <td>8647</td>\n",
       "    </tr>\n",
       "    <tr>\n",
       "      <th>2150</th>\n",
       "      <td>Bekasi</td>\n",
       "      <td>Pencernaan yg terganggu</td>\n",
       "      <td>2023</td>\n",
       "      <td>4576</td>\n",
       "    </tr>\n",
       "    <tr>\n",
       "      <th>893</th>\n",
       "      <td>Bekasi</td>\n",
       "      <td>Esensial ( primer) hipertensi</td>\n",
       "      <td>2023</td>\n",
       "      <td>2824</td>\n",
       "    </tr>\n",
       "    <tr>\n",
       "      <th>341</th>\n",
       "      <td>Bekasi</td>\n",
       "      <td>Acute pharyngitis</td>\n",
       "      <td>2023</td>\n",
       "      <td>2128</td>\n",
       "    </tr>\n",
       "    <tr>\n",
       "      <th>1774</th>\n",
       "      <td>Bekasi</td>\n",
       "      <td>Nasopharyngitis akut [ flu biasa ]</td>\n",
       "      <td>2023</td>\n",
       "      <td>1686</td>\n",
       "    </tr>\n",
       "    <tr>\n",
       "      <th>...</th>\n",
       "      <td>...</td>\n",
       "      <td>...</td>\n",
       "      <td>...</td>\n",
       "      <td>...</td>\n",
       "    </tr>\n",
       "    <tr>\n",
       "      <th>1817</th>\n",
       "      <td>Bekasi</td>\n",
       "      <td>Neoplasma jinak kolom vertebral</td>\n",
       "      <td>2023</td>\n",
       "      <td>1</td>\n",
       "    </tr>\n",
       "    <tr>\n",
       "      <th>1818</th>\n",
       "      <td>Bekasi</td>\n",
       "      <td>Neoplasma jinak kolon sigmoid</td>\n",
       "      <td>2022</td>\n",
       "      <td>1</td>\n",
       "    </tr>\n",
       "    <tr>\n",
       "      <th>1822</th>\n",
       "      <td>Bekasi</td>\n",
       "      <td>Neoplasma jinak lainnya jaringan lunak ikat da...</td>\n",
       "      <td>2023</td>\n",
       "      <td>1</td>\n",
       "    </tr>\n",
       "    <tr>\n",
       "      <th>1823</th>\n",
       "      <td>Bekasi</td>\n",
       "      <td>Neoplasma jinak lainnya jaringan lunak ikat da...</td>\n",
       "      <td>2023</td>\n",
       "      <td>1</td>\n",
       "    </tr>\n",
       "    <tr>\n",
       "      <th>4012</th>\n",
       "      <td>Tasikmalaya</td>\n",
       "      <td>Pemeriksaan kesehatan umum</td>\n",
       "      <td>2023</td>\n",
       "      <td>1</td>\n",
       "    </tr>\n",
       "  </tbody>\n",
       "</table>\n",
       "<p>4013 rows × 4 columns</p>\n",
       "</div>"
      ],
      "text/plain": [
       "     group_regency                                             icd_10  \\\n",
       "1262        Bekasi                  ISPA bagian atas , tidak spesifik   \n",
       "2150        Bekasi                            Pencernaan yg terganggu   \n",
       "893         Bekasi                      Esensial ( primer) hipertensi   \n",
       "341         Bekasi                                  Acute pharyngitis   \n",
       "1774        Bekasi                 Nasopharyngitis akut [ flu biasa ]   \n",
       "...            ...                                                ...   \n",
       "1817        Bekasi                    Neoplasma jinak kolom vertebral   \n",
       "1818        Bekasi                      Neoplasma jinak kolon sigmoid   \n",
       "1822        Bekasi  Neoplasma jinak lainnya jaringan lunak ikat da...   \n",
       "1823        Bekasi  Neoplasma jinak lainnya jaringan lunak ikat da...   \n",
       "4012   Tasikmalaya                         Pemeriksaan kesehatan umum   \n",
       "\n",
       "      Year_medical  total_penyakit  \n",
       "1262          2023            8647  \n",
       "2150          2023            4576  \n",
       "893           2023            2824  \n",
       "341           2023            2128  \n",
       "1774          2023            1686  \n",
       "...            ...             ...  \n",
       "1817          2023               1  \n",
       "1818          2022               1  \n",
       "1822          2023               1  \n",
       "1823          2023               1  \n",
       "4012          2023               1  \n",
       "\n",
       "[4013 rows x 4 columns]"
      ]
     },
     "execution_count": 49,
     "metadata": {},
     "output_type": "execute_result"
    }
   ],
   "source": [
    "diagnose_loc_regency= data[(data['clinic_province'] == 'Jawa Barat')&(data['group_regency'] != '0')].groupby(['group_regency', 'icd_10','Year_medical']).agg(\n",
    "    total_penyakit=pd.NamedAgg(column=\"icd_10\", aggfunc=\"count\")\n",
    ").reset_index().sort_values(by='total_penyakit',ascending=False)\n",
    "\n",
    "diagnose_loc_regency"
   ]
  },
  {
   "cell_type": "code",
   "execution_count": 50,
   "id": "d74ab0ee",
   "metadata": {
    "colab": {
     "base_uri": "https://localhost:8080/",
     "height": 718
    },
    "id": "d74ab0ee",
    "outputId": "e03dba28-3ddb-4597-b65a-7593c690af09"
   },
   "outputs": [
    {
     "data": {
      "image/png": "[encoded data removed]",
      "text/plain": [
       "<Figure size 720x576 with 1 Axes>"
      ]
     },
     "metadata": {
      "needs_background": "light"
     },
     "output_type": "display_data"
    }
   ],
   "source": [
    "fig, ax1 = plt.subplots(figsize=(10,8))\n",
    "sns.barplot(\n",
    "    data=diagnose_loc_regency.head(200), \n",
    "    x='total_penyakit', \n",
    "    y='group_regency', \n",
    "    hue='Year_medical', \n",
    "    palette=\"GnBu\",\n",
    "    ci=False,\n",
    "    ax=ax1)\n",
    "plt.title(\"Jumlah diagnosa penyakit per kota di provinsi Jawa Barat\", fontweight='bold')\n",
    "for i in ax1.containers:\n",
    "    ax1.bar_label(i,)\n",
    "\n",
    "plt.legend(bbox_to_anchor=(1, 0.4), loc='lower left', borderaxespad=0)\n",
    "sns.despine(fig)"
   ]
  },
  {
   "cell_type": "markdown",
   "id": "1d7d14ba",
   "metadata": {
    "id": "1d7d14ba"
   },
   "source": [
    "**Insight**\n",
    "- Bekasi merupakan kota di provinsi jawa barat yang memiliki jumlah diagnosa penyakit terbanyak tahun 2020-2023\n",
    "- Tiga kota dijawa barat dengan jumlah diagnosa terbanyak adalah bekasi (2020-2023), bandung (2023), dan karawang (2023)"
   ]
  },
  {
   "cell_type": "markdown",
   "id": "48c3edfe",
   "metadata": {
    "id": "48c3edfe"
   },
   "source": [
    "Dari kota bekasi kita akan lihat penyakit apa saja yang banyak diderita olah pasien"
   ]
  },
  {
   "cell_type": "code",
   "execution_count": 51,
   "id": "802f16a1",
   "metadata": {
    "colab": {
     "base_uri": "https://localhost:8080/",
     "height": 424
    },
    "id": "802f16a1",
    "outputId": "ddf02618-5f0a-4da6-81c1-ca5e19443356"
   },
   "outputs": [
    {
     "data": {
      "text/html": [
       "<div>\n",
       "<style scoped>\n",
       "    .dataframe tbody tr th:only-of-type {\n",
       "        vertical-align: middle;\n",
       "    }\n",
       "\n",
       "    .dataframe tbody tr th {\n",
       "        vertical-align: top;\n",
       "    }\n",
       "\n",
       "    .dataframe thead th {\n",
       "        text-align: right;\n",
       "    }\n",
       "</style>\n",
       "<table border=\"1\" class=\"dataframe\">\n",
       "  <thead>\n",
       "    <tr style=\"text-align: right;\">\n",
       "      <th></th>\n",
       "      <th>group_regency</th>\n",
       "      <th>icd_10</th>\n",
       "      <th>Year_medical</th>\n",
       "      <th>total_diagnosa</th>\n",
       "    </tr>\n",
       "  </thead>\n",
       "  <tbody>\n",
       "    <tr>\n",
       "      <th>987</th>\n",
       "      <td>Bekasi</td>\n",
       "      <td>ISPA bagian atas , tidak spesifik</td>\n",
       "      <td>2023</td>\n",
       "      <td>8647</td>\n",
       "    </tr>\n",
       "    <tr>\n",
       "      <th>1875</th>\n",
       "      <td>Bekasi</td>\n",
       "      <td>Pencernaan yg terganggu</td>\n",
       "      <td>2023</td>\n",
       "      <td>4576</td>\n",
       "    </tr>\n",
       "    <tr>\n",
       "      <th>618</th>\n",
       "      <td>Bekasi</td>\n",
       "      <td>Esensial ( primer) hipertensi</td>\n",
       "      <td>2023</td>\n",
       "      <td>2824</td>\n",
       "    </tr>\n",
       "    <tr>\n",
       "      <th>66</th>\n",
       "      <td>Bekasi</td>\n",
       "      <td>Acute pharyngitis</td>\n",
       "      <td>2023</td>\n",
       "      <td>2128</td>\n",
       "    </tr>\n",
       "    <tr>\n",
       "      <th>1499</th>\n",
       "      <td>Bekasi</td>\n",
       "      <td>Nasopharyngitis akut [ flu biasa ]</td>\n",
       "      <td>2023</td>\n",
       "      <td>1686</td>\n",
       "    </tr>\n",
       "    <tr>\n",
       "      <th>...</th>\n",
       "      <td>...</td>\n",
       "      <td>...</td>\n",
       "      <td>...</td>\n",
       "      <td>...</td>\n",
       "    </tr>\n",
       "    <tr>\n",
       "      <th>846</th>\n",
       "      <td>Bekasi</td>\n",
       "      <td>Gegar otak dan edema sumsum tulang belakang to...</td>\n",
       "      <td>2023</td>\n",
       "      <td>1</td>\n",
       "    </tr>\n",
       "    <tr>\n",
       "      <th>847</th>\n",
       "      <td>Bekasi</td>\n",
       "      <td>Gejala dan tanda-tanda tentang makanan dan asu...</td>\n",
       "      <td>2022</td>\n",
       "      <td>1</td>\n",
       "    </tr>\n",
       "    <tr>\n",
       "      <th>1783</th>\n",
       "      <td>Bekasi</td>\n",
       "      <td>Other sudden death, cause unknown</td>\n",
       "      <td>2023</td>\n",
       "      <td>1</td>\n",
       "    </tr>\n",
       "    <tr>\n",
       "      <th>1782</th>\n",
       "      <td>Bekasi</td>\n",
       "      <td>Other streptococcal arthritis and polyarthriti...</td>\n",
       "      <td>2023</td>\n",
       "      <td>1</td>\n",
       "    </tr>\n",
       "    <tr>\n",
       "      <th>1975</th>\n",
       "      <td>Bekasi</td>\n",
       "      <td>Perichondritis telinga eksternal</td>\n",
       "      <td>2023</td>\n",
       "      <td>1</td>\n",
       "    </tr>\n",
       "  </tbody>\n",
       "</table>\n",
       "<p>2653 rows × 4 columns</p>\n",
       "</div>"
      ],
      "text/plain": [
       "     group_regency                                             icd_10  \\\n",
       "987         Bekasi                  ISPA bagian atas , tidak spesifik   \n",
       "1875        Bekasi                            Pencernaan yg terganggu   \n",
       "618         Bekasi                      Esensial ( primer) hipertensi   \n",
       "66          Bekasi                                  Acute pharyngitis   \n",
       "1499        Bekasi                 Nasopharyngitis akut [ flu biasa ]   \n",
       "...            ...                                                ...   \n",
       "846         Bekasi  Gegar otak dan edema sumsum tulang belakang to...   \n",
       "847         Bekasi  Gejala dan tanda-tanda tentang makanan dan asu...   \n",
       "1783        Bekasi                  Other sudden death, cause unknown   \n",
       "1782        Bekasi  Other streptococcal arthritis and polyarthriti...   \n",
       "1975        Bekasi                   Perichondritis telinga eksternal   \n",
       "\n",
       "      Year_medical  total_diagnosa  \n",
       "987           2023            8647  \n",
       "1875          2023            4576  \n",
       "618           2023            2824  \n",
       "66            2023            2128  \n",
       "1499          2023            1686  \n",
       "...            ...             ...  \n",
       "846           2023               1  \n",
       "847           2022               1  \n",
       "1783          2023               1  \n",
       "1782          2023               1  \n",
       "1975          2023               1  \n",
       "\n",
       "[2653 rows x 4 columns]"
      ]
     },
     "execution_count": 51,
     "metadata": {},
     "output_type": "execute_result"
    }
   ],
   "source": [
    "regency_disease_year= data[(data['group_regency'] == 'Bekasi')].groupby(['group_regency', 'icd_10','Year_medical']).agg(\n",
    "    total_diagnosa=pd.NamedAgg(column=\"icd_10\", aggfunc=\"count\")\n",
    ").reset_index().sort_values(by='total_diagnosa',ascending=False)\n",
    "regency_disease_year"
   ]
  },
  {
   "cell_type": "code",
   "execution_count": 52,
   "id": "73824432",
   "metadata": {
    "colab": {
     "base_uri": "https://localhost:8080/",
     "height": 651
    },
    "id": "73824432",
    "outputId": "5372e07c-d9c0-4264-c9e2-a00be7aa7ff2"
   },
   "outputs": [
    {
     "data": {
      "image/png": "[encoded data removed]",
      "text/plain": [
       "<Figure size 720x576 with 1 Axes>"
      ]
     },
     "metadata": {
      "needs_background": "light"
     },
     "output_type": "display_data"
    }
   ],
   "source": [
    "fig, ax1 = plt.subplots(figsize=(10,8))\n",
    "sns.barplot(\n",
    "    data=regency_disease_year.head(15), \n",
    "    x='total_diagnosa', \n",
    "    y='icd_10', \n",
    "    hue='Year_medical',\n",
    "    palette=\"GnBu\", \n",
    "    ci=False,\n",
    "    ax=ax1)\n",
    "plt.title(\"Jumlah diagnosa penyakit di Bekasi\", fontweight='bold')\n",
    "for i in ax1.containers:\n",
    "    ax1.bar_label(i,)\n",
    "\n",
    "plt.legend(bbox_to_anchor=(1, 0.4), loc='lower left', borderaxespad=0)\n",
    "sns.despine(fig)\n"
   ]
  },
  {
   "cell_type": "markdown",
   "id": "6d1872b6",
   "metadata": {
    "id": "6d1872b6"
   },
   "source": [
    "**Insight**\n",
    "- ISPA bagian atas merupakan penyakit yang paling banyak diderita oleh pasien di bekasi ditahun 2022 sebanyak 500 kasus dan 2023 sebanyak 8647 kasus\n",
    "- 5 penyakit yang paling dialami oleh pasien dibekasi tahun 2023 adalah ISPA bagian atas, Pencernaan yang terganggu, Esensial(primer) hipertensi, Acute pharyngitis, Nasopharyngitis akut [flu biasa]"
   ]
  },
  {
   "cell_type": "markdown",
   "id": "aff10804",
   "metadata": {
    "id": "aff10804"
   },
   "source": [
    "b. Persebaran penyakit tiap musim"
   ]
  },
  {
   "cell_type": "code",
   "execution_count": 53,
   "id": "1070c55f",
   "metadata": {
    "colab": {
     "base_uri": "https://localhost:8080/",
     "height": 393
    },
    "id": "1070c55f",
    "outputId": "457d5c66-eebf-4654-88e5-da263654c261"
   },
   "outputs": [
    {
     "data": {
      "text/html": [
       "<div>\n",
       "<style scoped>\n",
       "    .dataframe tbody tr th:only-of-type {\n",
       "        vertical-align: middle;\n",
       "    }\n",
       "\n",
       "    .dataframe tbody tr th {\n",
       "        vertical-align: top;\n",
       "    }\n",
       "\n",
       "    .dataframe thead th {\n",
       "        text-align: right;\n",
       "    }\n",
       "</style>\n",
       "<table border=\"1\" class=\"dataframe\">\n",
       "  <thead>\n",
       "    <tr style=\"text-align: right;\">\n",
       "      <th></th>\n",
       "      <th>registration_created_at</th>\n",
       "      <th>patient_financing</th>\n",
       "      <th>patient_insurance</th>\n",
       "      <th>clinic_province</th>\n",
       "      <th>clinic_regency</th>\n",
       "      <th>patient_id</th>\n",
       "      <th>patient_birth_date</th>\n",
       "      <th>patient_gender</th>\n",
       "      <th>patient_smoke</th>\n",
       "      <th>patient_blood_type</th>\n",
       "      <th>...</th>\n",
       "      <th>Date_registration</th>\n",
       "      <th>month_year_registration</th>\n",
       "      <th>Year_registration</th>\n",
       "      <th>Date_medical</th>\n",
       "      <th>month_year_medical</th>\n",
       "      <th>Year_medical</th>\n",
       "      <th>birthdate</th>\n",
       "      <th>Age</th>\n",
       "      <th>age_group</th>\n",
       "      <th>season</th>\n",
       "    </tr>\n",
       "  </thead>\n",
       "  <tbody>\n",
       "    <tr>\n",
       "      <th>124617</th>\n",
       "      <td>2023-04-03 14:11:26</td>\n",
       "      <td>Asuransi/Jaminan</td>\n",
       "      <td>BPJS Kesehatan</td>\n",
       "      <td>Jawa Barat</td>\n",
       "      <td>Kota Bekasi</td>\n",
       "      <td>07771450-a928-11ed-bb73-bd76bff97ace</td>\n",
       "      <td>1994-02-20</td>\n",
       "      <td>Male</td>\n",
       "      <td>Smoking</td>\n",
       "      <td>0</td>\n",
       "      <td>...</td>\n",
       "      <td>2023-04-03</td>\n",
       "      <td>2023-04</td>\n",
       "      <td>2023</td>\n",
       "      <td>2023-04-03</td>\n",
       "      <td>2023-04</td>\n",
       "      <td>2023</td>\n",
       "      <td>1994-02-20</td>\n",
       "      <td>29</td>\n",
       "      <td>age 21 - 34</td>\n",
       "      <td>Pancaroba</td>\n",
       "    </tr>\n",
       "    <tr>\n",
       "      <th>156791</th>\n",
       "      <td>2023-05-10 19:00:18</td>\n",
       "      <td>Pribadi</td>\n",
       "      <td>0</td>\n",
       "      <td>Bali</td>\n",
       "      <td>KAB. TABANAN</td>\n",
       "      <td>9922281b-debb-4663-af0f-8fb6b96587c5</td>\n",
       "      <td>1992-02-09</td>\n",
       "      <td>Female</td>\n",
       "      <td>Not smoking</td>\n",
       "      <td>0</td>\n",
       "      <td>...</td>\n",
       "      <td>2023-05-10</td>\n",
       "      <td>2023-05</td>\n",
       "      <td>2023</td>\n",
       "      <td>2023-05-10</td>\n",
       "      <td>2023-05</td>\n",
       "      <td>2023</td>\n",
       "      <td>1992-02-09</td>\n",
       "      <td>31</td>\n",
       "      <td>age 21 - 34</td>\n",
       "      <td>Kemarau</td>\n",
       "    </tr>\n",
       "    <tr>\n",
       "      <th>63352</th>\n",
       "      <td>2022-12-31 10:24:15</td>\n",
       "      <td>Asuransi/Jaminan</td>\n",
       "      <td>BPJS Kesehatan</td>\n",
       "      <td>Jawa Barat</td>\n",
       "      <td>0</td>\n",
       "      <td>87341420-88ba-11ed-806d-d17aa54a7ac1</td>\n",
       "      <td>2019-08-29</td>\n",
       "      <td>Female</td>\n",
       "      <td>Not smoking</td>\n",
       "      <td>0</td>\n",
       "      <td>...</td>\n",
       "      <td>2022-12-31</td>\n",
       "      <td>2022-12</td>\n",
       "      <td>2022</td>\n",
       "      <td>2022-12-31</td>\n",
       "      <td>2022-12</td>\n",
       "      <td>2022</td>\n",
       "      <td>2019-08-29</td>\n",
       "      <td>3</td>\n",
       "      <td>age &lt;= 20</td>\n",
       "      <td>Penghujan</td>\n",
       "    </tr>\n",
       "  </tbody>\n",
       "</table>\n",
       "<p>3 rows × 24 columns</p>\n",
       "</div>"
      ],
      "text/plain": [
       "       registration_created_at patient_financing patient_insurance  \\\n",
       "124617     2023-04-03 14:11:26  Asuransi/Jaminan    BPJS Kesehatan   \n",
       "156791     2023-05-10 19:00:18           Pribadi                 0   \n",
       "63352      2022-12-31 10:24:15  Asuransi/Jaminan    BPJS Kesehatan   \n",
       "\n",
       "       clinic_province clinic_regency                            patient_id  \\\n",
       "124617      Jawa Barat    Kota Bekasi  07771450-a928-11ed-bb73-bd76bff97ace   \n",
       "156791            Bali   KAB. TABANAN  9922281b-debb-4663-af0f-8fb6b96587c5   \n",
       "63352       Jawa Barat              0  87341420-88ba-11ed-806d-d17aa54a7ac1   \n",
       "\n",
       "       patient_birth_date patient_gender patient_smoke patient_blood_type  \\\n",
       "124617         1994-02-20           Male       Smoking                  0   \n",
       "156791         1992-02-09         Female   Not smoking                  0   \n",
       "63352          2019-08-29         Female   Not smoking                  0   \n",
       "\n",
       "        ... Date_registration month_year_registration Year_registration  \\\n",
       "124617  ...        2023-04-03                 2023-04              2023   \n",
       "156791  ...        2023-05-10                 2023-05              2023   \n",
       "63352   ...        2022-12-31                 2022-12              2022   \n",
       "\n",
       "       Date_medical month_year_medical Year_medical   birthdate Age  \\\n",
       "124617   2023-04-03            2023-04         2023  1994-02-20  29   \n",
       "156791   2023-05-10            2023-05         2023  1992-02-09  31   \n",
       "63352    2022-12-31            2022-12         2022  2019-08-29   3   \n",
       "\n",
       "          age_group     season  \n",
       "124617  age 21 - 34  Pancaroba  \n",
       "156791  age 21 - 34    Kemarau  \n",
       "63352     age <= 20  Penghujan  \n",
       "\n",
       "[3 rows x 24 columns]"
      ]
     },
     "execution_count": 53,
     "metadata": {},
     "output_type": "execute_result"
    }
   ],
   "source": [
    "#create season group from date register\n",
    "def season(month):\n",
    "    bulan = str(month)\n",
    "    bln = bulan[5:]\n",
    "   \n",
    "    if bln in ['01', '02', '11', '12']:\n",
    "        musim = \"Penghujan\"\n",
    "    elif bln in ['05','06', '07', '08']:\n",
    "        musim = \"Kemarau\"\n",
    "    else :\n",
    "        musim = \"Pancaroba\" #bulan 03, 04, 09 dan 10\n",
    "        \n",
    "    return musim\n",
    "\n",
    "data[\"season\"] = data['month_year_registration'].apply(season)\n",
    "data.sample(3)"
   ]
  },
  {
   "cell_type": "code",
   "execution_count": 54,
   "id": "7e7249c7",
   "metadata": {
    "colab": {
     "base_uri": "https://localhost:8080/",
     "height": 424
    },
    "id": "7e7249c7",
    "outputId": "6b416c6b-6750-4e8f-91c8-de5e64241e13"
   },
   "outputs": [
    {
     "data": {
      "text/html": [
       "<div>\n",
       "<style scoped>\n",
       "    .dataframe tbody tr th:only-of-type {\n",
       "        vertical-align: middle;\n",
       "    }\n",
       "\n",
       "    .dataframe tbody tr th {\n",
       "        vertical-align: top;\n",
       "    }\n",
       "\n",
       "    .dataframe thead th {\n",
       "        text-align: right;\n",
       "    }\n",
       "</style>\n",
       "<table border=\"1\" class=\"dataframe\">\n",
       "  <thead>\n",
       "    <tr style=\"text-align: right;\">\n",
       "      <th></th>\n",
       "      <th>clinic_province</th>\n",
       "      <th>group_regency</th>\n",
       "      <th>season</th>\n",
       "      <th>icd_10</th>\n",
       "      <th>total_penyakit</th>\n",
       "    </tr>\n",
       "  </thead>\n",
       "  <tbody>\n",
       "    <tr>\n",
       "      <th>6232</th>\n",
       "      <td>Jawa Barat</td>\n",
       "      <td>Bekasi</td>\n",
       "      <td>Pancaroba</td>\n",
       "      <td>ISPA bagian atas , tidak spesifik</td>\n",
       "      <td>4620</td>\n",
       "    </tr>\n",
       "    <tr>\n",
       "      <th>7593</th>\n",
       "      <td>Jawa Barat</td>\n",
       "      <td>Bekasi</td>\n",
       "      <td>Penghujan</td>\n",
       "      <td>ISPA bagian atas , tidak spesifik</td>\n",
       "      <td>3303</td>\n",
       "    </tr>\n",
       "    <tr>\n",
       "      <th>6681</th>\n",
       "      <td>Jawa Barat</td>\n",
       "      <td>Bekasi</td>\n",
       "      <td>Pancaroba</td>\n",
       "      <td>Pencernaan yg terganggu</td>\n",
       "      <td>2151</td>\n",
       "    </tr>\n",
       "    <tr>\n",
       "      <th>8056</th>\n",
       "      <td>Jawa Barat</td>\n",
       "      <td>Bekasi</td>\n",
       "      <td>Penghujan</td>\n",
       "      <td>Pencernaan yg terganggu</td>\n",
       "      <td>2053</td>\n",
       "    </tr>\n",
       "    <tr>\n",
       "      <th>7405</th>\n",
       "      <td>Jawa Barat</td>\n",
       "      <td>Bekasi</td>\n",
       "      <td>Penghujan</td>\n",
       "      <td>Esensial ( primer) hipertensi</td>\n",
       "      <td>1448</td>\n",
       "    </tr>\n",
       "    <tr>\n",
       "      <th>...</th>\n",
       "      <td>...</td>\n",
       "      <td>...</td>\n",
       "      <td>...</td>\n",
       "      <td>...</td>\n",
       "      <td>...</td>\n",
       "    </tr>\n",
       "    <tr>\n",
       "      <th>6461</th>\n",
       "      <td>Jawa Barat</td>\n",
       "      <td>Bekasi</td>\n",
       "      <td>Pancaroba</td>\n",
       "      <td>Mononeuropati lain dari ekstremitas atas</td>\n",
       "      <td>1</td>\n",
       "    </tr>\n",
       "    <tr>\n",
       "      <th>6462</th>\n",
       "      <td>Jawa Barat</td>\n",
       "      <td>Bekasi</td>\n",
       "      <td>Pancaroba</td>\n",
       "      <td>Mononeuropati tertentu lainnya</td>\n",
       "      <td>1</td>\n",
       "    </tr>\n",
       "    <tr>\n",
       "      <th>6466</th>\n",
       "      <td>Jawa Barat</td>\n",
       "      <td>Bekasi</td>\n",
       "      <td>Pancaroba</td>\n",
       "      <td>Muscle strain, ankle and foot</td>\n",
       "      <td>1</td>\n",
       "    </tr>\n",
       "    <tr>\n",
       "      <th>6468</th>\n",
       "      <td>Jawa Barat</td>\n",
       "      <td>Bekasi</td>\n",
       "      <td>Pancaroba</td>\n",
       "      <td>Myalgia, forearm</td>\n",
       "      <td>1</td>\n",
       "    </tr>\n",
       "    <tr>\n",
       "      <th>15216</th>\n",
       "      <td>Sumatera Utara</td>\n",
       "      <td>Sibolga (Kota)</td>\n",
       "      <td>Penghujan</td>\n",
       "      <td>Pencernaan yg terganggu</td>\n",
       "      <td>1</td>\n",
       "    </tr>\n",
       "  </tbody>\n",
       "</table>\n",
       "<p>15217 rows × 5 columns</p>\n",
       "</div>"
      ],
      "text/plain": [
       "      clinic_province   group_regency     season  \\\n",
       "6232       Jawa Barat          Bekasi  Pancaroba   \n",
       "7593       Jawa Barat          Bekasi  Penghujan   \n",
       "6681       Jawa Barat          Bekasi  Pancaroba   \n",
       "8056       Jawa Barat          Bekasi  Penghujan   \n",
       "7405       Jawa Barat          Bekasi  Penghujan   \n",
       "...               ...             ...        ...   \n",
       "6461       Jawa Barat          Bekasi  Pancaroba   \n",
       "6462       Jawa Barat          Bekasi  Pancaroba   \n",
       "6466       Jawa Barat          Bekasi  Pancaroba   \n",
       "6468       Jawa Barat          Bekasi  Pancaroba   \n",
       "15216  Sumatera Utara  Sibolga (Kota)  Penghujan   \n",
       "\n",
       "                                         icd_10  total_penyakit  \n",
       "6232          ISPA bagian atas , tidak spesifik            4620  \n",
       "7593          ISPA bagian atas , tidak spesifik            3303  \n",
       "6681                    Pencernaan yg terganggu            2151  \n",
       "8056                    Pencernaan yg terganggu            2053  \n",
       "7405              Esensial ( primer) hipertensi            1448  \n",
       "...                                         ...             ...  \n",
       "6461   Mononeuropati lain dari ekstremitas atas               1  \n",
       "6462             Mononeuropati tertentu lainnya               1  \n",
       "6466              Muscle strain, ankle and foot               1  \n",
       "6468                           Myalgia, forearm               1  \n",
       "15216                   Pencernaan yg terganggu               1  \n",
       "\n",
       "[15217 rows x 5 columns]"
      ]
     },
     "execution_count": 54,
     "metadata": {},
     "output_type": "execute_result"
    }
   ],
   "source": [
    "#How diagnose patient in every years for each clinic province and clinic regency\n",
    "diagnose_season = data[(data['group_regency']!='0')].groupby(['clinic_province','group_regency','season', 'icd_10']).agg(\n",
    "    total_penyakit=pd.NamedAgg(column=\"icd_10\", aggfunc=\"count\")\n",
    ").reset_index().sort_values(by='total_penyakit',ascending=False)\n",
    "diagnose_season"
   ]
  },
  {
   "cell_type": "code",
   "execution_count": 55,
   "id": "a67b8a2d",
   "metadata": {
    "colab": {
     "base_uri": "https://localhost:8080/",
     "height": 143
    },
    "id": "a67b8a2d",
    "outputId": "04ff8813-7393-4641-ba09-0487fd933c0f"
   },
   "outputs": [
    {
     "data": {
      "text/html": [
       "<div>\n",
       "<style scoped>\n",
       "    .dataframe tbody tr th:only-of-type {\n",
       "        vertical-align: middle;\n",
       "    }\n",
       "\n",
       "    .dataframe tbody tr th {\n",
       "        vertical-align: top;\n",
       "    }\n",
       "\n",
       "    .dataframe thead th {\n",
       "        text-align: right;\n",
       "    }\n",
       "</style>\n",
       "<table border=\"1\" class=\"dataframe\">\n",
       "  <thead>\n",
       "    <tr style=\"text-align: right;\">\n",
       "      <th></th>\n",
       "      <th>season</th>\n",
       "      <th>total_diagnose</th>\n",
       "      <th>season_persentage</th>\n",
       "    </tr>\n",
       "  </thead>\n",
       "  <tbody>\n",
       "    <tr>\n",
       "      <th>0</th>\n",
       "      <td>Kemarau</td>\n",
       "      <td>38787</td>\n",
       "      <td>23.1</td>\n",
       "    </tr>\n",
       "    <tr>\n",
       "      <th>1</th>\n",
       "      <td>Pancaroba</td>\n",
       "      <td>70595</td>\n",
       "      <td>42.1</td>\n",
       "    </tr>\n",
       "    <tr>\n",
       "      <th>2</th>\n",
       "      <td>Penghujan</td>\n",
       "      <td>58240</td>\n",
       "      <td>34.7</td>\n",
       "    </tr>\n",
       "  </tbody>\n",
       "</table>\n",
       "</div>"
      ],
      "text/plain": [
       "      season  total_diagnose  season_persentage\n",
       "0    Kemarau           38787               23.1\n",
       "1  Pancaroba           70595               42.1\n",
       "2  Penghujan           58240               34.7"
      ]
     },
     "execution_count": 55,
     "metadata": {},
     "output_type": "execute_result"
    }
   ],
   "source": [
    "#Precentage diagnose by season\n",
    "diag_season_persen = data.groupby(\"season\").agg(\n",
    "    total_diagnose=pd.NamedAgg(column=\"icd_10\", aggfunc=\"count\")\n",
    ").reset_index()\n",
    "\n",
    "diag_season_persen['season_persentage'] = round(100 * diag_season_persen['total_diagnose'] / diag_season_persen.total_diagnose.sum(),1)\n",
    "diag_season_persen"
   ]
  },
  {
   "cell_type": "code",
   "execution_count": 56,
   "id": "2fe39141",
   "metadata": {
    "colab": {
     "base_uri": "https://localhost:8080/",
     "height": 410
    },
    "id": "2fe39141",
    "outputId": "9e6d4ff1-68fe-4477-eebd-6724aa6aa221"
   },
   "outputs": [
    {
     "data": {
      "image/png": "[encoded data removed]",
      "text/plain": [
       "<Figure size 432x288 with 1 Axes>"
      ]
     },
     "metadata": {
      "needs_background": "light"
     },
     "output_type": "display_data"
    }
   ],
   "source": [
    "plt.figure(figsize=(6,4))\n",
    "plt.box(False)\n",
    "plt.title('Percentage Diagnose by season', fontweight='bold')\n",
    "ax = sns.barplot(\n",
    "    data=diag_season_persen, \n",
    "    x=\"season_persentage\",\n",
    "    y=\"season\", \n",
    "    color=\"#6cabea\", \n",
    "    orient=\"h\"\n",
    ")\n",
    "\n",
    "for i in ax.containers:\n",
    "    ax.bar_label(i)"
   ]
  },
  {
   "cell_type": "markdown",
   "id": "c1ab7b46",
   "metadata": {
    "id": "c1ab7b46"
   },
   "source": [
    "**Insight**\n",
    "- jika dilihat dari jumlah penyakit permusim yang dialami pasien, penyakit paling banyak terjadi dimusim kemarau\n",
    "- masing-masing persentage tiap musim : Kemarau 42.3%, Penghujan 32.3% dan pancaroba 25,4%"
   ]
  },
  {
   "cell_type": "markdown",
   "id": "4f2d00f4",
   "metadata": {
    "id": "4f2d00f4"
   },
   "source": [
    "Kita akan lihat bagaimana persebaran penyakit dikota pada tiap musim"
   ]
  },
  {
   "cell_type": "code",
   "execution_count": 57,
   "id": "d9bfa0ce",
   "metadata": {
    "colab": {
     "base_uri": "https://localhost:8080/",
     "height": 718
    },
    "id": "d9bfa0ce",
    "outputId": "479f31d7-4bd4-4b0c-8790-adabede9ccec"
   },
   "outputs": [
    {
     "data": {
      "image/png": "[encoded data removed]",
      "text/plain": [
       "<Figure size 720x576 with 1 Axes>"
      ]
     },
     "metadata": {
      "needs_background": "light"
     },
     "output_type": "display_data"
    }
   ],
   "source": [
    "fig, ax1 = plt.subplots(figsize=(10,8))\n",
    "sns.barplot(\n",
    "    data=diagnose_season.head(100), \n",
    "    x='total_penyakit', \n",
    "    y='group_regency', \n",
    "    hue='season', \n",
    "    palette=\"GnBu\",\n",
    "    ci=False,\n",
    "    ax=ax1)\n",
    "plt.title(\"Jumlah diagnosa penyakit di kota tiap musim\", fontweight='bold')\n",
    "for i in ax1.containers:\n",
    "    ax1.bar_label(i,)\n",
    "\n",
    "plt.legend(bbox_to_anchor=(1, 0.4), loc='lower left', borderaxespad=0)\n",
    "sns.despine(fig)"
   ]
  },
  {
   "cell_type": "markdown",
   "id": "bd80e9d2",
   "metadata": {
    "id": "bd80e9d2"
   },
   "source": [
    "**Insight**\n",
    "- Bekasi memiliki jumlah diagnosa penyakit pasien terbanyak disetiap musim\n",
    "- 5 kota dengan jumlah diagnosa penyakit terbanyak berdasarkan musim adalah bekasi, jakarta timur, kab. pesisir selatan, tangerang, kab. lampung tengah"
   ]
  },
  {
   "cell_type": "markdown",
   "id": "718b2a92",
   "metadata": {
    "id": "718b2a92"
   },
   "source": [
    "Dari kota bekasi kita akan lihat penyakit apa saja yang banyak dialami oleh pasien disetiap musim"
   ]
  },
  {
   "cell_type": "code",
   "execution_count": 58,
   "id": "dbf512ff",
   "metadata": {
    "colab": {
     "base_uri": "https://localhost:8080/",
     "height": 424
    },
    "id": "dbf512ff",
    "outputId": "69d3f30c-fc02-448e-9b7d-fb2179d11442"
   },
   "outputs": [
    {
     "data": {
      "text/html": [
       "<div>\n",
       "<style scoped>\n",
       "    .dataframe tbody tr th:only-of-type {\n",
       "        vertical-align: middle;\n",
       "    }\n",
       "\n",
       "    .dataframe tbody tr th {\n",
       "        vertical-align: top;\n",
       "    }\n",
       "\n",
       "    .dataframe thead th {\n",
       "        text-align: right;\n",
       "    }\n",
       "</style>\n",
       "<table border=\"1\" class=\"dataframe\">\n",
       "  <thead>\n",
       "    <tr style=\"text-align: right;\">\n",
       "      <th></th>\n",
       "      <th>group_regency</th>\n",
       "      <th>icd_10</th>\n",
       "      <th>season</th>\n",
       "      <th>total_diagnosa</th>\n",
       "    </tr>\n",
       "  </thead>\n",
       "  <tbody>\n",
       "    <tr>\n",
       "      <th>1352</th>\n",
       "      <td>Bekasi</td>\n",
       "      <td>ISPA bagian atas , tidak spesifik</td>\n",
       "      <td>Pancaroba</td>\n",
       "      <td>4620</td>\n",
       "    </tr>\n",
       "    <tr>\n",
       "      <th>1353</th>\n",
       "      <td>Bekasi</td>\n",
       "      <td>ISPA bagian atas , tidak spesifik</td>\n",
       "      <td>Penghujan</td>\n",
       "      <td>3303</td>\n",
       "    </tr>\n",
       "    <tr>\n",
       "      <th>2543</th>\n",
       "      <td>Bekasi</td>\n",
       "      <td>Pencernaan yg terganggu</td>\n",
       "      <td>Pancaroba</td>\n",
       "      <td>2151</td>\n",
       "    </tr>\n",
       "    <tr>\n",
       "      <th>2544</th>\n",
       "      <td>Bekasi</td>\n",
       "      <td>Pencernaan yg terganggu</td>\n",
       "      <td>Penghujan</td>\n",
       "      <td>2053</td>\n",
       "    </tr>\n",
       "    <tr>\n",
       "      <th>861</th>\n",
       "      <td>Bekasi</td>\n",
       "      <td>Esensial ( primer) hipertensi</td>\n",
       "      <td>Penghujan</td>\n",
       "      <td>1448</td>\n",
       "    </tr>\n",
       "    <tr>\n",
       "      <th>...</th>\n",
       "      <td>...</td>\n",
       "      <td>...</td>\n",
       "      <td>...</td>\n",
       "      <td>...</td>\n",
       "    </tr>\n",
       "    <tr>\n",
       "      <th>1651</th>\n",
       "      <td>Bekasi</td>\n",
       "      <td>Kyphosis lain dan tidak spesifik</td>\n",
       "      <td>Pancaroba</td>\n",
       "      <td>1</td>\n",
       "    </tr>\n",
       "    <tr>\n",
       "      <th>1648</th>\n",
       "      <td>Bekasi</td>\n",
       "      <td>Kusta , tidak spesifik</td>\n",
       "      <td>Pancaroba</td>\n",
       "      <td>1</td>\n",
       "    </tr>\n",
       "    <tr>\n",
       "      <th>1647</th>\n",
       "      <td>Bekasi</td>\n",
       "      <td>Kurangnya pembangunan lainnya fisiologis norma...</td>\n",
       "      <td>Penghujan</td>\n",
       "      <td>1</td>\n",
       "    </tr>\n",
       "    <tr>\n",
       "      <th>1646</th>\n",
       "      <td>Bekasi</td>\n",
       "      <td>Kurangnya pembangunan lainnya fisiologis norma...</td>\n",
       "      <td>Kemarau</td>\n",
       "      <td>1</td>\n",
       "    </tr>\n",
       "    <tr>\n",
       "      <th>3614</th>\n",
       "      <td>Bekasi</td>\n",
       "      <td>vaginitis akut</td>\n",
       "      <td>Penghujan</td>\n",
       "      <td>1</td>\n",
       "    </tr>\n",
       "  </tbody>\n",
       "</table>\n",
       "<p>3615 rows × 4 columns</p>\n",
       "</div>"
      ],
      "text/plain": [
       "     group_regency                                             icd_10  \\\n",
       "1352        Bekasi                  ISPA bagian atas , tidak spesifik   \n",
       "1353        Bekasi                  ISPA bagian atas , tidak spesifik   \n",
       "2543        Bekasi                            Pencernaan yg terganggu   \n",
       "2544        Bekasi                            Pencernaan yg terganggu   \n",
       "861         Bekasi                      Esensial ( primer) hipertensi   \n",
       "...            ...                                                ...   \n",
       "1651        Bekasi                   Kyphosis lain dan tidak spesifik   \n",
       "1648        Bekasi                             Kusta , tidak spesifik   \n",
       "1647        Bekasi  Kurangnya pembangunan lainnya fisiologis norma...   \n",
       "1646        Bekasi  Kurangnya pembangunan lainnya fisiologis norma...   \n",
       "3614        Bekasi                                     vaginitis akut   \n",
       "\n",
       "         season  total_diagnosa  \n",
       "1352  Pancaroba            4620  \n",
       "1353  Penghujan            3303  \n",
       "2543  Pancaroba            2151  \n",
       "2544  Penghujan            2053  \n",
       "861   Penghujan            1448  \n",
       "...         ...             ...  \n",
       "1651  Pancaroba               1  \n",
       "1648  Pancaroba               1  \n",
       "1647  Penghujan               1  \n",
       "1646    Kemarau               1  \n",
       "3614  Penghujan               1  \n",
       "\n",
       "[3615 rows x 4 columns]"
      ]
     },
     "execution_count": 58,
     "metadata": {},
     "output_type": "execute_result"
    }
   ],
   "source": [
    "diag_regency_season= data[(data['group_regency'] == 'Bekasi')].groupby(['group_regency', 'icd_10','season']).agg(\n",
    "    total_diagnosa=pd.NamedAgg(column=\"icd_10\", aggfunc=\"count\")\n",
    ").reset_index().sort_values(by='total_diagnosa',ascending=False)\n",
    "diag_regency_season"
   ]
  },
  {
   "cell_type": "code",
   "execution_count": 59,
   "id": "79055984",
   "metadata": {
    "colab": {
     "base_uri": "https://localhost:8080/",
     "height": 410
    },
    "id": "79055984",
    "outputId": "a6d790a7-b830-4435-859b-37c57d71bc4e"
   },
   "outputs": [
    {
     "data": {
      "image/png": "[encoded data removed]",
      "text/plain": [
       "<Figure size 432x288 with 1 Axes>"
      ]
     },
     "metadata": {
      "needs_background": "light"
     },
     "output_type": "display_data"
    }
   ],
   "source": [
    "kemarau = diag_regency_season[(diag_regency_season['season'] == 'Kemarau')]\n",
    "\n",
    "plt.figure(figsize=(6,4))\n",
    "plt.box(False)\n",
    "plt.title('Penyakit di klinik bekasi dimusim kemarau', fontweight='bold')\n",
    "ax = sns.barplot(\n",
    "    data=kemarau.head(10), \n",
    "    x=\"total_diagnosa\",\n",
    "    y=\"icd_10\", \n",
    "    color=\"#6cabea\", \n",
    "    orient=\"h\"\n",
    ")\n",
    "\n",
    "for i in ax.containers:\n",
    "    ax.bar_label(i)"
   ]
  },
  {
   "cell_type": "markdown",
   "id": "728bc672",
   "metadata": {
    "id": "728bc672"
   },
   "source": [
    "**Insigth**\n",
    "- 10 penyakit yang paling banyak dialami pasien di klinik bekasi dimusim kemarau adalah : \n",
    "    - ISPA bagian atas , tidak spesifik\n",
    "    - Pencernaan yg terganggu\n",
    "    - Esensial ( primer) hipertensi\n",
    "    - Acute pharyngitis\n",
    "    - Demam , tidak spesifik\n",
    "    - Faringitis akut , tidak spesifik\n",
    "    - Nasopharyngitis akut [ flu biasa ]\n",
    "    - Acute upper respiratory infections of multiple\n",
    "    - Diare dan gastroenteritis\n",
    "    - Konseling , tidak spesifik"
   ]
  },
  {
   "cell_type": "code",
   "execution_count": 60,
   "id": "26298401",
   "metadata": {
    "colab": {
     "base_uri": "https://localhost:8080/",
     "height": 410
    },
    "id": "26298401",
    "outputId": "ec1e9d69-c128-4bbd-865d-332abdf43d45"
   },
   "outputs": [
    {
     "data": {
      "image/png": "[encoded data removed]",
      "text/plain": [
       "<Figure size 432x288 with 1 Axes>"
      ]
     },
     "metadata": {
      "needs_background": "light"
     },
     "output_type": "display_data"
    }
   ],
   "source": [
    "penghujan = diag_regency_season[(diag_regency_season['season'] == 'Penghujan')]\n",
    "plt.figure(figsize=(6,4))\n",
    "plt.box(False)\n",
    "plt.title('Penyakit di klinik bekasi dimusim penghujan', fontweight='bold')\n",
    "ax = sns.barplot(\n",
    "    data=penghujan.head(10), \n",
    "    x=\"total_diagnosa\",\n",
    "    y=\"icd_10\", \n",
    "    color=\"#6cabea\", \n",
    "    orient=\"h\"\n",
    ")\n",
    "\n",
    "for i in ax.containers:\n",
    "    ax.bar_label(i)"
   ]
  },
  {
   "cell_type": "markdown",
   "id": "b619fc37",
   "metadata": {
    "id": "b619fc37"
   },
   "source": [
    "**Insigth**\n",
    "- 10 penyakit yang paling banyak dialami pasien di klinik bekasi dimusim penghujan adalah : \n",
    "    - ISPA bagian atas , tidak spesifik\n",
    "    - Pencernaan yg terganggu\n",
    "    - Esensial ( primer) hipertensi\n",
    "    - Nasopharyngitis akut [ flu biasa ]\n",
    "    - Acute pharyngitis\n",
    "    - Faringitis akut , tidak spesifik\n",
    "    - Diare dan gastroenteritis\n",
    "    - Demam , tidak spesifik\n",
    "    - Mialgia\n",
    "    - Dental caries\n",
    "    "
   ]
  },
  {
   "cell_type": "code",
   "execution_count": 61,
   "id": "6e225b25",
   "metadata": {
    "colab": {
     "base_uri": "https://localhost:8080/",
     "height": 410
    },
    "id": "6e225b25",
    "outputId": "dd42db01-c7a1-43ea-cb93-a054596c09fe"
   },
   "outputs": [
    {
     "data": {
      "image/png": "[encoded data removed]",
      "text/plain": [
       "<Figure size 432x288 with 1 Axes>"
      ]
     },
     "metadata": {
      "needs_background": "light"
     },
     "output_type": "display_data"
    }
   ],
   "source": [
    "pancaroba = diag_regency_season[(diag_regency_season['season'] == 'Pancaroba')]\n",
    "\n",
    "\n",
    "plt.figure(figsize=(6,4))\n",
    "plt.box(False)\n",
    "plt.title('Penyakit di klinik bekasi dimusim pancaroba', fontweight='bold')\n",
    "ax = sns.barplot(\n",
    "    data=pancaroba.head(10), \n",
    "    x=\"total_diagnosa\",\n",
    "    y=\"icd_10\", \n",
    "    color=\"#6cabea\", \n",
    "    orient=\"h\"\n",
    ")\n",
    "\n",
    "for i in ax.containers:\n",
    "    ax.bar_label(i)"
   ]
  },
  {
   "cell_type": "markdown",
   "id": "ad08ce07",
   "metadata": {
    "id": "ad08ce07"
   },
   "source": [
    "**Insigth**\n",
    "- 10 penyakit yang paling banyak dialami pasien di klinik bekasi dimusim pancaroba adalah : \n",
    "    - ISPA bagian atas , tidak spesifik\n",
    "    - Pencernaan yg terganggu\n",
    "    - Esensial ( primer) hipertensi\n",
    "    - Acute pharyngitis\n",
    "    - Demam , tidak spesifik\n",
    "    - Nasopharyngitis akut [ flu biasa ]\n",
    "    - Faringitis akut , tidak spesifik\n",
    "    - Diare dan gastroenteritis\n",
    "    - Mialgia\n",
    "    - Mual dan muntah\n",
    "    "
   ]
  },
  {
   "cell_type": "markdown",
   "id": "8b7fde97",
   "metadata": {
    "id": "8b7fde97"
   },
   "source": [
    "Kita akan lihat 10 provinsi dengan jumlah diagnosa terbanyak"
   ]
  },
  {
   "cell_type": "code",
   "execution_count": 62,
   "id": "b79cfc32",
   "metadata": {
    "colab": {
     "base_uri": "https://localhost:8080/",
     "height": 410
    },
    "id": "b79cfc32",
    "outputId": "fa1b2ed2-c32d-4e7e-a94a-cb20cb7be50b"
   },
   "outputs": [
    {
     "data": {
      "image/png": "[encoded data removed]",
      "text/plain": [
       "<Figure size 432x288 with 1 Axes>"
      ]
     },
     "metadata": {
      "needs_background": "light"
     },
     "output_type": "display_data"
    }
   ],
   "source": [
    "province = data.groupby([\"clinic_province\"]).agg(\n",
    "    total_diagnose=pd.NamedAgg(column=\"icd_10\", aggfunc=\"count\")\n",
    "    ).reset_index().sort_values(by=[\"total_diagnose\"],ascending=False)\n",
    "\n",
    "province['total_percentage'] = round(100 * province['total_diagnose'] / province.total_diagnose.sum(),1)\n",
    "\n",
    "plt.figure(figsize=(6,4))\n",
    "plt.box(False)\n",
    "plt.title('Top 10 Provinsi dengan jumlah diagnosa terbanyak', fontweight='bold')\n",
    "ax = sns.barplot(\n",
    "    data=province.head(10), \n",
    "    x=\"total_percentage\",\n",
    "    y=\"clinic_province\", \n",
    "    color=\"#6cabea\", \n",
    "    orient=\"h\"\n",
    ")\n",
    "\n",
    "for i in ax.containers:\n",
    "    ax.bar_label(i)"
   ]
  },
  {
   "cell_type": "markdown",
   "id": "1231e702",
   "metadata": {
    "id": "1231e702"
   },
   "source": [
    "**Insight**\n",
    "- 5 dari 10 Provinsi dengan diagnosa terbanyak ada di jawa barat,banten, DKI Jakarta, Lampung, dan jawa tengah\n",
    "- Provinsi jawa barat mendominasi dalam jumlah penyakit pasien jika dibandingkan dengan provinsi lain sebanyak 3103 kasus"
   ]
  },
  {
   "cell_type": "markdown",
   "id": "f7f83201",
   "metadata": {
    "id": "f7f83201"
   },
   "source": [
    "Selain itu kita juga akan lihat 10 kota dengan jumlah diagnosa terbanyak"
   ]
  },
  {
   "cell_type": "code",
   "execution_count": 63,
   "id": "26bc6edb",
   "metadata": {
    "colab": {
     "base_uri": "https://localhost:8080/",
     "height": 410
    },
    "id": "26bc6edb",
    "outputId": "51abe003-45ae-4602-9b01-32ad83ec1969"
   },
   "outputs": [
    {
     "data": {
      "image/png": "[encoded data removed]",
      "text/plain": [
       "<Figure size 432x288 with 1 Axes>"
      ]
     },
     "metadata": {
      "needs_background": "light"
     },
     "output_type": "display_data"
    }
   ],
   "source": [
    "kota = data[(data['group_regency']!='0')].groupby([\"group_regency\"]).agg(\n",
    "    total_diagnose=pd.NamedAgg(column=\"icd_10\", aggfunc=\"count\")\n",
    "    ).reset_index().sort_values(by=[\"total_diagnose\"],ascending=False)\n",
    "\n",
    "kota['total_percentage'] = round(100 * kota['total_diagnose'] / kota.total_diagnose.sum(),1)\n",
    "\n",
    "plt.figure(figsize=(6,4))\n",
    "plt.box(False)\n",
    "plt.title('Top 10 Kota dengan jumlah diagnosa terbanyak', fontweight='bold')\n",
    "ax = sns.barplot(\n",
    "    data=kota.head(10), \n",
    "    x=\"total_percentage\",\n",
    "    y=\"group_regency\", \n",
    "    color=\"#6cabea\", \n",
    "    orient=\"h\"\n",
    ")\n",
    "\n",
    "for i in ax.containers:\n",
    "    ax.bar_label(i)"
   ]
  },
  {
   "cell_type": "markdown",
   "id": "2314d50b",
   "metadata": {
    "id": "2314d50b"
   },
   "source": [
    "**Insight**\n",
    "- 5 dari 10 kota dengan jumlah diagnosa terbanyak adalah bekasi, tangerang, jakarta timur, kab. lampung tengah, dan semarang"
   ]
  },
  {
   "cell_type": "markdown",
   "id": "a5a75555",
   "metadata": {
    "id": "a5a75555"
   },
   "source": [
    "**2. Bagaimana penggunaan jenis pembayaran dan korelasinya dengan penyakit yang ditangani?**"
   ]
  },
  {
   "cell_type": "markdown",
   "id": "fd385bda",
   "metadata": {
    "id": "fd385bda"
   },
   "source": [
    "Pertama kita akan lihat bagaimana persentase penggunaa jenis pembayaran yang digunakan pasien"
   ]
  },
  {
   "cell_type": "code",
   "execution_count": 64,
   "id": "7e82065d",
   "metadata": {
    "id": "7e82065d"
   },
   "outputs": [],
   "source": [
    "#Precentage of payment type that be use by patient\n",
    "financing = data.groupby(\"patient_financing\").agg(\n",
    "    total_payment=pd.NamedAgg(column=\"registration_created_at\", aggfunc=\"count\")\n",
    ").reset_index()\n",
    "\n",
    "financing['payment_percentage'] = round(100 * financing['total_payment'] / financing.total_payment.sum(),1)"
   ]
  },
  {
   "cell_type": "code",
   "execution_count": 65,
   "id": "c86ff149",
   "metadata": {
    "colab": {
     "base_uri": "https://localhost:8080/",
     "height": 410
    },
    "id": "c86ff149",
    "outputId": "bae7b6c0-c555-4b37-9942-cfd18089f032"
   },
   "outputs": [
    {
     "data": {
      "image/png": "[encoded data removed]",
      "text/plain": [
       "<Figure size 432x288 with 1 Axes>"
      ]
     },
     "metadata": {
      "needs_background": "light"
     },
     "output_type": "display_data"
    }
   ],
   "source": [
    "plt.figure(figsize=(6,4))\n",
    "plt.box(False)\n",
    "plt.title('Percentage payment by patient', fontweight='bold')\n",
    "ax = sns.barplot(\n",
    "    data=financing, \n",
    "    x=\"payment_percentage\",\n",
    "    y=\"patient_financing\", \n",
    "    color=\"#6cabea\", \n",
    "    orient=\"h\"\n",
    ")\n",
    "\n",
    "for i in ax.containers:\n",
    "    ax.bar_label(i)"
   ]
  },
  {
   "cell_type": "markdown",
   "id": "9078453b",
   "metadata": {
    "id": "9078453b"
   },
   "source": [
    "**Insight**\n",
    "- Sebanyak 62,4% pasien menggunakan asuransi/jaminan\n",
    "- 37,4 % pembayaran dilakukan secara pribadi\n",
    "- 0,2% pembayaran dilakukan oleh perusahaan"
   ]
  },
  {
   "cell_type": "markdown",
   "id": "c7335e08",
   "metadata": {},
   "source": [
    "Sekarang kita akan coba lihat persentase penggunaan asuransi bpjs dan non bpjs dijenis pembayaran asuransi/jaminan"
   ]
  },
  {
   "cell_type": "code",
   "execution_count": 66,
   "id": "02a2de1a",
   "metadata": {},
   "outputs": [],
   "source": [
    "\n",
    "def pembayaran(x):\n",
    "    fin = x[0]\n",
    "    ins = x[1]\n",
    "    if fin == 'Asuransi/Jaminan' :\n",
    "        if ins == 'BPJS Kesehatan':\n",
    "            bayar = 'BPJS'\n",
    "        else :\n",
    "            bayar ='Non BPJS'\n",
    "        \n",
    "    else \n",
    "        bayar = fin\n",
    "\n",
    "    return bayar\n",
    "\n",
    "data[\"pembayaran\"] = data[['patient_financing','patient_insurance']].apply(pembayaran,axis=1)"
   ]
  },
  {
   "cell_type": "code",
   "execution_count": 67,
   "id": "33209d67",
   "metadata": {},
   "outputs": [
    {
     "data": {
      "text/plain": [
       "array(['Pribadi', 'Non BPJS', 'BPJS', 'Perusahaan'], dtype=object)"
      ]
     },
     "execution_count": 67,
     "metadata": {},
     "output_type": "execute_result"
    }
   ],
   "source": [
    "data['pembayaran'].unique()"
   ]
  },
  {
   "cell_type": "code",
   "execution_count": 68,
   "id": "46e76f4a",
   "metadata": {},
   "outputs": [
    {
     "data": {
      "text/html": [
       "<div>\n",
       "<style scoped>\n",
       "    .dataframe tbody tr th:only-of-type {\n",
       "        vertical-align: middle;\n",
       "    }\n",
       "\n",
       "    .dataframe tbody tr th {\n",
       "        vertical-align: top;\n",
       "    }\n",
       "\n",
       "    .dataframe thead th {\n",
       "        text-align: right;\n",
       "    }\n",
       "</style>\n",
       "<table border=\"1\" class=\"dataframe\">\n",
       "  <thead>\n",
       "    <tr style=\"text-align: right;\">\n",
       "      <th></th>\n",
       "      <th>pembayaran</th>\n",
       "      <th>total_payment</th>\n",
       "      <th>payment_percentage</th>\n",
       "    </tr>\n",
       "  </thead>\n",
       "  <tbody>\n",
       "    <tr>\n",
       "      <th>0</th>\n",
       "      <td>BPJS</td>\n",
       "      <td>102317</td>\n",
       "      <td>61.0</td>\n",
       "    </tr>\n",
       "    <tr>\n",
       "      <th>1</th>\n",
       "      <td>Non BPJS</td>\n",
       "      <td>2240</td>\n",
       "      <td>1.3</td>\n",
       "    </tr>\n",
       "    <tr>\n",
       "      <th>2</th>\n",
       "      <td>Perusahaan</td>\n",
       "      <td>384</td>\n",
       "      <td>0.2</td>\n",
       "    </tr>\n",
       "    <tr>\n",
       "      <th>3</th>\n",
       "      <td>Pribadi</td>\n",
       "      <td>62681</td>\n",
       "      <td>37.4</td>\n",
       "    </tr>\n",
       "  </tbody>\n",
       "</table>\n",
       "</div>"
      ],
      "text/plain": [
       "   pembayaran  total_payment  payment_percentage\n",
       "0        BPJS         102317                61.0\n",
       "1    Non BPJS           2240                 1.3\n",
       "2  Perusahaan            384                 0.2\n",
       "3     Pribadi          62681                37.4"
      ]
     },
     "execution_count": 68,
     "metadata": {},
     "output_type": "execute_result"
    }
   ],
   "source": [
    "detail_bayar = data.groupby('pembayaran').agg(\n",
    "    total_payment=pd.NamedAgg(column=\"icd_10\", aggfunc=\"count\")\n",
    ").reset_index()\n",
    "\n",
    "detail_bayar['payment_percentage'] = round(100 * detail_bayar['total_payment'] / detail_bayar.total_payment.sum(),1)\n",
    "detail_bayar"
   ]
  },
  {
   "cell_type": "code",
   "execution_count": 69,
   "id": "1d7b6271",
   "metadata": {},
   "outputs": [
    {
     "data": {
      "image/png": "[encoded data removed]",
      "text/plain": [
       "<Figure size 432x288 with 1 Axes>"
      ]
     },
     "metadata": {
      "needs_background": "light"
     },
     "output_type": "display_data"
    }
   ],
   "source": [
    "plt.figure(figsize=(6,4))\n",
    "plt.box(False)\n",
    "plt.title('Percentage payment', fontweight='bold')\n",
    "ax = sns.barplot(\n",
    "    data=detail_bayar, \n",
    "    x=\"payment_percentage\",\n",
    "    y=\"pembayaran\", \n",
    "    color=\"#6cabea\", \n",
    "    orient=\"h\"\n",
    ")\n",
    "\n",
    "for i in ax.containers:\n",
    "    ax.bar_label(i)"
   ]
  },
  {
   "cell_type": "markdown",
   "id": "922c6862",
   "metadata": {
    "id": "922c6862"
   },
   "source": [
    "Kita akan lihat penyakit pasien dan dibayarkan dengan jenis pembayaran tersebut"
   ]
  },
  {
   "cell_type": "code",
   "execution_count": 70,
   "id": "7539269f",
   "metadata": {
    "colab": {
     "base_uri": "https://localhost:8080/",
     "height": 363
    },
    "id": "7539269f",
    "outputId": "640eda47-1e94-4742-c501-cb949d6afad6"
   },
   "outputs": [
    {
     "data": {
      "text/html": [
       "<div>\n",
       "<style scoped>\n",
       "    .dataframe tbody tr th:only-of-type {\n",
       "        vertical-align: middle;\n",
       "    }\n",
       "\n",
       "    .dataframe tbody tr th {\n",
       "        vertical-align: top;\n",
       "    }\n",
       "\n",
       "    .dataframe thead th {\n",
       "        text-align: right;\n",
       "    }\n",
       "</style>\n",
       "<table border=\"1\" class=\"dataframe\">\n",
       "  <thead>\n",
       "    <tr style=\"text-align: right;\">\n",
       "      <th></th>\n",
       "      <th>icd_10</th>\n",
       "      <th>pembayaran</th>\n",
       "      <th>total_diagnose</th>\n",
       "    </tr>\n",
       "  </thead>\n",
       "  <tbody>\n",
       "    <tr>\n",
       "      <th>1902</th>\n",
       "      <td>General examination and investigation of perso...</td>\n",
       "      <td>Pribadi</td>\n",
       "      <td>8777</td>\n",
       "    </tr>\n",
       "    <tr>\n",
       "      <th>2183</th>\n",
       "      <td>ISPA bagian atas , tidak spesifik</td>\n",
       "      <td>BPJS</td>\n",
       "      <td>8438</td>\n",
       "    </tr>\n",
       "    <tr>\n",
       "      <th>4226</th>\n",
       "      <td>Pencernaan yg terganggu</td>\n",
       "      <td>BPJS</td>\n",
       "      <td>7743</td>\n",
       "    </tr>\n",
       "    <tr>\n",
       "      <th>3334</th>\n",
       "      <td>Nasopharyngitis akut [ flu biasa ]</td>\n",
       "      <td>BPJS</td>\n",
       "      <td>7624</td>\n",
       "    </tr>\n",
       "    <tr>\n",
       "      <th>1357</th>\n",
       "      <td>Esensial ( primer) hipertensi</td>\n",
       "      <td>BPJS</td>\n",
       "      <td>5041</td>\n",
       "    </tr>\n",
       "    <tr>\n",
       "      <th>4186</th>\n",
       "      <td>Pemeriksaan kesehatan umum</td>\n",
       "      <td>Pribadi</td>\n",
       "      <td>4951</td>\n",
       "    </tr>\n",
       "    <tr>\n",
       "      <th>4229</th>\n",
       "      <td>Pencernaan yg terganggu</td>\n",
       "      <td>Pribadi</td>\n",
       "      <td>3729</td>\n",
       "    </tr>\n",
       "    <tr>\n",
       "      <th>2186</th>\n",
       "      <td>ISPA bagian atas , tidak spesifik</td>\n",
       "      <td>Pribadi</td>\n",
       "      <td>3112</td>\n",
       "    </tr>\n",
       "    <tr>\n",
       "      <th>3797</th>\n",
       "      <td>Other diseases of upper respiratory tract</td>\n",
       "      <td>BPJS</td>\n",
       "      <td>2976</td>\n",
       "    </tr>\n",
       "    <tr>\n",
       "      <th>3337</th>\n",
       "      <td>Nasopharyngitis akut [ flu biasa ]</td>\n",
       "      <td>Pribadi</td>\n",
       "      <td>2714</td>\n",
       "    </tr>\n",
       "  </tbody>\n",
       "</table>\n",
       "</div>"
      ],
      "text/plain": [
       "                                                 icd_10 pembayaran  \\\n",
       "1902  General examination and investigation of perso...    Pribadi   \n",
       "2183                  ISPA bagian atas , tidak spesifik       BPJS   \n",
       "4226                            Pencernaan yg terganggu       BPJS   \n",
       "3334                 Nasopharyngitis akut [ flu biasa ]       BPJS   \n",
       "1357                      Esensial ( primer) hipertensi       BPJS   \n",
       "4186                         Pemeriksaan kesehatan umum    Pribadi   \n",
       "4229                            Pencernaan yg terganggu    Pribadi   \n",
       "2186                  ISPA bagian atas , tidak spesifik    Pribadi   \n",
       "3797          Other diseases of upper respiratory tract       BPJS   \n",
       "3337                 Nasopharyngitis akut [ flu biasa ]    Pribadi   \n",
       "\n",
       "      total_diagnose  \n",
       "1902            8777  \n",
       "2183            8438  \n",
       "4226            7743  \n",
       "3334            7624  \n",
       "1357            5041  \n",
       "4186            4951  \n",
       "4229            3729  \n",
       "2186            3112  \n",
       "3797            2976  \n",
       "3337            2714  "
      ]
     },
     "execution_count": 70,
     "metadata": {},
     "output_type": "execute_result"
    }
   ],
   "source": [
    "#get amount for each diagnose \n",
    "pay_diagnose = data.groupby([\"icd_10\",\"pembayaran\"]).agg(\n",
    "    total_diagnose=pd.NamedAgg(column=\"icd_10\", aggfunc=\"count\")\n",
    "    ).reset_index().sort_values(by=[\"total_diagnose\",\"icd_10\",\"pembayaran\"],ascending=False)\n",
    "pay_diagnose.head(10)"
   ]
  },
  {
   "cell_type": "code",
   "execution_count": 71,
   "id": "84251d9b",
   "metadata": {
    "colab": {
     "base_uri": "https://localhost:8080/",
     "height": 674
    },
    "id": "84251d9b",
    "outputId": "a4d8240a-3f5e-4de1-ae9a-ef08867b7167"
   },
   "outputs": [
    {
     "data": {
      "image/png": "[encoded data removed]",
      "text/plain": [
       "<Figure size 432x576 with 1 Axes>"
      ]
     },
     "metadata": {
      "needs_background": "light"
     },
     "output_type": "display_data"
    }
   ],
   "source": [
    "fig, ax1 = plt.subplots(figsize=(6,8))\n",
    "sns.barplot(\n",
    "    data=pay_diagnose.head(10), \n",
    "    x='total_diagnose', \n",
    "    y='icd_10', \n",
    "    hue='pembayaran', \n",
    "    palette=\"GnBu\",\n",
    "    ax=ax1)\n",
    "plt.title(\"Diagnose penyakit dan jenis pembayaran yang dilakukan pasien\", fontweight='bold')\n",
    "for i in ax1.containers:\n",
    "    ax1.bar_label(i,)\n",
    "\n",
    "plt.legend(bbox_to_anchor=(1, 0.5), loc='lower left', borderaxespad=0)\n",
    "sns.despine(fig)"
   ]
  },
  {
   "cell_type": "code",
   "execution_count": 72,
   "id": "8f88ce50",
   "metadata": {
    "colab": {
     "base_uri": "https://localhost:8080/"
    },
    "id": "8f88ce50",
    "outputId": "f33773e2-41f6-447e-f6b0-d1cec299f0fd"
   },
   "outputs": [
    {
     "data": {
      "text/plain": [
       "-0.025459501731707187"
      ]
     },
     "execution_count": 72,
     "metadata": {},
     "output_type": "execute_result"
    }
   ],
   "source": [
    "#Check correlation between disease and patient financing\n",
    "data_icd=data['icd_10'].astype('category').cat.codes\n",
    "data_patient_financing=data['patient_financing'].astype('category').cat.codes\n",
    "data_icd.corr(data_patient_financing)"
   ]
  },
  {
   "cell_type": "markdown",
   "id": "ab6be462",
   "metadata": {
    "id": "ab6be462"
   },
   "source": [
    "**Insight**<br>\n",
    "- a. Dari 7 penyakit dengan jumlah tertinggi diatas dapat dilihat bahwa:\n",
    "    - beberapa penyakit yang dibayarkan dengan pembayaran pribadi saja, diantaranya :\n",
    "  General examination sebanyak 8777 kasus dan pemeriksaan kesehatan umum sebanyak 4951 kasus\n",
    "    - beberapa penyakit yang dibayarkan menggunakan pembayaran pribadi dan asuransi, diantaranya : ISPA bagian atas, pencernaan yang terganggu, dan nasopharyngitid akut[flu biasa]\n",
    "    - beberapa penyakit yang dibayarkan dengan pembayaran asuransi saja, diantaranya : esensial(primer) hipertensi, dan other diseases of upper respiratory tract\n",
    "- b. tidak ada korelasi yang signifikan (korelasi yang lemah) antara jenis pembayaran dan jenis penyakit pasien "
   ]
  },
  {
   "cell_type": "markdown",
   "id": "650835db",
   "metadata": {
    "id": "650835db"
   },
   "source": [
    "Untuk mengetahui lebih jelasnya penyakit apa saja untuk tiap jenis pembayaran, kita akan lihat 10 penyakit terbanyak untuk masing-masing jenis pembayaran"
   ]
  },
  {
   "cell_type": "code",
   "execution_count": 73,
   "id": "0ff51a3b",
   "metadata": {
    "colab": {
     "base_uri": "https://localhost:8080/",
     "height": 410
    },
    "id": "0ff51a3b",
    "outputId": "fa03c0c6-59cb-460b-ab2f-bbd89435113c"
   },
   "outputs": [
    {
     "data": {
      "image/png": "[encoded data removed]",
      "text/plain": [
       "<Figure size 432x288 with 1 Axes>"
      ]
     },
     "metadata": {
      "needs_background": "light"
     },
     "output_type": "display_data"
    }
   ],
   "source": [
    "pribadi= data[(data['patient_financing'] == 'Pribadi')].groupby(['icd_10']).agg(\n",
    "    total_diagnose=pd.NamedAgg(column=\"icd_10\", aggfunc=\"count\")\n",
    ").reset_index().sort_values(by='total_diagnose',ascending=False)\n",
    "pribadi['total_percentage'] = round(100 * pribadi['total_diagnose'] / pribadi.total_diagnose.sum(),1)\n",
    "\n",
    "\n",
    "plt.figure(figsize=(6,4))\n",
    "plt.box(False)\n",
    "plt.title('Top 10 Penyakit dengan pembayaran pribadi', fontweight='bold')\n",
    "ax = sns.barplot(\n",
    "    data=pribadi.head(10), \n",
    "    x=\"total_percentage\",\n",
    "    y=\"icd_10\", \n",
    "    color=\"#6cabea\", \n",
    "    orient=\"h\"\n",
    ")\n",
    "\n",
    "for i in ax.containers:\n",
    "    ax.bar_label(i)"
   ]
  },
  {
   "cell_type": "code",
   "execution_count": 74,
   "id": "beccae07",
   "metadata": {
    "colab": {
     "base_uri": "https://localhost:8080/",
     "height": 410
    },
    "id": "beccae07",
    "outputId": "81fa3b20-8045-41b4-bc3c-6a2fc8875038"
   },
   "outputs": [
    {
     "data": {
      "image/png": "[encoded data removed]",
      "text/plain": [
       "<Figure size 432x288 with 1 Axes>"
      ]
     },
     "metadata": {
      "needs_background": "light"
     },
     "output_type": "display_data"
    }
   ],
   "source": [
    "asuransi_bpjs= data[(data['pembayaran'] == 'BPJS')].groupby(['icd_10']).agg(\n",
    "    total_diagnose=pd.NamedAgg(column=\"icd_10\", aggfunc=\"count\")\n",
    ").reset_index().sort_values(by='total_diagnose',ascending=False)\n",
    "asuransi_bpjs['total_percentage'] = round(100 * asuransi_bpjs['total_diagnose'] / asuransi_bpjs.total_diagnose.sum(),1)\n",
    "\n",
    "plt.figure(figsize=(6,4))\n",
    "plt.box(False)\n",
    "plt.title('Top 10 Penyakit Dengan Pembayaran Asuransi BPJS', fontweight='bold')\n",
    "ax = sns.barplot(\n",
    "    data=asuransi_bpjs.head(10), \n",
    "    x=\"total_percentage\",\n",
    "    y=\"icd_10\", \n",
    "    color=\"#6cabea\", \n",
    "    orient=\"h\"\n",
    ")\n",
    "\n",
    "for i in ax.containers:\n",
    "    ax.bar_label(i)"
   ]
  },
  {
   "cell_type": "code",
   "execution_count": 75,
   "id": "a99294e0",
   "metadata": {},
   "outputs": [
    {
     "data": {
      "image/png": "[encoded data removed]",
      "text/plain": [
       "<Figure size 432x288 with 1 Axes>"
      ]
     },
     "metadata": {
      "needs_background": "light"
     },
     "output_type": "display_data"
    }
   ],
   "source": [
    "asuransi_nonbpjs= data[(data['pembayaran'] == 'Non BPJS')].groupby(['icd_10']).agg(\n",
    "    total_diagnose=pd.NamedAgg(column=\"icd_10\", aggfunc=\"count\")\n",
    ").reset_index().sort_values(by='total_diagnose',ascending=False)\n",
    "asuransi_nonbpjs['total_percentage']=round(100 * asuransi_nonbpjs['total_diagnose']/asuransi_nonbpjs.total_diagnose.sum(),1)\n",
    "\n",
    "plt.figure(figsize=(6,4))\n",
    "plt.box(False)\n",
    "plt.title('Top 10 Penyakit Dengan Pembayaran Non BPJS', fontweight='bold')\n",
    "ax = sns.barplot(\n",
    "    data=asuransi_nonbpjs.head(10), \n",
    "    x=\"total_percentage\",\n",
    "    y=\"icd_10\", \n",
    "    color=\"#6cabea\", \n",
    "    orient=\"h\"\n",
    ")\n",
    "\n",
    "for i in ax.containers:\n",
    "    ax.bar_label(i)"
   ]
  },
  {
   "cell_type": "code",
   "execution_count": 76,
   "id": "d21f5edf",
   "metadata": {
    "colab": {
     "base_uri": "https://localhost:8080/",
     "height": 410
    },
    "id": "d21f5edf",
    "outputId": "98dcc17e-fa69-4588-c005-c740e2d13bcb"
   },
   "outputs": [
    {
     "data": {
      "image/png": "[encoded data removed]",
      "text/plain": [
       "<Figure size 432x288 with 1 Axes>"
      ]
     },
     "metadata": {
      "needs_background": "light"
     },
     "output_type": "display_data"
    }
   ],
   "source": [
    "perusahaan= data[(data['patient_financing'] == 'Perusahaan')].groupby(['icd_10']).agg(\n",
    "    total_diagnose=pd.NamedAgg(column=\"icd_10\", aggfunc=\"count\")\n",
    ").reset_index().sort_values(by='total_diagnose',ascending=False)\n",
    "perusahaan['total_percentage'] = round(100 * perusahaan['total_diagnose'] / perusahaan.total_diagnose.sum(),1)\n",
    "\n",
    "\n",
    "plt.figure(figsize=(6,4))\n",
    "plt.box(False)\n",
    "plt.title('Top 10 Penyakit Dengan Pembayaran Perusaaan', fontweight='bold')\n",
    "ax = sns.barplot(\n",
    "    data=perusahaan.head(10), \n",
    "    x=\"total_percentage\",\n",
    "    y=\"icd_10\", \n",
    "    color=\"#6cabea\", \n",
    "    orient=\"h\"\n",
    ")\n",
    "\n",
    "for i in ax.containers:\n",
    "    ax.bar_label(i)"
   ]
  },
  {
   "cell_type": "markdown",
   "id": "a91bbf3a",
   "metadata": {
    "id": "a91bbf3a"
   },
   "source": [
    "Karena pembayaran menggunakan asuransi paling banyak dipakai, kita akan lihat 10 asuransi yang paling banyak digunakan oleh pasien"
   ]
  },
  {
   "cell_type": "code",
   "execution_count": 77,
   "id": "d339927f",
   "metadata": {
    "colab": {
     "base_uri": "https://localhost:8080/",
     "height": 410
    },
    "id": "d339927f",
    "outputId": "72a625f5-1056-4804-d79c-5bd3c8ba7db3"
   },
   "outputs": [
    {
     "data": {
      "image/png": "[encoded data removed]",
      "text/plain": [
       "<Figure size 432x288 with 1 Axes>"
      ]
     },
     "metadata": {
      "needs_background": "light"
     },
     "output_type": "display_data"
    }
   ],
   "source": [
    "top_insurance= data[(data['patient_insurance'] != 0)].groupby(['patient_insurance']).agg(\n",
    "    total_diagnose=pd.NamedAgg(column=\"icd_10\", aggfunc=\"count\")\n",
    ").reset_index().sort_values(by='total_diagnose',ascending=False)\n",
    "top_insurance['total_percentage'] = round(100 * top_insurance['total_diagnose'] / top_insurance.total_diagnose.sum(),1)\n",
    "\n",
    "plt.figure(figsize=(6,4))\n",
    "plt.box(False)\n",
    "plt.title('Top 10 Insurance Payment', fontweight='bold')\n",
    "ax = sns.barplot(\n",
    "    data=top_insurance.head(10), \n",
    "    x=\"total_percentage\",\n",
    "    y=\"patient_insurance\", \n",
    "    color=\"#6cabea\", \n",
    "    orient=\"h\"\n",
    ")\n",
    "\n",
    "for i in ax.containers:\n",
    "    ax.bar_label(i)"
   ]
  },
  {
   "cell_type": "code",
   "execution_count": 78,
   "id": "b8697da6",
   "metadata": {},
   "outputs": [
    {
     "data": {
      "image/png": "[encoded data removed]",
      "text/plain": [
       "<Figure size 432x288 with 1 Axes>"
      ]
     },
     "metadata": {
      "needs_background": "light"
     },
     "output_type": "display_data"
    }
   ],
   "source": [
    "top_ins_nonbpjs= data[(data['patient_insurance'] != 0)&(data['patient_insurance'] != 'BPJS Kesehatan')].groupby(['patient_insurance']).agg(\n",
    "    total_diagnose=pd.NamedAgg(column=\"icd_10\", aggfunc=\"count\")\n",
    ").reset_index().sort_values(by='total_diagnose',ascending=False)\n",
    "top_ins_nonbpjs['total_percentage'] =round(100 * top_ins_nonbpjs['total_diagnose'] / top_ins_nonbpjs.total_diagnose.sum(),1)\n",
    "\n",
    "plt.figure(figsize=(6,4))\n",
    "plt.box(False)\n",
    "plt.title('Top 10 Insurance Non BPJS', fontweight='bold')\n",
    "ax = sns.barplot(\n",
    "    data=top_ins_nonbpjs.head(10), \n",
    "    x=\"total_percentage\",\n",
    "    y=\"patient_insurance\", \n",
    "    color=\"#6cabea\", \n",
    "    orient=\"h\"\n",
    ")\n",
    "\n",
    "for i in ax.containers:\n",
    "    ax.bar_label(i)"
   ]
  },
  {
   "cell_type": "code",
   "execution_count": 79,
   "id": "b9c310f9",
   "metadata": {
    "colab": {
     "base_uri": "https://localhost:8080/"
    },
    "id": "b9c310f9",
    "outputId": "57de27a9-6727-4234-8c0a-574735a7fafe"
   },
   "outputs": [
    {
     "data": {
      "text/plain": [
       "0.0224674924717997"
      ]
     },
     "execution_count": 79,
     "metadata": {},
     "output_type": "execute_result"
    }
   ],
   "source": [
    "#Check correlation between disease and patient_insurance\n",
    "data_patient_insurance = data['patient_insurance'].astype('category').cat.codes\n",
    "data_icd.corr(data_patient_insurance)"
   ]
  },
  {
   "cell_type": "markdown",
   "id": "3d4fc241",
   "metadata": {
    "id": "3d4fc241"
   },
   "source": [
    "**Insigth**\n",
    "- Pembayaran menggunkan asuransi BPJS Kesehatan paling dominan digunakan olaeh pasien sebanyak 2985\n",
    "- 3 asuransi yang paling sering dipake pasien adalah BPJS Kesehatan, Mandiri Inhealth, dan Pesantren Arrahman(Pelajar)\n",
    "- Tidak ada korelasi yang signifikan (korelasi yang lemah) antara nama asuransi dan jenis penyakit pasien "
   ]
  },
  {
   "cell_type": "code",
   "execution_count": 80,
   "id": "a798b969",
   "metadata": {
    "id": "a798b969"
   },
   "outputs": [],
   "source": [
    "#save csv\n",
    "data.to_csv(\"data baru penyakit pasien.csv\",index=False)"
   ]
  },
  {
   "cell_type": "markdown",
   "id": "a1029d63",
   "metadata": {
    "id": "a1029d63"
   },
   "source": [
    "**Note dataset:**\n",
    "- datatype untuk kolom registration_created_at, patient_birth_date, medical_record_created_at masih dalam bentuk object bukan datetime\n",
    "- terdapat banyak data kosong untuk clinic_province, clinic_regency, patient_financing\n",
    "- terdapat banyak data duplicate dengan jenis pembayaran yang berbeda tetapi dilakukan pada waktu dan data pasien yang sama \n",
    "- pada patient_birth_date terdapat penulisan yang tidak sesuai format\n",
    "- data nama patient_insurance, clinic_province, clinic_regency terdapat data yang duplicate dengan nama yang sama dan penulisan yang berbeda \n",
    "\n",
    "\n"
   ]
  },
  {
   "cell_type": "markdown",
   "id": "5a261774",
   "metadata": {
    "id": "9e717e76"
   },
   "source": [
    "**K-Mean**"
   ]
  },
  {
   "cell_type": "code",
   "execution_count": 81,
   "id": "0f3d550e",
   "metadata": {},
   "outputs": [],
   "source": [
    "cluster = data.copy()"
   ]
  },
  {
   "cell_type": "code",
   "execution_count": 82,
   "id": "fa4c28ab",
   "metadata": {},
   "outputs": [
    {
     "name": "stdout",
     "output_type": "stream",
     "text": [
      "<class 'pandas.core.frame.DataFrame'>\n",
      "Int64Index: 167622 entries, 0 to 168033\n",
      "Data columns (total 25 columns):\n",
      " #   Column                     Non-Null Count   Dtype         \n",
      "---  ------                     --------------   -----         \n",
      " 0   registration_created_at    167622 non-null  datetime64[ns]\n",
      " 1   patient_financing          167622 non-null  object        \n",
      " 2   patient_insurance          167622 non-null  object        \n",
      " 3   clinic_province            167622 non-null  object        \n",
      " 4   clinic_regency             167622 non-null  object        \n",
      " 5   patient_id                 167622 non-null  object        \n",
      " 6   patient_birth_date         167622 non-null  object        \n",
      " 7   patient_gender             167622 non-null  object        \n",
      " 8   patient_smoke              167622 non-null  object        \n",
      " 9   patient_blood_type         167622 non-null  object        \n",
      " 10  medical_record_created_at  167622 non-null  datetime64[ns]\n",
      " 11  icd_10                     167622 non-null  object        \n",
      " 12  group_regency              167622 non-null  object        \n",
      " 13  group_disease              167622 non-null  object        \n",
      " 14  Date_registration          167622 non-null  object        \n",
      " 15  month_year_registration    167622 non-null  period[M]     \n",
      " 16  Year_registration          167622 non-null  UInt32        \n",
      " 17  Date_medical               167622 non-null  object        \n",
      " 18  month_year_medical         167622 non-null  period[M]     \n",
      " 19  Year_medical               167622 non-null  UInt32        \n",
      " 20  birthdate                  167561 non-null  object        \n",
      " 21  Age                        167622 non-null  Int64         \n",
      " 22  age_group                  167622 non-null  object        \n",
      " 23  season                     167622 non-null  object        \n",
      " 24  pembayaran                 167622 non-null  object        \n",
      "dtypes: Int64(1), UInt32(2), datetime64[ns](2), object(18), period[M](2)\n",
      "memory usage: 32.5+ MB\n"
     ]
    }
   ],
   "source": [
    "cluster.info()"
   ]
  },
  {
   "cell_type": "code",
   "execution_count": 83,
   "id": "fb54e51c",
   "metadata": {},
   "outputs": [
    {
     "data": {
      "text/plain": [
       "registration_created_at      146867\n",
       "patient_financing                 3\n",
       "patient_insurance                33\n",
       "clinic_province                  30\n",
       "clinic_regency                  238\n",
       "patient_id                    77556\n",
       "patient_birth_date            24588\n",
       "patient_gender                    2\n",
       "patient_smoke                     2\n",
       "patient_blood_type                5\n",
       "medical_record_created_at    146884\n",
       "icd_10                         3871\n",
       "group_regency                   167\n",
       "group_disease                     5\n",
       "Date_registration              1221\n",
       "month_year_registration          49\n",
       "Year_registration                 5\n",
       "Date_medical                   1213\n",
       "month_year_medical               49\n",
       "Year_medical                      5\n",
       "birthdate                     24565\n",
       "Age                             104\n",
       "age_group                         4\n",
       "season                            3\n",
       "pembayaran                        4\n",
       "dtype: int64"
      ]
     },
     "execution_count": 83,
     "metadata": {},
     "output_type": "execute_result"
    }
   ],
   "source": [
    "cluster.nunique()"
   ]
  },
  {
   "cell_type": "code",
   "execution_count": 84,
   "id": "46184f22",
   "metadata": {},
   "outputs": [
    {
     "data": {
      "text/plain": [
       "registration_created_at       0\n",
       "patient_financing             0\n",
       "patient_insurance             0\n",
       "clinic_province               0\n",
       "clinic_regency                0\n",
       "patient_id                    0\n",
       "patient_birth_date            0\n",
       "patient_gender                0\n",
       "patient_smoke                 0\n",
       "patient_blood_type            0\n",
       "medical_record_created_at     0\n",
       "icd_10                        0\n",
       "group_regency                 0\n",
       "group_disease                 0\n",
       "Date_registration             0\n",
       "month_year_registration       0\n",
       "Year_registration             0\n",
       "Date_medical                  0\n",
       "month_year_medical            0\n",
       "Year_medical                  0\n",
       "birthdate                    61\n",
       "Age                           0\n",
       "age_group                     0\n",
       "season                        0\n",
       "pembayaran                    0\n",
       "dtype: int64"
      ]
     },
     "execution_count": 84,
     "metadata": {},
     "output_type": "execute_result"
    }
   ],
   "source": [
    "cluster.isnull().sum()"
   ]
  },
  {
   "cell_type": "code",
   "execution_count": 85,
   "id": "994d1a26",
   "metadata": {},
   "outputs": [],
   "source": [
    "cluster.drop(['registration_created_at','patient_insurance','clinic_province','clinic_regency','patient_id','patient_birth_date',\n",
    "        'patient_blood_type', 'medical_record_created_at', 'icd_10', 'Date_registration','month_year_registration',\n",
    "         'Year_registration','Date_medical','month_year_medical',  'Year_medical', 'birthdate','Age'\n",
    "        ], axis=1, inplace=True)"
   ]
  },
  {
   "cell_type": "code",
   "execution_count": 86,
   "id": "5e3d9f86",
   "metadata": {},
   "outputs": [
    {
     "data": {
      "text/plain": [
       "patient_financing      3\n",
       "patient_gender         2\n",
       "patient_smoke          2\n",
       "group_regency        167\n",
       "group_disease          5\n",
       "age_group              4\n",
       "season                 3\n",
       "pembayaran             4\n",
       "dtype: int64"
      ]
     },
     "execution_count": 86,
     "metadata": {},
     "output_type": "execute_result"
    }
   ],
   "source": [
    "cluster.nunique()"
   ]
  },
  {
   "cell_type": "code",
   "execution_count": 87,
   "id": "b3c796cb",
   "metadata": {},
   "outputs": [],
   "source": [
    "def regency(city): \n",
    "            \n",
    "    city=str(city)\n",
    "    if 'Bekasi' in city:\n",
    "        kota = 'Bekasi'\n",
    "    elif 'Tangerang' in city:\n",
    "        kota = 'Tangerang'\n",
    "    elif 'Kota Jakarta Timur' in city:\n",
    "        kota = 'Kota Jakarta Timur'\n",
    "    elif 'Kab. Lampung Tengah' in city:\n",
    "        kota = 'Kab. Lampung Tengah'\n",
    "    else: \n",
    "        kota = 'Other regency' \n",
    "    return kota\n",
    "\n",
    "cluster['cluster_regency'] = data['group_regency'].apply(regency)"
   ]
  },
  {
   "cell_type": "code",
   "execution_count": 88,
   "id": "a2e203c4",
   "metadata": {},
   "outputs": [],
   "source": [
    "cluster.drop(['group_regency'], axis=1, inplace=True)"
   ]
  },
  {
   "cell_type": "code",
   "execution_count": 89,
   "id": "eee0e6ae",
   "metadata": {},
   "outputs": [
    {
     "data": {
      "text/plain": [
       "patient_financing    3\n",
       "patient_gender       2\n",
       "patient_smoke        2\n",
       "group_disease        5\n",
       "age_group            4\n",
       "season               3\n",
       "pembayaran           4\n",
       "cluster_regency      5\n",
       "dtype: int64"
      ]
     },
     "execution_count": 89,
     "metadata": {},
     "output_type": "execute_result"
    }
   ],
   "source": [
    "cluster.nunique()"
   ]
  },
  {
   "cell_type": "code",
   "execution_count": 90,
   "id": "4876254b",
   "metadata": {},
   "outputs": [
    {
     "data": {
      "text/plain": [
       "array(['Pribadi', 'Asuransi/Jaminan', 'Perusahaan'], dtype=object)"
      ]
     },
     "execution_count": 90,
     "metadata": {},
     "output_type": "execute_result"
    }
   ],
   "source": [
    "cluster.patient_financing.unique()"
   ]
  },
  {
   "cell_type": "markdown",
   "id": "c3dbd9e8",
   "metadata": {},
   "source": [
    "**Label encoding**"
   ]
  },
  {
   "cell_type": "code",
   "execution_count": 91,
   "id": "8c7953a8",
   "metadata": {},
   "outputs": [],
   "source": [
    "# Encode the label column\n",
    "label_mapping = {'Pribadi': 0, 'Asuransi/Jaminan': 1, 'Perusahaan': 2}\n",
    "cluster['patient_financing'] = cluster['patient_financing'].replace(label_mapping)"
   ]
  },
  {
   "cell_type": "code",
   "execution_count": 92,
   "id": "789078ca",
   "metadata": {},
   "outputs": [
    {
     "name": "stdout",
     "output_type": "stream",
     "text": [
      "<class 'pandas.core.frame.DataFrame'>\n",
      "Int64Index: 167622 entries, 0 to 168033\n",
      "Data columns (total 8 columns):\n",
      " #   Column             Non-Null Count   Dtype \n",
      "---  ------             --------------   ----- \n",
      " 0   patient_financing  167622 non-null  int64 \n",
      " 1   patient_gender     167622 non-null  object\n",
      " 2   patient_smoke      167622 non-null  object\n",
      " 3   group_disease      167622 non-null  object\n",
      " 4   age_group          167622 non-null  object\n",
      " 5   season             167622 non-null  object\n",
      " 6   pembayaran         167622 non-null  object\n",
      " 7   cluster_regency    167622 non-null  object\n",
      "dtypes: int64(1), object(7)\n",
      "memory usage: 11.5+ MB\n"
     ]
    }
   ],
   "source": [
    "cluster.info()"
   ]
  },
  {
   "cell_type": "markdown",
   "id": "94f52926",
   "metadata": {},
   "source": [
    "**One Hot encoding**"
   ]
  },
  {
   "cell_type": "code",
   "execution_count": 93,
   "id": "b2a6abef",
   "metadata": {},
   "outputs": [],
   "source": [
    "categorical_cols = [col for col in cluster.select_dtypes(include='object').columns.tolist()]"
   ]
  },
  {
   "cell_type": "code",
   "execution_count": 94,
   "id": "7eb14617",
   "metadata": {},
   "outputs": [],
   "source": [
    "onehot = pd.get_dummies(cluster[categorical_cols])"
   ]
  },
  {
   "cell_type": "code",
   "execution_count": 95,
   "id": "9b3562fd",
   "metadata": {},
   "outputs": [
    {
     "data": {
      "text/html": [
       "<div>\n",
       "<style scoped>\n",
       "    .dataframe tbody tr th:only-of-type {\n",
       "        vertical-align: middle;\n",
       "    }\n",
       "\n",
       "    .dataframe tbody tr th {\n",
       "        vertical-align: top;\n",
       "    }\n",
       "\n",
       "    .dataframe thead th {\n",
       "        text-align: right;\n",
       "    }\n",
       "</style>\n",
       "<table border=\"1\" class=\"dataframe\">\n",
       "  <thead>\n",
       "    <tr style=\"text-align: right;\">\n",
       "      <th></th>\n",
       "      <th>patient_gender_Female</th>\n",
       "      <th>patient_gender_Male</th>\n",
       "      <th>patient_smoke_Not smoking</th>\n",
       "      <th>patient_smoke_Smoking</th>\n",
       "      <th>group_disease_Flu</th>\n",
       "      <th>group_disease_General examination</th>\n",
       "      <th>group_disease_ISPA</th>\n",
       "      <th>group_disease_Other diseases</th>\n",
       "      <th>group_disease_Pencernaan</th>\n",
       "      <th>age_group_age 21 - 34</th>\n",
       "      <th>...</th>\n",
       "      <th>season_Penghujan</th>\n",
       "      <th>pembayaran_BPJS</th>\n",
       "      <th>pembayaran_Non BPJS</th>\n",
       "      <th>pembayaran_Perusahaan</th>\n",
       "      <th>pembayaran_Pribadi</th>\n",
       "      <th>cluster_regency_Bekasi</th>\n",
       "      <th>cluster_regency_Kab. Lampung Tengah</th>\n",
       "      <th>cluster_regency_Kota Jakarta Timur</th>\n",
       "      <th>cluster_regency_Other regency</th>\n",
       "      <th>cluster_regency_Tangerang</th>\n",
       "    </tr>\n",
       "  </thead>\n",
       "  <tbody>\n",
       "    <tr>\n",
       "      <th>0</th>\n",
       "      <td>1</td>\n",
       "      <td>0</td>\n",
       "      <td>1</td>\n",
       "      <td>0</td>\n",
       "      <td>0</td>\n",
       "      <td>0</td>\n",
       "      <td>0</td>\n",
       "      <td>1</td>\n",
       "      <td>0</td>\n",
       "      <td>1</td>\n",
       "      <td>...</td>\n",
       "      <td>1</td>\n",
       "      <td>0</td>\n",
       "      <td>0</td>\n",
       "      <td>0</td>\n",
       "      <td>1</td>\n",
       "      <td>0</td>\n",
       "      <td>0</td>\n",
       "      <td>0</td>\n",
       "      <td>1</td>\n",
       "      <td>0</td>\n",
       "    </tr>\n",
       "    <tr>\n",
       "      <th>1</th>\n",
       "      <td>1</td>\n",
       "      <td>0</td>\n",
       "      <td>1</td>\n",
       "      <td>0</td>\n",
       "      <td>0</td>\n",
       "      <td>0</td>\n",
       "      <td>0</td>\n",
       "      <td>1</td>\n",
       "      <td>0</td>\n",
       "      <td>1</td>\n",
       "      <td>...</td>\n",
       "      <td>1</td>\n",
       "      <td>0</td>\n",
       "      <td>0</td>\n",
       "      <td>0</td>\n",
       "      <td>1</td>\n",
       "      <td>0</td>\n",
       "      <td>0</td>\n",
       "      <td>0</td>\n",
       "      <td>1</td>\n",
       "      <td>0</td>\n",
       "    </tr>\n",
       "    <tr>\n",
       "      <th>2</th>\n",
       "      <td>1</td>\n",
       "      <td>0</td>\n",
       "      <td>1</td>\n",
       "      <td>0</td>\n",
       "      <td>0</td>\n",
       "      <td>0</td>\n",
       "      <td>0</td>\n",
       "      <td>1</td>\n",
       "      <td>0</td>\n",
       "      <td>1</td>\n",
       "      <td>...</td>\n",
       "      <td>1</td>\n",
       "      <td>0</td>\n",
       "      <td>0</td>\n",
       "      <td>0</td>\n",
       "      <td>1</td>\n",
       "      <td>0</td>\n",
       "      <td>0</td>\n",
       "      <td>0</td>\n",
       "      <td>1</td>\n",
       "      <td>0</td>\n",
       "    </tr>\n",
       "    <tr>\n",
       "      <th>3</th>\n",
       "      <td>1</td>\n",
       "      <td>0</td>\n",
       "      <td>1</td>\n",
       "      <td>0</td>\n",
       "      <td>0</td>\n",
       "      <td>0</td>\n",
       "      <td>0</td>\n",
       "      <td>1</td>\n",
       "      <td>0</td>\n",
       "      <td>1</td>\n",
       "      <td>...</td>\n",
       "      <td>1</td>\n",
       "      <td>0</td>\n",
       "      <td>0</td>\n",
       "      <td>0</td>\n",
       "      <td>1</td>\n",
       "      <td>0</td>\n",
       "      <td>0</td>\n",
       "      <td>0</td>\n",
       "      <td>1</td>\n",
       "      <td>0</td>\n",
       "    </tr>\n",
       "    <tr>\n",
       "      <th>4</th>\n",
       "      <td>0</td>\n",
       "      <td>1</td>\n",
       "      <td>0</td>\n",
       "      <td>1</td>\n",
       "      <td>0</td>\n",
       "      <td>0</td>\n",
       "      <td>0</td>\n",
       "      <td>1</td>\n",
       "      <td>0</td>\n",
       "      <td>1</td>\n",
       "      <td>...</td>\n",
       "      <td>1</td>\n",
       "      <td>0</td>\n",
       "      <td>0</td>\n",
       "      <td>0</td>\n",
       "      <td>1</td>\n",
       "      <td>0</td>\n",
       "      <td>0</td>\n",
       "      <td>0</td>\n",
       "      <td>1</td>\n",
       "      <td>0</td>\n",
       "    </tr>\n",
       "    <tr>\n",
       "      <th>...</th>\n",
       "      <td>...</td>\n",
       "      <td>...</td>\n",
       "      <td>...</td>\n",
       "      <td>...</td>\n",
       "      <td>...</td>\n",
       "      <td>...</td>\n",
       "      <td>...</td>\n",
       "      <td>...</td>\n",
       "      <td>...</td>\n",
       "      <td>...</td>\n",
       "      <td>...</td>\n",
       "      <td>...</td>\n",
       "      <td>...</td>\n",
       "      <td>...</td>\n",
       "      <td>...</td>\n",
       "      <td>...</td>\n",
       "      <td>...</td>\n",
       "      <td>...</td>\n",
       "      <td>...</td>\n",
       "      <td>...</td>\n",
       "      <td>...</td>\n",
       "    </tr>\n",
       "    <tr>\n",
       "      <th>168029</th>\n",
       "      <td>0</td>\n",
       "      <td>1</td>\n",
       "      <td>1</td>\n",
       "      <td>0</td>\n",
       "      <td>0</td>\n",
       "      <td>0</td>\n",
       "      <td>0</td>\n",
       "      <td>1</td>\n",
       "      <td>0</td>\n",
       "      <td>0</td>\n",
       "      <td>...</td>\n",
       "      <td>0</td>\n",
       "      <td>0</td>\n",
       "      <td>0</td>\n",
       "      <td>0</td>\n",
       "      <td>1</td>\n",
       "      <td>1</td>\n",
       "      <td>0</td>\n",
       "      <td>0</td>\n",
       "      <td>0</td>\n",
       "      <td>0</td>\n",
       "    </tr>\n",
       "    <tr>\n",
       "      <th>168030</th>\n",
       "      <td>1</td>\n",
       "      <td>0</td>\n",
       "      <td>1</td>\n",
       "      <td>0</td>\n",
       "      <td>0</td>\n",
       "      <td>0</td>\n",
       "      <td>0</td>\n",
       "      <td>1</td>\n",
       "      <td>0</td>\n",
       "      <td>0</td>\n",
       "      <td>...</td>\n",
       "      <td>0</td>\n",
       "      <td>1</td>\n",
       "      <td>0</td>\n",
       "      <td>0</td>\n",
       "      <td>0</td>\n",
       "      <td>1</td>\n",
       "      <td>0</td>\n",
       "      <td>0</td>\n",
       "      <td>0</td>\n",
       "      <td>0</td>\n",
       "    </tr>\n",
       "    <tr>\n",
       "      <th>168031</th>\n",
       "      <td>0</td>\n",
       "      <td>1</td>\n",
       "      <td>1</td>\n",
       "      <td>0</td>\n",
       "      <td>0</td>\n",
       "      <td>0</td>\n",
       "      <td>0</td>\n",
       "      <td>1</td>\n",
       "      <td>0</td>\n",
       "      <td>0</td>\n",
       "      <td>...</td>\n",
       "      <td>0</td>\n",
       "      <td>1</td>\n",
       "      <td>0</td>\n",
       "      <td>0</td>\n",
       "      <td>0</td>\n",
       "      <td>1</td>\n",
       "      <td>0</td>\n",
       "      <td>0</td>\n",
       "      <td>0</td>\n",
       "      <td>0</td>\n",
       "    </tr>\n",
       "    <tr>\n",
       "      <th>168032</th>\n",
       "      <td>0</td>\n",
       "      <td>1</td>\n",
       "      <td>1</td>\n",
       "      <td>0</td>\n",
       "      <td>0</td>\n",
       "      <td>0</td>\n",
       "      <td>0</td>\n",
       "      <td>1</td>\n",
       "      <td>0</td>\n",
       "      <td>0</td>\n",
       "      <td>...</td>\n",
       "      <td>0</td>\n",
       "      <td>1</td>\n",
       "      <td>0</td>\n",
       "      <td>0</td>\n",
       "      <td>0</td>\n",
       "      <td>1</td>\n",
       "      <td>0</td>\n",
       "      <td>0</td>\n",
       "      <td>0</td>\n",
       "      <td>0</td>\n",
       "    </tr>\n",
       "    <tr>\n",
       "      <th>168033</th>\n",
       "      <td>0</td>\n",
       "      <td>1</td>\n",
       "      <td>1</td>\n",
       "      <td>0</td>\n",
       "      <td>0</td>\n",
       "      <td>0</td>\n",
       "      <td>1</td>\n",
       "      <td>0</td>\n",
       "      <td>0</td>\n",
       "      <td>0</td>\n",
       "      <td>...</td>\n",
       "      <td>0</td>\n",
       "      <td>1</td>\n",
       "      <td>0</td>\n",
       "      <td>0</td>\n",
       "      <td>0</td>\n",
       "      <td>1</td>\n",
       "      <td>0</td>\n",
       "      <td>0</td>\n",
       "      <td>0</td>\n",
       "      <td>0</td>\n",
       "    </tr>\n",
       "  </tbody>\n",
       "</table>\n",
       "<p>167622 rows × 25 columns</p>\n",
       "</div>"
      ],
      "text/plain": [
       "        patient_gender_Female  patient_gender_Male  patient_smoke_Not smoking  \\\n",
       "0                           1                    0                          1   \n",
       "1                           1                    0                          1   \n",
       "2                           1                    0                          1   \n",
       "3                           1                    0                          1   \n",
       "4                           0                    1                          0   \n",
       "...                       ...                  ...                        ...   \n",
       "168029                      0                    1                          1   \n",
       "168030                      1                    0                          1   \n",
       "168031                      0                    1                          1   \n",
       "168032                      0                    1                          1   \n",
       "168033                      0                    1                          1   \n",
       "\n",
       "        patient_smoke_Smoking  group_disease_Flu  \\\n",
       "0                           0                  0   \n",
       "1                           0                  0   \n",
       "2                           0                  0   \n",
       "3                           0                  0   \n",
       "4                           1                  0   \n",
       "...                       ...                ...   \n",
       "168029                      0                  0   \n",
       "168030                      0                  0   \n",
       "168031                      0                  0   \n",
       "168032                      0                  0   \n",
       "168033                      0                  0   \n",
       "\n",
       "        group_disease_General examination  group_disease_ISPA  \\\n",
       "0                                       0                   0   \n",
       "1                                       0                   0   \n",
       "2                                       0                   0   \n",
       "3                                       0                   0   \n",
       "4                                       0                   0   \n",
       "...                                   ...                 ...   \n",
       "168029                                  0                   0   \n",
       "168030                                  0                   0   \n",
       "168031                                  0                   0   \n",
       "168032                                  0                   0   \n",
       "168033                                  0                   1   \n",
       "\n",
       "        group_disease_Other diseases  group_disease_Pencernaan  \\\n",
       "0                                  1                         0   \n",
       "1                                  1                         0   \n",
       "2                                  1                         0   \n",
       "3                                  1                         0   \n",
       "4                                  1                         0   \n",
       "...                              ...                       ...   \n",
       "168029                             1                         0   \n",
       "168030                             1                         0   \n",
       "168031                             1                         0   \n",
       "168032                             1                         0   \n",
       "168033                             0                         0   \n",
       "\n",
       "        age_group_age 21 - 34  ...  season_Penghujan  pembayaran_BPJS  \\\n",
       "0                           1  ...                 1                0   \n",
       "1                           1  ...                 1                0   \n",
       "2                           1  ...                 1                0   \n",
       "3                           1  ...                 1                0   \n",
       "4                           1  ...                 1                0   \n",
       "...                       ...  ...               ...              ...   \n",
       "168029                      0  ...                 0                0   \n",
       "168030                      0  ...                 0                1   \n",
       "168031                      0  ...                 0                1   \n",
       "168032                      0  ...                 0                1   \n",
       "168033                      0  ...                 0                1   \n",
       "\n",
       "        pembayaran_Non BPJS  pembayaran_Perusahaan  pembayaran_Pribadi  \\\n",
       "0                         0                      0                   1   \n",
       "1                         0                      0                   1   \n",
       "2                         0                      0                   1   \n",
       "3                         0                      0                   1   \n",
       "4                         0                      0                   1   \n",
       "...                     ...                    ...                 ...   \n",
       "168029                    0                      0                   1   \n",
       "168030                    0                      0                   0   \n",
       "168031                    0                      0                   0   \n",
       "168032                    0                      0                   0   \n",
       "168033                    0                      0                   0   \n",
       "\n",
       "        cluster_regency_Bekasi  cluster_regency_Kab. Lampung Tengah  \\\n",
       "0                            0                                    0   \n",
       "1                            0                                    0   \n",
       "2                            0                                    0   \n",
       "3                            0                                    0   \n",
       "4                            0                                    0   \n",
       "...                        ...                                  ...   \n",
       "168029                       1                                    0   \n",
       "168030                       1                                    0   \n",
       "168031                       1                                    0   \n",
       "168032                       1                                    0   \n",
       "168033                       1                                    0   \n",
       "\n",
       "        cluster_regency_Kota Jakarta Timur  cluster_regency_Other regency  \\\n",
       "0                                        0                              1   \n",
       "1                                        0                              1   \n",
       "2                                        0                              1   \n",
       "3                                        0                              1   \n",
       "4                                        0                              1   \n",
       "...                                    ...                            ...   \n",
       "168029                                   0                              0   \n",
       "168030                                   0                              0   \n",
       "168031                                   0                              0   \n",
       "168032                                   0                              0   \n",
       "168033                                   0                              0   \n",
       "\n",
       "        cluster_regency_Tangerang  \n",
       "0                               0  \n",
       "1                               0  \n",
       "2                               0  \n",
       "3                               0  \n",
       "4                               0  \n",
       "...                           ...  \n",
       "168029                          0  \n",
       "168030                          0  \n",
       "168031                          0  \n",
       "168032                          0  \n",
       "168033                          0  \n",
       "\n",
       "[167622 rows x 25 columns]"
      ]
     },
     "execution_count": 95,
     "metadata": {},
     "output_type": "execute_result"
    }
   ],
   "source": [
    "onehot"
   ]
  },
  {
   "cell_type": "code",
   "execution_count": 96,
   "id": "c4906dcf",
   "metadata": {},
   "outputs": [
    {
     "data": {
      "text/plain": [
       "patient_gender_Female                  2\n",
       "patient_gender_Male                    2\n",
       "patient_smoke_Not smoking              2\n",
       "patient_smoke_Smoking                  2\n",
       "group_disease_Flu                      2\n",
       "group_disease_General examination      2\n",
       "group_disease_ISPA                     2\n",
       "group_disease_Other diseases           2\n",
       "group_disease_Pencernaan               2\n",
       "age_group_age 21 - 34                  2\n",
       "age_group_age 35 - 51                  2\n",
       "age_group_age <= 20                    2\n",
       "age_group_age > 51                     2\n",
       "season_Kemarau                         2\n",
       "season_Pancaroba                       2\n",
       "season_Penghujan                       2\n",
       "pembayaran_BPJS                        2\n",
       "pembayaran_Non BPJS                    2\n",
       "pembayaran_Perusahaan                  2\n",
       "pembayaran_Pribadi                     2\n",
       "cluster_regency_Bekasi                 2\n",
       "cluster_regency_Kab. Lampung Tengah    2\n",
       "cluster_regency_Kota Jakarta Timur     2\n",
       "cluster_regency_Other regency          2\n",
       "cluster_regency_Tangerang              2\n",
       "dtype: int64"
      ]
     },
     "execution_count": 96,
     "metadata": {},
     "output_type": "execute_result"
    }
   ],
   "source": [
    "onehot.nunique()"
   ]
  },
  {
   "cell_type": "code",
   "execution_count": 97,
   "id": "548b2d77",
   "metadata": {},
   "outputs": [
    {
     "name": "stdout",
     "output_type": "stream",
     "text": [
      "        Female  Male  Not smoking  Smoking  Flu  General examination  ISPA  \\\n",
      "0            1     0            1        0    0                    0     0   \n",
      "1            1     0            1        0    0                    0     0   \n",
      "2            1     0            1        0    0                    0     0   \n",
      "3            1     0            1        0    0                    0     0   \n",
      "4            0     1            0        1    0                    0     0   \n",
      "...        ...   ...          ...      ...  ...                  ...   ...   \n",
      "168029       0     1            1        0    0                    0     0   \n",
      "168030       1     0            1        0    0                    0     0   \n",
      "168031       0     1            1        0    0                    0     0   \n",
      "168032       0     1            1        0    0                    0     0   \n",
      "168033       0     1            1        0    0                    0     1   \n",
      "\n",
      "        Other diseases  Pencernaan  age 21 - 34  ...  Penghujan  BPJS  \\\n",
      "0                    1           0            1  ...          1     0   \n",
      "1                    1           0            1  ...          1     0   \n",
      "2                    1           0            1  ...          1     0   \n",
      "3                    1           0            1  ...          1     0   \n",
      "4                    1           0            1  ...          1     0   \n",
      "...                ...         ...          ...  ...        ...   ...   \n",
      "168029               1           0            0  ...          0     0   \n",
      "168030               1           0            0  ...          0     1   \n",
      "168031               1           0            0  ...          0     1   \n",
      "168032               1           0            0  ...          0     1   \n",
      "168033               0           0            0  ...          0     1   \n",
      "\n",
      "        Non BPJS  Perusahaan  Pribadi  Bekasi  Kab. Lampung Tengah  \\\n",
      "0              0           0        1       0                    0   \n",
      "1              0           0        1       0                    0   \n",
      "2              0           0        1       0                    0   \n",
      "3              0           0        1       0                    0   \n",
      "4              0           0        1       0                    0   \n",
      "...          ...         ...      ...     ...                  ...   \n",
      "168029         0           0        1       1                    0   \n",
      "168030         0           0        0       1                    0   \n",
      "168031         0           0        0       1                    0   \n",
      "168032         0           0        0       1                    0   \n",
      "168033         0           0        0       1                    0   \n",
      "\n",
      "        Kota Jakarta Timur  Other regency  Tangerang  \n",
      "0                        0              1          0  \n",
      "1                        0              1          0  \n",
      "2                        0              1          0  \n",
      "3                        0              1          0  \n",
      "4                        0              1          0  \n",
      "...                    ...            ...        ...  \n",
      "168029                   0              0          0  \n",
      "168030                   0              0          0  \n",
      "168031                   0              0          0  \n",
      "168032                   0              0          0  \n",
      "168033                   0              0          0  \n",
      "\n",
      "[167622 rows x 25 columns]\n"
     ]
    }
   ],
   "source": [
    "# Rename the 'Name' and 'Department' columns using a list of column names\n",
    "onehot.columns = ['Female', 'Male', 'Not smoking','Smoking','Flu', 'General examination', 'ISPA', 'Other diseases',\n",
    "                  'Pencernaan', 'age 21 - 34', 'age 35 - 51', 'age <= 20', 'age > 51', 'Kemarau', 'Pancaroba', 'Penghujan', \n",
    "                  'BPJS', 'Non BPJS','Perusahaan' ,'Pribadi',\n",
    "                  'Bekasi', 'Kab. Lampung Tengah', 'Kota Jakarta Timur','Other regency','Tangerang'\n",
    "                 ]\n",
    " \n",
    "# Print the DataFrame\n",
    "print(onehot) "
   ]
  },
  {
   "cell_type": "code",
   "execution_count": 98,
   "id": "a02b3a72",
   "metadata": {},
   "outputs": [],
   "source": [
    "data_cluster = pd.concat([cluster['patient_financing'],onehot], axis=1)\n"
   ]
  },
  {
   "cell_type": "code",
   "execution_count": 99,
   "id": "bbc778d0",
   "metadata": {},
   "outputs": [],
   "source": [
    "data_cluster.drop(['Other diseases','Other regency'], axis=1, inplace=True)"
   ]
  },
  {
   "cell_type": "code",
   "execution_count": 100,
   "id": "f1147d3c",
   "metadata": {},
   "outputs": [
    {
     "data": {
      "text/html": [
       "<div>\n",
       "<style scoped>\n",
       "    .dataframe tbody tr th:only-of-type {\n",
       "        vertical-align: middle;\n",
       "    }\n",
       "\n",
       "    .dataframe tbody tr th {\n",
       "        vertical-align: top;\n",
       "    }\n",
       "\n",
       "    .dataframe thead th {\n",
       "        text-align: right;\n",
       "    }\n",
       "</style>\n",
       "<table border=\"1\" class=\"dataframe\">\n",
       "  <thead>\n",
       "    <tr style=\"text-align: right;\">\n",
       "      <th></th>\n",
       "      <th>patient_financing</th>\n",
       "      <th>Female</th>\n",
       "      <th>Male</th>\n",
       "      <th>Not smoking</th>\n",
       "      <th>Smoking</th>\n",
       "      <th>Flu</th>\n",
       "      <th>General examination</th>\n",
       "      <th>ISPA</th>\n",
       "      <th>Pencernaan</th>\n",
       "      <th>age 21 - 34</th>\n",
       "      <th>...</th>\n",
       "      <th>Pancaroba</th>\n",
       "      <th>Penghujan</th>\n",
       "      <th>BPJS</th>\n",
       "      <th>Non BPJS</th>\n",
       "      <th>Perusahaan</th>\n",
       "      <th>Pribadi</th>\n",
       "      <th>Bekasi</th>\n",
       "      <th>Kab. Lampung Tengah</th>\n",
       "      <th>Kota Jakarta Timur</th>\n",
       "      <th>Tangerang</th>\n",
       "    </tr>\n",
       "  </thead>\n",
       "  <tbody>\n",
       "    <tr>\n",
       "      <th>0</th>\n",
       "      <td>0</td>\n",
       "      <td>1</td>\n",
       "      <td>0</td>\n",
       "      <td>1</td>\n",
       "      <td>0</td>\n",
       "      <td>0</td>\n",
       "      <td>0</td>\n",
       "      <td>0</td>\n",
       "      <td>0</td>\n",
       "      <td>1</td>\n",
       "      <td>...</td>\n",
       "      <td>0</td>\n",
       "      <td>1</td>\n",
       "      <td>0</td>\n",
       "      <td>0</td>\n",
       "      <td>0</td>\n",
       "      <td>1</td>\n",
       "      <td>0</td>\n",
       "      <td>0</td>\n",
       "      <td>0</td>\n",
       "      <td>0</td>\n",
       "    </tr>\n",
       "    <tr>\n",
       "      <th>1</th>\n",
       "      <td>0</td>\n",
       "      <td>1</td>\n",
       "      <td>0</td>\n",
       "      <td>1</td>\n",
       "      <td>0</td>\n",
       "      <td>0</td>\n",
       "      <td>0</td>\n",
       "      <td>0</td>\n",
       "      <td>0</td>\n",
       "      <td>1</td>\n",
       "      <td>...</td>\n",
       "      <td>0</td>\n",
       "      <td>1</td>\n",
       "      <td>0</td>\n",
       "      <td>0</td>\n",
       "      <td>0</td>\n",
       "      <td>1</td>\n",
       "      <td>0</td>\n",
       "      <td>0</td>\n",
       "      <td>0</td>\n",
       "      <td>0</td>\n",
       "    </tr>\n",
       "    <tr>\n",
       "      <th>2</th>\n",
       "      <td>0</td>\n",
       "      <td>1</td>\n",
       "      <td>0</td>\n",
       "      <td>1</td>\n",
       "      <td>0</td>\n",
       "      <td>0</td>\n",
       "      <td>0</td>\n",
       "      <td>0</td>\n",
       "      <td>0</td>\n",
       "      <td>1</td>\n",
       "      <td>...</td>\n",
       "      <td>0</td>\n",
       "      <td>1</td>\n",
       "      <td>0</td>\n",
       "      <td>0</td>\n",
       "      <td>0</td>\n",
       "      <td>1</td>\n",
       "      <td>0</td>\n",
       "      <td>0</td>\n",
       "      <td>0</td>\n",
       "      <td>0</td>\n",
       "    </tr>\n",
       "    <tr>\n",
       "      <th>3</th>\n",
       "      <td>0</td>\n",
       "      <td>1</td>\n",
       "      <td>0</td>\n",
       "      <td>1</td>\n",
       "      <td>0</td>\n",
       "      <td>0</td>\n",
       "      <td>0</td>\n",
       "      <td>0</td>\n",
       "      <td>0</td>\n",
       "      <td>1</td>\n",
       "      <td>...</td>\n",
       "      <td>0</td>\n",
       "      <td>1</td>\n",
       "      <td>0</td>\n",
       "      <td>0</td>\n",
       "      <td>0</td>\n",
       "      <td>1</td>\n",
       "      <td>0</td>\n",
       "      <td>0</td>\n",
       "      <td>0</td>\n",
       "      <td>0</td>\n",
       "    </tr>\n",
       "    <tr>\n",
       "      <th>4</th>\n",
       "      <td>0</td>\n",
       "      <td>0</td>\n",
       "      <td>1</td>\n",
       "      <td>0</td>\n",
       "      <td>1</td>\n",
       "      <td>0</td>\n",
       "      <td>0</td>\n",
       "      <td>0</td>\n",
       "      <td>0</td>\n",
       "      <td>1</td>\n",
       "      <td>...</td>\n",
       "      <td>0</td>\n",
       "      <td>1</td>\n",
       "      <td>0</td>\n",
       "      <td>0</td>\n",
       "      <td>0</td>\n",
       "      <td>1</td>\n",
       "      <td>0</td>\n",
       "      <td>0</td>\n",
       "      <td>0</td>\n",
       "      <td>0</td>\n",
       "    </tr>\n",
       "    <tr>\n",
       "      <th>...</th>\n",
       "      <td>...</td>\n",
       "      <td>...</td>\n",
       "      <td>...</td>\n",
       "      <td>...</td>\n",
       "      <td>...</td>\n",
       "      <td>...</td>\n",
       "      <td>...</td>\n",
       "      <td>...</td>\n",
       "      <td>...</td>\n",
       "      <td>...</td>\n",
       "      <td>...</td>\n",
       "      <td>...</td>\n",
       "      <td>...</td>\n",
       "      <td>...</td>\n",
       "      <td>...</td>\n",
       "      <td>...</td>\n",
       "      <td>...</td>\n",
       "      <td>...</td>\n",
       "      <td>...</td>\n",
       "      <td>...</td>\n",
       "      <td>...</td>\n",
       "    </tr>\n",
       "    <tr>\n",
       "      <th>168029</th>\n",
       "      <td>0</td>\n",
       "      <td>0</td>\n",
       "      <td>1</td>\n",
       "      <td>1</td>\n",
       "      <td>0</td>\n",
       "      <td>0</td>\n",
       "      <td>0</td>\n",
       "      <td>0</td>\n",
       "      <td>0</td>\n",
       "      <td>0</td>\n",
       "      <td>...</td>\n",
       "      <td>0</td>\n",
       "      <td>0</td>\n",
       "      <td>0</td>\n",
       "      <td>0</td>\n",
       "      <td>0</td>\n",
       "      <td>1</td>\n",
       "      <td>1</td>\n",
       "      <td>0</td>\n",
       "      <td>0</td>\n",
       "      <td>0</td>\n",
       "    </tr>\n",
       "    <tr>\n",
       "      <th>168030</th>\n",
       "      <td>1</td>\n",
       "      <td>1</td>\n",
       "      <td>0</td>\n",
       "      <td>1</td>\n",
       "      <td>0</td>\n",
       "      <td>0</td>\n",
       "      <td>0</td>\n",
       "      <td>0</td>\n",
       "      <td>0</td>\n",
       "      <td>0</td>\n",
       "      <td>...</td>\n",
       "      <td>0</td>\n",
       "      <td>0</td>\n",
       "      <td>1</td>\n",
       "      <td>0</td>\n",
       "      <td>0</td>\n",
       "      <td>0</td>\n",
       "      <td>1</td>\n",
       "      <td>0</td>\n",
       "      <td>0</td>\n",
       "      <td>0</td>\n",
       "    </tr>\n",
       "    <tr>\n",
       "      <th>168031</th>\n",
       "      <td>1</td>\n",
       "      <td>0</td>\n",
       "      <td>1</td>\n",
       "      <td>1</td>\n",
       "      <td>0</td>\n",
       "      <td>0</td>\n",
       "      <td>0</td>\n",
       "      <td>0</td>\n",
       "      <td>0</td>\n",
       "      <td>0</td>\n",
       "      <td>...</td>\n",
       "      <td>0</td>\n",
       "      <td>0</td>\n",
       "      <td>1</td>\n",
       "      <td>0</td>\n",
       "      <td>0</td>\n",
       "      <td>0</td>\n",
       "      <td>1</td>\n",
       "      <td>0</td>\n",
       "      <td>0</td>\n",
       "      <td>0</td>\n",
       "    </tr>\n",
       "    <tr>\n",
       "      <th>168032</th>\n",
       "      <td>1</td>\n",
       "      <td>0</td>\n",
       "      <td>1</td>\n",
       "      <td>1</td>\n",
       "      <td>0</td>\n",
       "      <td>0</td>\n",
       "      <td>0</td>\n",
       "      <td>0</td>\n",
       "      <td>0</td>\n",
       "      <td>0</td>\n",
       "      <td>...</td>\n",
       "      <td>0</td>\n",
       "      <td>0</td>\n",
       "      <td>1</td>\n",
       "      <td>0</td>\n",
       "      <td>0</td>\n",
       "      <td>0</td>\n",
       "      <td>1</td>\n",
       "      <td>0</td>\n",
       "      <td>0</td>\n",
       "      <td>0</td>\n",
       "    </tr>\n",
       "    <tr>\n",
       "      <th>168033</th>\n",
       "      <td>1</td>\n",
       "      <td>0</td>\n",
       "      <td>1</td>\n",
       "      <td>1</td>\n",
       "      <td>0</td>\n",
       "      <td>0</td>\n",
       "      <td>0</td>\n",
       "      <td>1</td>\n",
       "      <td>0</td>\n",
       "      <td>0</td>\n",
       "      <td>...</td>\n",
       "      <td>0</td>\n",
       "      <td>0</td>\n",
       "      <td>1</td>\n",
       "      <td>0</td>\n",
       "      <td>0</td>\n",
       "      <td>0</td>\n",
       "      <td>1</td>\n",
       "      <td>0</td>\n",
       "      <td>0</td>\n",
       "      <td>0</td>\n",
       "    </tr>\n",
       "  </tbody>\n",
       "</table>\n",
       "<p>167622 rows × 24 columns</p>\n",
       "</div>"
      ],
      "text/plain": [
       "        patient_financing  Female  Male  Not smoking  Smoking  Flu  \\\n",
       "0                       0       1     0            1        0    0   \n",
       "1                       0       1     0            1        0    0   \n",
       "2                       0       1     0            1        0    0   \n",
       "3                       0       1     0            1        0    0   \n",
       "4                       0       0     1            0        1    0   \n",
       "...                   ...     ...   ...          ...      ...  ...   \n",
       "168029                  0       0     1            1        0    0   \n",
       "168030                  1       1     0            1        0    0   \n",
       "168031                  1       0     1            1        0    0   \n",
       "168032                  1       0     1            1        0    0   \n",
       "168033                  1       0     1            1        0    0   \n",
       "\n",
       "        General examination  ISPA  Pencernaan  age 21 - 34  ...  Pancaroba  \\\n",
       "0                         0     0           0            1  ...          0   \n",
       "1                         0     0           0            1  ...          0   \n",
       "2                         0     0           0            1  ...          0   \n",
       "3                         0     0           0            1  ...          0   \n",
       "4                         0     0           0            1  ...          0   \n",
       "...                     ...   ...         ...          ...  ...        ...   \n",
       "168029                    0     0           0            0  ...          0   \n",
       "168030                    0     0           0            0  ...          0   \n",
       "168031                    0     0           0            0  ...          0   \n",
       "168032                    0     0           0            0  ...          0   \n",
       "168033                    0     1           0            0  ...          0   \n",
       "\n",
       "        Penghujan  BPJS  Non BPJS  Perusahaan  Pribadi  Bekasi  \\\n",
       "0               1     0         0           0        1       0   \n",
       "1               1     0         0           0        1       0   \n",
       "2               1     0         0           0        1       0   \n",
       "3               1     0         0           0        1       0   \n",
       "4               1     0         0           0        1       0   \n",
       "...           ...   ...       ...         ...      ...     ...   \n",
       "168029          0     0         0           0        1       1   \n",
       "168030          0     1         0           0        0       1   \n",
       "168031          0     1         0           0        0       1   \n",
       "168032          0     1         0           0        0       1   \n",
       "168033          0     1         0           0        0       1   \n",
       "\n",
       "        Kab. Lampung Tengah  Kota Jakarta Timur  Tangerang  \n",
       "0                         0                   0          0  \n",
       "1                         0                   0          0  \n",
       "2                         0                   0          0  \n",
       "3                         0                   0          0  \n",
       "4                         0                   0          0  \n",
       "...                     ...                 ...        ...  \n",
       "168029                    0                   0          0  \n",
       "168030                    0                   0          0  \n",
       "168031                    0                   0          0  \n",
       "168032                    0                   0          0  \n",
       "168033                    0                   0          0  \n",
       "\n",
       "[167622 rows x 24 columns]"
      ]
     },
     "execution_count": 100,
     "metadata": {},
     "output_type": "execute_result"
    }
   ],
   "source": [
    "data_cluster"
   ]
  },
  {
   "cell_type": "markdown",
   "id": "e13d8118",
   "metadata": {},
   "source": [
    "**Split**"
   ]
  },
  {
   "cell_type": "code",
   "execution_count": 101,
   "id": "2e660cd2",
   "metadata": {},
   "outputs": [],
   "source": [
    "X = data_cluster\n",
    "y = data_cluster['patient_financing']"
   ]
  },
  {
   "cell_type": "code",
   "execution_count": 102,
   "id": "0e334514",
   "metadata": {},
   "outputs": [
    {
     "data": {
      "text/html": [
       "<div>\n",
       "<style scoped>\n",
       "    .dataframe tbody tr th:only-of-type {\n",
       "        vertical-align: middle;\n",
       "    }\n",
       "\n",
       "    .dataframe tbody tr th {\n",
       "        vertical-align: top;\n",
       "    }\n",
       "\n",
       "    .dataframe thead th {\n",
       "        text-align: right;\n",
       "    }\n",
       "</style>\n",
       "<table border=\"1\" class=\"dataframe\">\n",
       "  <thead>\n",
       "    <tr style=\"text-align: right;\">\n",
       "      <th></th>\n",
       "      <th>patient_financing</th>\n",
       "      <th>Female</th>\n",
       "      <th>Male</th>\n",
       "      <th>Not smoking</th>\n",
       "      <th>Smoking</th>\n",
       "      <th>Flu</th>\n",
       "      <th>General examination</th>\n",
       "      <th>ISPA</th>\n",
       "      <th>Pencernaan</th>\n",
       "      <th>age 21 - 34</th>\n",
       "      <th>...</th>\n",
       "      <th>Pancaroba</th>\n",
       "      <th>Penghujan</th>\n",
       "      <th>BPJS</th>\n",
       "      <th>Non BPJS</th>\n",
       "      <th>Perusahaan</th>\n",
       "      <th>Pribadi</th>\n",
       "      <th>Bekasi</th>\n",
       "      <th>Kab. Lampung Tengah</th>\n",
       "      <th>Kota Jakarta Timur</th>\n",
       "      <th>Tangerang</th>\n",
       "    </tr>\n",
       "  </thead>\n",
       "  <tbody>\n",
       "    <tr>\n",
       "      <th>0</th>\n",
       "      <td>0</td>\n",
       "      <td>1</td>\n",
       "      <td>0</td>\n",
       "      <td>1</td>\n",
       "      <td>0</td>\n",
       "      <td>0</td>\n",
       "      <td>0</td>\n",
       "      <td>0</td>\n",
       "      <td>0</td>\n",
       "      <td>1</td>\n",
       "      <td>...</td>\n",
       "      <td>0</td>\n",
       "      <td>1</td>\n",
       "      <td>0</td>\n",
       "      <td>0</td>\n",
       "      <td>0</td>\n",
       "      <td>1</td>\n",
       "      <td>0</td>\n",
       "      <td>0</td>\n",
       "      <td>0</td>\n",
       "      <td>0</td>\n",
       "    </tr>\n",
       "    <tr>\n",
       "      <th>1</th>\n",
       "      <td>0</td>\n",
       "      <td>1</td>\n",
       "      <td>0</td>\n",
       "      <td>1</td>\n",
       "      <td>0</td>\n",
       "      <td>0</td>\n",
       "      <td>0</td>\n",
       "      <td>0</td>\n",
       "      <td>0</td>\n",
       "      <td>1</td>\n",
       "      <td>...</td>\n",
       "      <td>0</td>\n",
       "      <td>1</td>\n",
       "      <td>0</td>\n",
       "      <td>0</td>\n",
       "      <td>0</td>\n",
       "      <td>1</td>\n",
       "      <td>0</td>\n",
       "      <td>0</td>\n",
       "      <td>0</td>\n",
       "      <td>0</td>\n",
       "    </tr>\n",
       "    <tr>\n",
       "      <th>2</th>\n",
       "      <td>0</td>\n",
       "      <td>1</td>\n",
       "      <td>0</td>\n",
       "      <td>1</td>\n",
       "      <td>0</td>\n",
       "      <td>0</td>\n",
       "      <td>0</td>\n",
       "      <td>0</td>\n",
       "      <td>0</td>\n",
       "      <td>1</td>\n",
       "      <td>...</td>\n",
       "      <td>0</td>\n",
       "      <td>1</td>\n",
       "      <td>0</td>\n",
       "      <td>0</td>\n",
       "      <td>0</td>\n",
       "      <td>1</td>\n",
       "      <td>0</td>\n",
       "      <td>0</td>\n",
       "      <td>0</td>\n",
       "      <td>0</td>\n",
       "    </tr>\n",
       "    <tr>\n",
       "      <th>3</th>\n",
       "      <td>0</td>\n",
       "      <td>1</td>\n",
       "      <td>0</td>\n",
       "      <td>1</td>\n",
       "      <td>0</td>\n",
       "      <td>0</td>\n",
       "      <td>0</td>\n",
       "      <td>0</td>\n",
       "      <td>0</td>\n",
       "      <td>1</td>\n",
       "      <td>...</td>\n",
       "      <td>0</td>\n",
       "      <td>1</td>\n",
       "      <td>0</td>\n",
       "      <td>0</td>\n",
       "      <td>0</td>\n",
       "      <td>1</td>\n",
       "      <td>0</td>\n",
       "      <td>0</td>\n",
       "      <td>0</td>\n",
       "      <td>0</td>\n",
       "    </tr>\n",
       "    <tr>\n",
       "      <th>4</th>\n",
       "      <td>0</td>\n",
       "      <td>0</td>\n",
       "      <td>1</td>\n",
       "      <td>0</td>\n",
       "      <td>1</td>\n",
       "      <td>0</td>\n",
       "      <td>0</td>\n",
       "      <td>0</td>\n",
       "      <td>0</td>\n",
       "      <td>1</td>\n",
       "      <td>...</td>\n",
       "      <td>0</td>\n",
       "      <td>1</td>\n",
       "      <td>0</td>\n",
       "      <td>0</td>\n",
       "      <td>0</td>\n",
       "      <td>1</td>\n",
       "      <td>0</td>\n",
       "      <td>0</td>\n",
       "      <td>0</td>\n",
       "      <td>0</td>\n",
       "    </tr>\n",
       "    <tr>\n",
       "      <th>...</th>\n",
       "      <td>...</td>\n",
       "      <td>...</td>\n",
       "      <td>...</td>\n",
       "      <td>...</td>\n",
       "      <td>...</td>\n",
       "      <td>...</td>\n",
       "      <td>...</td>\n",
       "      <td>...</td>\n",
       "      <td>...</td>\n",
       "      <td>...</td>\n",
       "      <td>...</td>\n",
       "      <td>...</td>\n",
       "      <td>...</td>\n",
       "      <td>...</td>\n",
       "      <td>...</td>\n",
       "      <td>...</td>\n",
       "      <td>...</td>\n",
       "      <td>...</td>\n",
       "      <td>...</td>\n",
       "      <td>...</td>\n",
       "      <td>...</td>\n",
       "    </tr>\n",
       "    <tr>\n",
       "      <th>168029</th>\n",
       "      <td>0</td>\n",
       "      <td>0</td>\n",
       "      <td>1</td>\n",
       "      <td>1</td>\n",
       "      <td>0</td>\n",
       "      <td>0</td>\n",
       "      <td>0</td>\n",
       "      <td>0</td>\n",
       "      <td>0</td>\n",
       "      <td>0</td>\n",
       "      <td>...</td>\n",
       "      <td>0</td>\n",
       "      <td>0</td>\n",
       "      <td>0</td>\n",
       "      <td>0</td>\n",
       "      <td>0</td>\n",
       "      <td>1</td>\n",
       "      <td>1</td>\n",
       "      <td>0</td>\n",
       "      <td>0</td>\n",
       "      <td>0</td>\n",
       "    </tr>\n",
       "    <tr>\n",
       "      <th>168030</th>\n",
       "      <td>1</td>\n",
       "      <td>1</td>\n",
       "      <td>0</td>\n",
       "      <td>1</td>\n",
       "      <td>0</td>\n",
       "      <td>0</td>\n",
       "      <td>0</td>\n",
       "      <td>0</td>\n",
       "      <td>0</td>\n",
       "      <td>0</td>\n",
       "      <td>...</td>\n",
       "      <td>0</td>\n",
       "      <td>0</td>\n",
       "      <td>1</td>\n",
       "      <td>0</td>\n",
       "      <td>0</td>\n",
       "      <td>0</td>\n",
       "      <td>1</td>\n",
       "      <td>0</td>\n",
       "      <td>0</td>\n",
       "      <td>0</td>\n",
       "    </tr>\n",
       "    <tr>\n",
       "      <th>168031</th>\n",
       "      <td>1</td>\n",
       "      <td>0</td>\n",
       "      <td>1</td>\n",
       "      <td>1</td>\n",
       "      <td>0</td>\n",
       "      <td>0</td>\n",
       "      <td>0</td>\n",
       "      <td>0</td>\n",
       "      <td>0</td>\n",
       "      <td>0</td>\n",
       "      <td>...</td>\n",
       "      <td>0</td>\n",
       "      <td>0</td>\n",
       "      <td>1</td>\n",
       "      <td>0</td>\n",
       "      <td>0</td>\n",
       "      <td>0</td>\n",
       "      <td>1</td>\n",
       "      <td>0</td>\n",
       "      <td>0</td>\n",
       "      <td>0</td>\n",
       "    </tr>\n",
       "    <tr>\n",
       "      <th>168032</th>\n",
       "      <td>1</td>\n",
       "      <td>0</td>\n",
       "      <td>1</td>\n",
       "      <td>1</td>\n",
       "      <td>0</td>\n",
       "      <td>0</td>\n",
       "      <td>0</td>\n",
       "      <td>0</td>\n",
       "      <td>0</td>\n",
       "      <td>0</td>\n",
       "      <td>...</td>\n",
       "      <td>0</td>\n",
       "      <td>0</td>\n",
       "      <td>1</td>\n",
       "      <td>0</td>\n",
       "      <td>0</td>\n",
       "      <td>0</td>\n",
       "      <td>1</td>\n",
       "      <td>0</td>\n",
       "      <td>0</td>\n",
       "      <td>0</td>\n",
       "    </tr>\n",
       "    <tr>\n",
       "      <th>168033</th>\n",
       "      <td>1</td>\n",
       "      <td>0</td>\n",
       "      <td>1</td>\n",
       "      <td>1</td>\n",
       "      <td>0</td>\n",
       "      <td>0</td>\n",
       "      <td>0</td>\n",
       "      <td>1</td>\n",
       "      <td>0</td>\n",
       "      <td>0</td>\n",
       "      <td>...</td>\n",
       "      <td>0</td>\n",
       "      <td>0</td>\n",
       "      <td>1</td>\n",
       "      <td>0</td>\n",
       "      <td>0</td>\n",
       "      <td>0</td>\n",
       "      <td>1</td>\n",
       "      <td>0</td>\n",
       "      <td>0</td>\n",
       "      <td>0</td>\n",
       "    </tr>\n",
       "  </tbody>\n",
       "</table>\n",
       "<p>167622 rows × 24 columns</p>\n",
       "</div>"
      ],
      "text/plain": [
       "        patient_financing  Female  Male  Not smoking  Smoking  Flu  \\\n",
       "0                       0       1     0            1        0    0   \n",
       "1                       0       1     0            1        0    0   \n",
       "2                       0       1     0            1        0    0   \n",
       "3                       0       1     0            1        0    0   \n",
       "4                       0       0     1            0        1    0   \n",
       "...                   ...     ...   ...          ...      ...  ...   \n",
       "168029                  0       0     1            1        0    0   \n",
       "168030                  1       1     0            1        0    0   \n",
       "168031                  1       0     1            1        0    0   \n",
       "168032                  1       0     1            1        0    0   \n",
       "168033                  1       0     1            1        0    0   \n",
       "\n",
       "        General examination  ISPA  Pencernaan  age 21 - 34  ...  Pancaroba  \\\n",
       "0                         0     0           0            1  ...          0   \n",
       "1                         0     0           0            1  ...          0   \n",
       "2                         0     0           0            1  ...          0   \n",
       "3                         0     0           0            1  ...          0   \n",
       "4                         0     0           0            1  ...          0   \n",
       "...                     ...   ...         ...          ...  ...        ...   \n",
       "168029                    0     0           0            0  ...          0   \n",
       "168030                    0     0           0            0  ...          0   \n",
       "168031                    0     0           0            0  ...          0   \n",
       "168032                    0     0           0            0  ...          0   \n",
       "168033                    0     1           0            0  ...          0   \n",
       "\n",
       "        Penghujan  BPJS  Non BPJS  Perusahaan  Pribadi  Bekasi  \\\n",
       "0               1     0         0           0        1       0   \n",
       "1               1     0         0           0        1       0   \n",
       "2               1     0         0           0        1       0   \n",
       "3               1     0         0           0        1       0   \n",
       "4               1     0         0           0        1       0   \n",
       "...           ...   ...       ...         ...      ...     ...   \n",
       "168029          0     0         0           0        1       1   \n",
       "168030          0     1         0           0        0       1   \n",
       "168031          0     1         0           0        0       1   \n",
       "168032          0     1         0           0        0       1   \n",
       "168033          0     1         0           0        0       1   \n",
       "\n",
       "        Kab. Lampung Tengah  Kota Jakarta Timur  Tangerang  \n",
       "0                         0                   0          0  \n",
       "1                         0                   0          0  \n",
       "2                         0                   0          0  \n",
       "3                         0                   0          0  \n",
       "4                         0                   0          0  \n",
       "...                     ...                 ...        ...  \n",
       "168029                    0                   0          0  \n",
       "168030                    0                   0          0  \n",
       "168031                    0                   0          0  \n",
       "168032                    0                   0          0  \n",
       "168033                    0                   0          0  \n",
       "\n",
       "[167622 rows x 24 columns]"
      ]
     },
     "execution_count": 102,
     "metadata": {},
     "output_type": "execute_result"
    }
   ],
   "source": [
    "X"
   ]
  },
  {
   "cell_type": "code",
   "execution_count": 103,
   "id": "93b15c4e",
   "metadata": {},
   "outputs": [
    {
     "data": {
      "text/plain": [
       "KMeans(n_clusters=3, random_state=0)"
      ]
     },
     "execution_count": 103,
     "metadata": {},
     "output_type": "execute_result"
    }
   ],
   "source": [
    "from sklearn.cluster import KMeans\n",
    "\n",
    "kmeans = KMeans(n_clusters=3, random_state=0) \n",
    "\n",
    "kmeans.fit(X)"
   ]
  },
  {
   "cell_type": "code",
   "execution_count": 104,
   "id": "93039bb9",
   "metadata": {},
   "outputs": [
    {
     "data": {
      "text/plain": [
       "array([[ 1.00455053e+00,  4.81836793e-14,  1.00000000e+00,\n",
       "         9.47524097e-01,  5.24759029e-02,  1.11570761e-01,\n",
       "         2.25458156e-03,  9.03280520e-02,  6.47002854e-02,\n",
       "         1.70169197e-01,  2.40805858e-01,  3.18454474e-01,\n",
       "         2.70570471e-01,  2.26947421e-01,  4.09030737e-01,\n",
       "         3.64021843e-01,  9.75220287e-01,  2.02291813e-02,\n",
       "         4.55053158e-03,  2.00395256e-14,  4.67153436e-01,\n",
       "         2.89579283e-04,  4.64774749e-02,  6.02324908e-02],\n",
       "       [-5.69544412e-14,  5.32091064e-01,  4.67908936e-01,\n",
       "         9.76835086e-01,  2.31649144e-02,  5.61733221e-02,\n",
       "         1.40026483e-01,  4.96482188e-02,  5.95395734e-02,\n",
       "         3.07605175e-01,  2.33834814e-01,  2.44906750e-01,\n",
       "         2.13653260e-01,  2.32877587e-01,  4.50471435e-01,\n",
       "         3.16650979e-01,  3.29736238e-14, -2.74953671e-15,\n",
       "        -5.38631639e-16,  1.00000000e+00,  2.25443117e-01,\n",
       "         5.90130981e-02,  2.86370671e-02,  1.79958839e-02],\n",
       "       [ 1.00289778e+00,  1.00000000e+00, -4.83502127e-14,\n",
       "         9.99257885e-01,  7.42115028e-04,  8.82763495e-02,\n",
       "         2.12032865e-03,  7.38227759e-02,  8.34172630e-02,\n",
       "         2.29384221e-01,  2.65942221e-01,  2.32776747e-01,\n",
       "         2.71896811e-01,  2.33554201e-01,  3.99045852e-01,\n",
       "         3.67399947e-01,  9.74803428e-01,  2.22987896e-02,\n",
       "         2.89778249e-03, -3.64708264e-14,  4.70624613e-01,\n",
       "         4.77073946e-04,  4.41911830e-02,  6.87869953e-02]])"
      ]
     },
     "execution_count": 104,
     "metadata": {},
     "output_type": "execute_result"
    }
   ],
   "source": [
    "kmeans.cluster_centers_"
   ]
  },
  {
   "cell_type": "code",
   "execution_count": 105,
   "id": "26517388",
   "metadata": {},
   "outputs": [
    {
     "data": {
      "text/plain": [
       "374072.56059718045"
      ]
     },
     "execution_count": 105,
     "metadata": {},
     "output_type": "execute_result"
    }
   ],
   "source": [
    "kmeans.inertia_"
   ]
  },
  {
   "cell_type": "code",
   "execution_count": 106,
   "id": "0ffbd842",
   "metadata": {},
   "outputs": [
    {
     "data": {
      "image/png": "[encoded data removed]",
      "text/plain": [
       "<Figure size 432x288 with 1 Axes>"
      ]
     },
     "metadata": {
      "needs_background": "light"
     },
     "output_type": "display_data"
    }
   ],
   "source": [
    "distortions = []\n",
    "for i in range(1, 11):\n",
    "    km = KMeans(n_clusters=i, init='random', max_iter=300, random_state=0)\n",
    "    km.fit(X)\n",
    "    distortions.append(km.inertia_) \n",
    "    # Inertia is the sum of squared distances of samples to their closest cluster center.\n",
    "    # Elbow method shows that the best K is 2 (probably 3 can be better)\n",
    "\n",
    "# plot\n",
    "plt.plot(range(1, 11), distortions, marker='o')\n",
    "plt.xlabel('Number of clusters')\n",
    "plt.ylabel('Distortion')\n",
    "plt.show()"
   ]
  },
  {
   "cell_type": "code",
   "execution_count": 107,
   "id": "96519b48",
   "metadata": {},
   "outputs": [],
   "source": [
    "kmeans = KMeans(n_clusters = 3, init = 'k-means++', max_iter = 300, n_init = 10, random_state = 0)\n",
    "kmeans.fit(X)\n",
    "labels = kmeans.labels_"
   ]
  },
  {
   "cell_type": "code",
   "execution_count": 108,
   "id": "554c29d3",
   "metadata": {},
   "outputs": [],
   "source": [
    "X_cluster = pd.DataFrame(data_cluster)\n",
    "X_cluster['kelompok'] = labels\n"
   ]
  },
  {
   "cell_type": "code",
   "execution_count": 109,
   "id": "32ac27e0",
   "metadata": {},
   "outputs": [
    {
     "data": {
      "text/html": [
       "<div>\n",
       "<style scoped>\n",
       "    .dataframe tbody tr th:only-of-type {\n",
       "        vertical-align: middle;\n",
       "    }\n",
       "\n",
       "    .dataframe tbody tr th {\n",
       "        vertical-align: top;\n",
       "    }\n",
       "\n",
       "    .dataframe thead th {\n",
       "        text-align: right;\n",
       "    }\n",
       "</style>\n",
       "<table border=\"1\" class=\"dataframe\">\n",
       "  <thead>\n",
       "    <tr style=\"text-align: right;\">\n",
       "      <th></th>\n",
       "      <th>kelompok</th>\n",
       "      <th>patient_financing</th>\n",
       "    </tr>\n",
       "  </thead>\n",
       "  <tbody>\n",
       "    <tr>\n",
       "      <th>0</th>\n",
       "      <td>0</td>\n",
       "      <td>48346</td>\n",
       "    </tr>\n",
       "    <tr>\n",
       "      <th>1</th>\n",
       "      <td>1</td>\n",
       "      <td>62681</td>\n",
       "    </tr>\n",
       "    <tr>\n",
       "      <th>2</th>\n",
       "      <td>2</td>\n",
       "      <td>56595</td>\n",
       "    </tr>\n",
       "  </tbody>\n",
       "</table>\n",
       "</div>"
      ],
      "text/plain": [
       "   kelompok  patient_financing\n",
       "0         0              48346\n",
       "1         1              62681\n",
       "2         2              56595"
      ]
     },
     "execution_count": 109,
     "metadata": {},
     "output_type": "execute_result"
    }
   ],
   "source": [
    "X_cluster.groupby('kelompok').agg({'patient_financing':'count'}).reset_index()"
   ]
  },
  {
   "cell_type": "code",
   "execution_count": 110,
   "id": "9dadabd5",
   "metadata": {},
   "outputs": [
    {
     "data": {
      "text/html": [
       "<div>\n",
       "<style scoped>\n",
       "    .dataframe tbody tr th:only-of-type {\n",
       "        vertical-align: middle;\n",
       "    }\n",
       "\n",
       "    .dataframe tbody tr th {\n",
       "        vertical-align: top;\n",
       "    }\n",
       "\n",
       "    .dataframe thead th {\n",
       "        text-align: right;\n",
       "    }\n",
       "</style>\n",
       "<table border=\"1\" class=\"dataframe\">\n",
       "  <thead>\n",
       "    <tr style=\"text-align: right;\">\n",
       "      <th></th>\n",
       "      <th>kelompok</th>\n",
       "      <th>Female</th>\n",
       "      <th>Male</th>\n",
       "      <th>Not smoking</th>\n",
       "      <th>Smoking</th>\n",
       "      <th>Flu</th>\n",
       "      <th>General examination</th>\n",
       "      <th>ISPA</th>\n",
       "      <th>Pencernaan</th>\n",
       "      <th>age 21 - 34</th>\n",
       "      <th>age 35 - 51</th>\n",
       "      <th>age &lt;= 20</th>\n",
       "      <th>age &gt; 51</th>\n",
       "      <th>Kemarau</th>\n",
       "      <th>Pancaroba</th>\n",
       "      <th>Penghujan</th>\n",
       "      <th>Bekasi</th>\n",
       "      <th>Kab. Lampung Tengah</th>\n",
       "      <th>Kota Jakarta Timur</th>\n",
       "      <th>Tangerang</th>\n",
       "    </tr>\n",
       "  </thead>\n",
       "  <tbody>\n",
       "    <tr>\n",
       "      <th>0</th>\n",
       "      <td>0</td>\n",
       "      <td>0.000000</td>\n",
       "      <td>1.000000</td>\n",
       "      <td>0.947524</td>\n",
       "      <td>0.052476</td>\n",
       "      <td>0.111571</td>\n",
       "      <td>0.002255</td>\n",
       "      <td>0.090328</td>\n",
       "      <td>0.064700</td>\n",
       "      <td>0.170169</td>\n",
       "      <td>0.240806</td>\n",
       "      <td>0.318454</td>\n",
       "      <td>0.270570</td>\n",
       "      <td>0.226947</td>\n",
       "      <td>0.409031</td>\n",
       "      <td>0.364022</td>\n",
       "      <td>0.467153</td>\n",
       "      <td>0.000290</td>\n",
       "      <td>0.046477</td>\n",
       "      <td>0.060232</td>\n",
       "    </tr>\n",
       "    <tr>\n",
       "      <th>1</th>\n",
       "      <td>1</td>\n",
       "      <td>0.532091</td>\n",
       "      <td>0.467909</td>\n",
       "      <td>0.976835</td>\n",
       "      <td>0.023165</td>\n",
       "      <td>0.056173</td>\n",
       "      <td>0.140026</td>\n",
       "      <td>0.049648</td>\n",
       "      <td>0.059540</td>\n",
       "      <td>0.307605</td>\n",
       "      <td>0.233835</td>\n",
       "      <td>0.244907</td>\n",
       "      <td>0.213653</td>\n",
       "      <td>0.232878</td>\n",
       "      <td>0.450471</td>\n",
       "      <td>0.316651</td>\n",
       "      <td>0.225443</td>\n",
       "      <td>0.059013</td>\n",
       "      <td>0.028637</td>\n",
       "      <td>0.017996</td>\n",
       "    </tr>\n",
       "    <tr>\n",
       "      <th>2</th>\n",
       "      <td>2</td>\n",
       "      <td>1.000000</td>\n",
       "      <td>0.000000</td>\n",
       "      <td>0.999258</td>\n",
       "      <td>0.000742</td>\n",
       "      <td>0.088276</td>\n",
       "      <td>0.002120</td>\n",
       "      <td>0.073823</td>\n",
       "      <td>0.083417</td>\n",
       "      <td>0.229384</td>\n",
       "      <td>0.265942</td>\n",
       "      <td>0.232777</td>\n",
       "      <td>0.271897</td>\n",
       "      <td>0.233554</td>\n",
       "      <td>0.399046</td>\n",
       "      <td>0.367400</td>\n",
       "      <td>0.470625</td>\n",
       "      <td>0.000477</td>\n",
       "      <td>0.044191</td>\n",
       "      <td>0.068787</td>\n",
       "    </tr>\n",
       "  </tbody>\n",
       "</table>\n",
       "</div>"
      ],
      "text/plain": [
       "   kelompok    Female      Male  Not smoking   Smoking       Flu  \\\n",
       "0         0  0.000000  1.000000     0.947524  0.052476  0.111571   \n",
       "1         1  0.532091  0.467909     0.976835  0.023165  0.056173   \n",
       "2         2  1.000000  0.000000     0.999258  0.000742  0.088276   \n",
       "\n",
       "   General examination      ISPA  Pencernaan  age 21 - 34  age 35 - 51  \\\n",
       "0             0.002255  0.090328    0.064700     0.170169     0.240806   \n",
       "1             0.140026  0.049648    0.059540     0.307605     0.233835   \n",
       "2             0.002120  0.073823    0.083417     0.229384     0.265942   \n",
       "\n",
       "   age <= 20  age > 51   Kemarau  Pancaroba  Penghujan    Bekasi  \\\n",
       "0   0.318454  0.270570  0.226947   0.409031   0.364022  0.467153   \n",
       "1   0.244907  0.213653  0.232878   0.450471   0.316651  0.225443   \n",
       "2   0.232777  0.271897  0.233554   0.399046   0.367400  0.470625   \n",
       "\n",
       "   Kab. Lampung Tengah  Kota Jakarta Timur  Tangerang  \n",
       "0             0.000290            0.046477   0.060232  \n",
       "1             0.059013            0.028637   0.017996  \n",
       "2             0.000477            0.044191   0.068787  "
      ]
     },
     "execution_count": 110,
     "metadata": {},
     "output_type": "execute_result"
    }
   ],
   "source": [
    "X_cluster.groupby(['kelompok']).agg({'Female':'mean','Male':'mean','Not smoking':'mean','Smoking':'mean',\n",
    "                                'Flu':'mean','General examination':'mean','ISPA':'mean','Pencernaan':'mean',\n",
    "                                'age 21 - 34':'mean','age 35 - 51':'mean', 'age <= 20':'mean','age > 51':'mean',\n",
    "                                'Kemarau':'mean','Pancaroba':'mean', 'Penghujan':'mean','Bekasi':'mean',\n",
    "                                'Kab. Lampung Tengah':'mean','Kota Jakarta Timur':'mean', 'Tangerang':'mean'\n",
    "                               }).reset_index()"
   ]
  },
  {
   "cell_type": "code",
   "execution_count": null,
   "id": "0353a198",
   "metadata": {},
   "outputs": [],
   "source": []
  }
 ],
 "metadata": {
  "colab": {
   "provenance": []
  },
  "kernelspec": {
   "display_name": "Python 3 (ipykernel)",
   "language": "python",
   "name": "python3"
  },
  "language_info": {
   "codemirror_mode": {
    "name": "ipython",
    "version": 3
   },
   "file_extension": ".py",
   "mimetype": "text/x-python",
   "name": "python",
   "nbconvert_exporter": "python",
   "pygments_lexer": "ipython3",
   "version": "3.9.12"
  }
 },
 "nbformat": 4,
 "nbformat_minor": 5
}
